{
  "nbformat": 4,
  "nbformat_minor": 0,
  "metadata": {
    "kernelspec": {
      "display_name": "Python 3",
      "language": "python",
      "name": "python3"
    },
    "language_info": {
      "codemirror_mode": {
        "name": "ipython",
        "version": 3
      },
      "file_extension": ".py",
      "mimetype": "text/x-python",
      "name": "python",
      "nbconvert_exporter": "python",
      "pygments_lexer": "ipython3",
      "version": "3.7.1"
    },
    "latex_envs": {
      "LaTeX_envs_menu_present": true,
      "autoclose": false,
      "autocomplete": true,
      "bibliofile": "biblio.bib",
      "cite_by": "apalike",
      "current_citInitial": 1,
      "eqLabelWithNumbers": true,
      "eqNumInitial": 1,
      "hotkeys": {
        "equation": "Ctrl-E",
        "itemize": "Ctrl-I"
      },
      "labels_anchors": false,
      "latex_user_defs": false,
      "report_style_numbering": false,
      "user_envs_cfg": false
    },
    "toc": {
      "base_numbering": 1,
      "nav_menu": {},
      "number_sections": true,
      "sideBar": true,
      "skip_h1_title": false,
      "title_cell": "Table of Contents",
      "title_sidebar": "Contents",
      "toc_cell": false,
      "toc_position": {},
      "toc_section_display": true,
      "toc_window_display": true
    },
    "colab": {
      "name": "task3_cnn_postag.ipynb",
      "provenance": [],
      "toc_visible": true
    },
    "accelerator": "GPU"
  },
  "cells": [
    {
      "cell_type": "code",
      "metadata": {
        "id": "wbc6oXwZks0F"
      },
      "source": [
        "import numpy as np\n",
        "import torch"
      ],
      "execution_count": 1,
      "outputs": []
    },
    {
      "cell_type": "markdown",
      "metadata": {
        "id": "h5K035b0nqWR"
      },
      "source": [
        "# Exercises"
      ]
    },
    {
      "cell_type": "code",
      "metadata": {
        "id": "1KtOwtunntwe",
        "colab": {
          "base_uri": "https://localhost:8080/"
        },
        "outputId": "21403617-b244-493d-85cc-6d23928ba013"
      },
      "source": [
        "x = torch.tensor([[1, 1, 0, 0, 1], [0, 1, 0, 1, 0]]).T\n",
        "print(x.shape)\n",
        "krn = torch.tensor([[1, 1, 0], [0, 1, 1]])\n",
        "print(krn.shape)\n",
        "b = 0\n",
        "K = krn.shape[1]\n",
        "n_in, n_ch = x.shape\n",
        "n_out = n_in - K + 1\n",
        "y = torch.zeros(n_out)\n",
        "for pos in range(n_out):\n",
        "    cur_v = 0\n",
        "    for k in range(0, K):\n",
        "        cur_v += torch.dot(x[pos + k], krn[:, k])\n",
        "    y[pos] = b + cur_v\n",
        "    \n",
        "krn = torch.tensor([[[1, 1, 0], [0, 1, 1]], [[1, 0, 0], [0, 0, 1]]])\n",
        "print(krn.shape)\n",
        "K1, K = krn.shape[0], krn.shape[2]\n",
        "n_in, n_ch = x.shape\n",
        "n_out = n_in - K + 1\n",
        "y = torch.zeros((n_out, K1))\n",
        "b = torch.zeros(K1)\n",
        "for pos in range(n_out):\n",
        "    cur_v = torch.tensordot(x[pos : pos + K, :], krn, dims=([0, 1], [2, 1]))\n",
        "    y[pos] = b + cur_v\n",
        "print(y.numpy())"
      ],
      "execution_count": null,
      "outputs": [
        {
          "output_type": "stream",
          "text": [
            "torch.Size([5, 2])\n",
            "torch.Size([2, 3])\n",
            "torch.Size([2, 2, 3])\n",
            "[[3. 1.]\n",
            " [2. 2.]\n",
            " [1. 0.]]\n"
          ],
          "name": "stdout"
        }
      ]
    },
    {
      "cell_type": "code",
      "metadata": {
        "id": "TQCXyl2Saa5v",
        "colab": {
          "base_uri": "https://localhost:8080/"
        },
        "outputId": "fdcf350f-b0b2-429c-d8b0-a33ec5d782cd"
      },
      "source": [
        "a = torch.tensor([1.,2.,3.])\n",
        "b = torch.tensor([[-1.,-2.,-3.], [0.1, 0.2, 0.1]]).T\n",
        "print(torch.mm(torch.unsqueeze(a, 0), b))\n",
        "print(torch.dot(a, b[:, 0]))\n",
        "print(torch.dot(a, b[:, 1]))\n"
      ],
      "execution_count": null,
      "outputs": [
        {
          "output_type": "stream",
          "text": [
            "tensor([[-14.0000,   0.8000]])\n",
            "tensor(-14.)\n",
            "tensor(0.8000)\n"
          ],
          "name": "stdout"
        }
      ]
    },
    {
      "cell_type": "markdown",
      "metadata": {
        "id": "Ws4Hrp4RjTQ7"
      },
      "source": [
        "# Свёрточные нейросети и POS-теггинг\n",
        "\n",
        "POS-теггинг - определение частей речи (снятие частеречной неоднозначности)"
      ]
    },
    {
      "cell_type": "code",
      "metadata": {
        "id": "3bTZv5X9jTRO",
        "colab": {
          "base_uri": "https://localhost:8080/"
        },
        "outputId": "bd2abb0b-c614-41f8-c007-cb5bc708207d"
      },
      "source": [
        "# Если Вы запускаете ноутбук на colab или kaggle,\n",
        "# выполните следующие строчки, чтобы подгрузить библиотеку dlnlputils:\n",
        "\n",
        "!git clone https://github.com/Samsung-IT-Academy/stepik-dl-nlp.git && pip install -r stepik-dl-nlp/requirements.txt\n",
        "import sys; sys.path.append('./stepik-dl-nlp')"
      ],
      "execution_count": 2,
      "outputs": [
        {
          "output_type": "stream",
          "text": [
            "fatal: destination path 'stepik-dl-nlp' already exists and is not an empty directory.\n"
          ],
          "name": "stdout"
        }
      ]
    },
    {
      "cell_type": "code",
      "metadata": {
        "ExecuteTime": {
          "end_time": "2019-10-29T19:42:57.976431Z",
          "start_time": "2019-10-29T19:42:57.959538Z"
        },
        "id": "j629aoU5jTRS",
        "colab": {
          "base_uri": "https://localhost:8080/"
        },
        "outputId": "89bee8d2-d83f-4fcf-f463-2af6b7c7f3d9"
      },
      "source": [
        "!pip install pyconll\n",
        "!pip install spacy_udpipe"
      ],
      "execution_count": 3,
      "outputs": [
        {
          "output_type": "stream",
          "text": [
            "Requirement already satisfied: pyconll in /usr/local/lib/python3.7/dist-packages (3.0.4)\n",
            "Requirement already satisfied: spacy_udpipe in /usr/local/lib/python3.7/dist-packages (0.3.2)\n",
            "Requirement already satisfied: spacy<3.0.0,>=2.1.0 in /usr/local/lib/python3.7/dist-packages (from spacy_udpipe) (2.2.4)\n",
            "Requirement already satisfied: ufal.udpipe>=1.2.0 in /usr/local/lib/python3.7/dist-packages (from spacy_udpipe) (1.2.0.3)\n",
            "Requirement already satisfied: catalogue<1.1.0,>=0.0.7 in /usr/local/lib/python3.7/dist-packages (from spacy<3.0.0,>=2.1.0->spacy_udpipe) (1.0.0)\n",
            "Requirement already satisfied: numpy>=1.15.0 in /usr/local/lib/python3.7/dist-packages (from spacy<3.0.0,>=2.1.0->spacy_udpipe) (1.19.5)\n",
            "Requirement already satisfied: plac<1.2.0,>=0.9.6 in /usr/local/lib/python3.7/dist-packages (from spacy<3.0.0,>=2.1.0->spacy_udpipe) (1.1.3)\n",
            "Requirement already satisfied: srsly<1.1.0,>=1.0.2 in /usr/local/lib/python3.7/dist-packages (from spacy<3.0.0,>=2.1.0->spacy_udpipe) (1.0.5)\n",
            "Requirement already satisfied: blis<0.5.0,>=0.4.0 in /usr/local/lib/python3.7/dist-packages (from spacy<3.0.0,>=2.1.0->spacy_udpipe) (0.4.1)\n",
            "Requirement already satisfied: requests<3.0.0,>=2.13.0 in /usr/local/lib/python3.7/dist-packages (from spacy<3.0.0,>=2.1.0->spacy_udpipe) (2.23.0)\n",
            "Requirement already satisfied: setuptools in /usr/local/lib/python3.7/dist-packages (from spacy<3.0.0,>=2.1.0->spacy_udpipe) (56.0.0)\n",
            "Requirement already satisfied: murmurhash<1.1.0,>=0.28.0 in /usr/local/lib/python3.7/dist-packages (from spacy<3.0.0,>=2.1.0->spacy_udpipe) (1.0.5)\n",
            "Requirement already satisfied: thinc==7.4.0 in /usr/local/lib/python3.7/dist-packages (from spacy<3.0.0,>=2.1.0->spacy_udpipe) (7.4.0)\n",
            "Requirement already satisfied: preshed<3.1.0,>=3.0.2 in /usr/local/lib/python3.7/dist-packages (from spacy<3.0.0,>=2.1.0->spacy_udpipe) (3.0.5)\n",
            "Requirement already satisfied: cymem<2.1.0,>=2.0.2 in /usr/local/lib/python3.7/dist-packages (from spacy<3.0.0,>=2.1.0->spacy_udpipe) (2.0.5)\n",
            "Requirement already satisfied: wasabi<1.1.0,>=0.4.0 in /usr/local/lib/python3.7/dist-packages (from spacy<3.0.0,>=2.1.0->spacy_udpipe) (0.8.2)\n",
            "Requirement already satisfied: tqdm<5.0.0,>=4.38.0 in /usr/local/lib/python3.7/dist-packages (from spacy<3.0.0,>=2.1.0->spacy_udpipe) (4.41.1)\n",
            "Requirement already satisfied: importlib-metadata>=0.20; python_version < \"3.8\" in /usr/local/lib/python3.7/dist-packages (from catalogue<1.1.0,>=0.0.7->spacy<3.0.0,>=2.1.0->spacy_udpipe) (3.10.1)\n",
            "Requirement already satisfied: idna<3,>=2.5 in /usr/local/lib/python3.7/dist-packages (from requests<3.0.0,>=2.13.0->spacy<3.0.0,>=2.1.0->spacy_udpipe) (2.10)\n",
            "Requirement already satisfied: certifi>=2017.4.17 in /usr/local/lib/python3.7/dist-packages (from requests<3.0.0,>=2.13.0->spacy<3.0.0,>=2.1.0->spacy_udpipe) (2020.12.5)\n",
            "Requirement already satisfied: chardet<4,>=3.0.2 in /usr/local/lib/python3.7/dist-packages (from requests<3.0.0,>=2.13.0->spacy<3.0.0,>=2.1.0->spacy_udpipe) (3.0.4)\n",
            "Requirement already satisfied: urllib3!=1.25.0,!=1.25.1,<1.26,>=1.21.1 in /usr/local/lib/python3.7/dist-packages (from requests<3.0.0,>=2.13.0->spacy<3.0.0,>=2.1.0->spacy_udpipe) (1.24.3)\n",
            "Requirement already satisfied: typing-extensions>=3.6.4; python_version < \"3.8\" in /usr/local/lib/python3.7/dist-packages (from importlib-metadata>=0.20; python_version < \"3.8\"->catalogue<1.1.0,>=0.0.7->spacy<3.0.0,>=2.1.0->spacy_udpipe) (3.7.4.3)\n",
            "Requirement already satisfied: zipp>=0.5 in /usr/local/lib/python3.7/dist-packages (from importlib-metadata>=0.20; python_version < \"3.8\"->catalogue<1.1.0,>=0.0.7->spacy<3.0.0,>=2.1.0->spacy_udpipe) (3.4.1)\n"
          ],
          "name": "stdout"
        }
      ]
    },
    {
      "cell_type": "code",
      "metadata": {
        "ExecuteTime": {
          "end_time": "2019-10-29T19:49:34.549739Z",
          "start_time": "2019-10-29T19:49:32.179692Z"
        },
        "id": "4P05ohGljTRU"
      },
      "source": [
        "%reload_ext autoreload\n",
        "%autoreload 2\n",
        "\n",
        "import warnings\n",
        "warnings.filterwarnings('ignore')\n",
        "\n",
        "from sklearn.metrics import classification_report\n",
        "\n",
        "import pyconll\n",
        "\n",
        "from torch import nn\n",
        "from torch.nn import functional as F\n",
        "from torch.utils.data import TensorDataset\n",
        "\n",
        "import dlnlputils\n",
        "from dlnlputils.data import tokenize_corpus, build_vocabulary, \\\n",
        "    character_tokenize, pos_corpus_to_tensor, POSTagger\n",
        "from dlnlputils.pipeline import train_eval_loop, predict_with_model, init_random_seed\n",
        "\n",
        "\n",
        "import gc\n",
        "\n",
        "init_random_seed()"
      ],
      "execution_count": 4,
      "outputs": []
    },
    {
      "cell_type": "markdown",
      "metadata": {
        "id": "c_z2s_SVjTRV"
      },
      "source": [
        "## Загрузка текстов и разбиение на обучающую и тестовую подвыборки"
      ]
    },
    {
      "cell_type": "code",
      "metadata": {
        "ExecuteTime": {
          "end_time": "2019-10-29T19:47:08.433599Z",
          "start_time": "2019-10-29T19:46:05.110693Z"
        },
        "id": "ES_3qyxMjTRX",
        "colab": {
          "base_uri": "https://localhost:8080/"
        },
        "outputId": "78522d57-ad4b-4750-fc2d-5aad6e70678b"
      },
      "source": [
        "# Если Вы запускаете ноутбук на colab или kaggle, добавьте в начало пути ./stepik-dl-nlp\n",
        "!wget -O ./stepik-dl-nlp/datasets/ru_syntagrus-ud-train.conllu https://raw.githubusercontent.com/UniversalDependencies/UD_Russian-SynTagRus/master/ru_syntagrus-ud-train.conllu\n",
        "!wget -O ./stepik-dl-nlp/datasets/ru_syntagrus-ud-dev.conllu https://raw.githubusercontent.com/UniversalDependencies/UD_Russian-SynTagRus/master/ru_syntagrus-ud-dev.conllu"
      ],
      "execution_count": 5,
      "outputs": [
        {
          "output_type": "stream",
          "text": [
            "--2021-04-23 20:55:16--  https://raw.githubusercontent.com/UniversalDependencies/UD_Russian-SynTagRus/master/ru_syntagrus-ud-train.conllu\n",
            "Resolving raw.githubusercontent.com (raw.githubusercontent.com)... 185.199.108.133, 185.199.109.133, 185.199.110.133, ...\n",
            "Connecting to raw.githubusercontent.com (raw.githubusercontent.com)|185.199.108.133|:443... connected.\n",
            "HTTP request sent, awaiting response... 200 OK\n",
            "Length: 81043533 (77M) [text/plain]\n",
            "Saving to: ‘./stepik-dl-nlp/datasets/ru_syntagrus-ud-train.conllu’\n",
            "\n",
            "./stepik-dl-nlp/dat 100%[===================>]  77.29M   275MB/s    in 0.3s    \n",
            "\n",
            "2021-04-23 20:55:16 (275 MB/s) - ‘./stepik-dl-nlp/datasets/ru_syntagrus-ud-train.conllu’ saved [81043533/81043533]\n",
            "\n",
            "--2021-04-23 20:55:16--  https://raw.githubusercontent.com/UniversalDependencies/UD_Russian-SynTagRus/master/ru_syntagrus-ud-dev.conllu\n",
            "Resolving raw.githubusercontent.com (raw.githubusercontent.com)... 185.199.108.133, 185.199.111.133, 185.199.109.133, ...\n",
            "Connecting to raw.githubusercontent.com (raw.githubusercontent.com)|185.199.108.133|:443... connected.\n",
            "HTTP request sent, awaiting response... 200 OK\n",
            "Length: 10903424 (10M) [text/plain]\n",
            "Saving to: ‘./stepik-dl-nlp/datasets/ru_syntagrus-ud-dev.conllu’\n",
            "\n",
            "./stepik-dl-nlp/dat 100%[===================>]  10.40M  --.-KB/s    in 0.08s   \n",
            "\n",
            "2021-04-23 20:55:16 (125 MB/s) - ‘./stepik-dl-nlp/datasets/ru_syntagrus-ud-dev.conllu’ saved [10903424/10903424]\n",
            "\n"
          ],
          "name": "stdout"
        }
      ]
    },
    {
      "cell_type": "code",
      "metadata": {
        "ExecuteTime": {
          "end_time": "2019-10-29T19:49:56.525561Z",
          "start_time": "2019-10-29T19:49:37.315213Z"
        },
        "id": "CqX_0_aEjTRZ"
      },
      "source": [
        "# Если Вы запускаете ноутбук на colab или kaggle, добавьте в начало пути ./stepik-dl-nlp\n",
        "full_train = pyconll.load_from_file('./stepik-dl-nlp/datasets/ru_syntagrus-ud-train.conllu')\n",
        "full_test = pyconll.load_from_file('./stepik-dl-nlp/datasets/ru_syntagrus-ud-dev.conllu')"
      ],
      "execution_count": 5,
      "outputs": []
    },
    {
      "cell_type": "code",
      "metadata": {
        "ExecuteTime": {
          "end_time": "2019-10-29T19:49:56.548127Z",
          "start_time": "2019-10-29T19:49:56.527559Z"
        },
        "id": "f1rSAl9UjTRa",
        "colab": {
          "base_uri": "https://localhost:8080/"
        },
        "outputId": "6f87c98f-a77d-43d3-bd29-f0c76650af42"
      },
      "source": [
        "for sent in full_train[:2]:\n",
        "    for token in sent:\n",
        "        print(token.form, token.upos)\n",
        "    print()"
      ],
      "execution_count": 6,
      "outputs": [
        {
          "output_type": "stream",
          "text": [
            "Анкета NOUN\n",
            ". PUNCT\n",
            "\n",
            "Начальник NOUN\n",
            "областного ADJ\n",
            "управления NOUN\n",
            "связи NOUN\n",
            "Семен PROPN\n",
            "Еремеевич PROPN\n",
            "был AUX\n",
            "человек NOUN\n",
            "простой ADJ\n",
            ", PUNCT\n",
            "приходил VERB\n",
            "на ADP\n",
            "работу NOUN\n",
            "всегда ADV\n",
            "вовремя ADV\n",
            ", PUNCT\n",
            "здоровался VERB\n",
            "с ADP\n",
            "секретаршей NOUN\n",
            "за ADP\n",
            "руку NOUN\n",
            "и CCONJ\n",
            "иногда ADV\n",
            "даже PART\n",
            "писал VERB\n",
            "в ADP\n",
            "стенгазету NOUN\n",
            "заметки NOUN\n",
            "под ADP\n",
            "псевдонимом NOUN\n",
            "\" PUNCT\n",
            "Муха NOUN\n",
            "\" PUNCT\n",
            ". PUNCT\n",
            "\n"
          ],
          "name": "stdout"
        }
      ]
    },
    {
      "cell_type": "code",
      "metadata": {
        "ExecuteTime": {
          "end_time": "2019-10-29T19:49:56.916262Z",
          "start_time": "2019-10-29T19:49:56.549806Z"
        },
        "id": "AEg6xARQjTRc",
        "colab": {
          "base_uri": "https://localhost:8080/"
        },
        "outputId": "46a91897-c500-4fa6-efce-89d35c1b022d"
      },
      "source": [
        "MAX_SENT_LEN = max(len(sent) for sent in full_train)\n",
        "MAX_ORIG_TOKEN_LEN = max(len(token.form) for sent in full_train for token in sent)\n",
        "print('Наибольшая длина предложения', MAX_SENT_LEN)\n",
        "print('Наибольшая длина токена', MAX_ORIG_TOKEN_LEN)"
      ],
      "execution_count": 7,
      "outputs": [
        {
          "output_type": "stream",
          "text": [
            "Наибольшая длина предложения 205\n",
            "Наибольшая длина токена 47\n"
          ],
          "name": "stdout"
        }
      ]
    },
    {
      "cell_type": "code",
      "metadata": {
        "ExecuteTime": {
          "end_time": "2019-10-29T19:49:57.251433Z",
          "start_time": "2019-10-29T19:49:56.919818Z"
        },
        "id": "MEtzeOnijTRd",
        "colab": {
          "base_uri": "https://localhost:8080/"
        },
        "outputId": "508ec149-057a-4d47-ce5a-011beedb81a6"
      },
      "source": [
        "all_train_texts = [' '.join(token.form for token in sent) for sent in full_train]\n",
        "print('\\n'.join(all_train_texts[:10]))"
      ],
      "execution_count": 8,
      "outputs": [
        {
          "output_type": "stream",
          "text": [
            "Анкета .\n",
            "Начальник областного управления связи Семен Еремеевич был человек простой , приходил на работу всегда вовремя , здоровался с секретаршей за руку и иногда даже писал в стенгазету заметки под псевдонимом \" Муха \" .\n",
            "В приемной его с утра ожидали посетители , - кое-кто с важными делами , а кое-кто и с такими , которые легко можно было решить в нижестоящих инстанциях , не затрудняя Семена Еремеевича .\n",
            "Однако стиль работы Семена Еремеевича заключался в том , чтобы принимать всех желающих и лично вникать в дело .\n",
            "Приемная была обставлена просто , но по-деловому .\n",
            "У двери стоял стол секретарши , на столе - пишущая машинка с широкой кареткой .\n",
            "В углу висел репродуктор и играло радио для развлечения ожидающих и еще для того , чтобы заглушать голос начальника , доносившийся из кабинета , так как , бесспорно , среди посетителей могли находиться и случайные люди .\n",
            "Кабинет отличался скромностью , присущей Семену Еремеевичу .\n",
            "В глубине стоял широкий письменный стол с бронзовыми чернильницами и перед ним два кожаных кресла .\n",
            "Справа был стол для заседаний - длинный , накрытый зеленым сукном и с обеих сторон аккуратно заставленный стульями .\n"
          ],
          "name": "stdout"
        }
      ]
    },
    {
      "cell_type": "code",
      "metadata": {
        "ExecuteTime": {
          "end_time": "2019-10-29T19:49:58.124148Z",
          "start_time": "2019-10-29T19:49:57.254191Z"
        },
        "id": "R5_E9U0VjTRf",
        "colab": {
          "base_uri": "https://localhost:8080/"
        },
        "outputId": "3308709e-9046-40e4-b3ac-bfc50b7aea0e"
      },
      "source": [
        "train_char_tokenized = tokenize_corpus(all_train_texts, tokenizer=character_tokenize)\n",
        "char_vocab, word_doc_freq = build_vocabulary(train_char_tokenized, max_doc_freq=1.0, min_count=5, pad_word='<PAD>')\n",
        "print(\"Количество уникальных символов\", len(char_vocab))\n",
        "print(list(char_vocab.items())[:10])"
      ],
      "execution_count": 9,
      "outputs": [
        {
          "output_type": "stream",
          "text": [
            "Количество уникальных символов 150\n",
            "[('<PAD>', 0), (' ', 1), ('о', 2), ('е', 3), ('а', 4), ('т', 5), ('и', 6), ('н', 7), ('.', 8), ('с', 9)]\n"
          ],
          "name": "stdout"
        }
      ]
    },
    {
      "cell_type": "code",
      "metadata": {
        "ExecuteTime": {
          "end_time": "2019-10-29T19:49:58.524125Z",
          "start_time": "2019-10-29T19:49:58.125577Z"
        },
        "id": "pCjVOlc4jTRh",
        "colab": {
          "base_uri": "https://localhost:8080/"
        },
        "outputId": "7d309578-7b0c-421f-f14c-a622d01eda21"
      },
      "source": [
        "UNIQUE_TAGS = ['<NOTAG>'] + sorted({token.upos for sent in full_train for token in sent if token.upos})\n",
        "label2id = {label: i for i, label in enumerate(UNIQUE_TAGS)}\n",
        "label2id"
      ],
      "execution_count": 10,
      "outputs": [
        {
          "output_type": "execute_result",
          "data": {
            "text/plain": [
              "{'<NOTAG>': 0,\n",
              " 'ADJ': 1,\n",
              " 'ADP': 2,\n",
              " 'ADV': 3,\n",
              " 'AUX': 4,\n",
              " 'CCONJ': 5,\n",
              " 'DET': 6,\n",
              " 'INTJ': 7,\n",
              " 'NOUN': 8,\n",
              " 'NUM': 9,\n",
              " 'PART': 10,\n",
              " 'PRON': 11,\n",
              " 'PROPN': 12,\n",
              " 'PUNCT': 13,\n",
              " 'SCONJ': 14,\n",
              " 'SYM': 15,\n",
              " 'VERB': 16,\n",
              " 'X': 17}"
            ]
          },
          "metadata": {
            "tags": []
          },
          "execution_count": 10
        }
      ]
    },
    {
      "cell_type": "code",
      "metadata": {
        "ExecuteTime": {
          "end_time": "2019-10-29T19:49:58.752672Z",
          "start_time": "2019-10-29T19:49:58.526431Z"
        },
        "id": "ph_C8YLajTRi"
      },
      "source": [
        "train_inputs, train_labels = pos_corpus_to_tensor(full_train, char_vocab, label2id, MAX_SENT_LEN, MAX_ORIG_TOKEN_LEN)\n",
        "train_dataset = TensorDataset(train_inputs, train_labels)\n",
        "\n",
        "test_inputs, test_labels = pos_corpus_to_tensor(full_test, char_vocab, label2id, MAX_SENT_LEN, MAX_ORIG_TOKEN_LEN)\n",
        "test_dataset = TensorDataset(test_inputs, test_labels)"
      ],
      "execution_count": 11,
      "outputs": []
    },
    {
      "cell_type": "code",
      "metadata": {
        "ExecuteTime": {
          "end_time": "2019-10-29T19:49:58.754883Z",
          "start_time": "2019-10-29T19:49:40.582Z"
        },
        "scrolled": true,
        "id": "UxbOQkFnjTRk",
        "colab": {
          "base_uri": "https://localhost:8080/"
        },
        "outputId": "5a17734a-d58f-4407-b688-e4ec38daeddb"
      },
      "source": [
        "train_inputs[1][:5]"
      ],
      "execution_count": 12,
      "outputs": [
        {
          "output_type": "execute_result",
          "data": {
            "text/plain": [
              "tensor([[ 0, 39,  4, 25,  4, 11, 20,  7,  6, 13,  0,  0,  0,  0,  0,  0,  0,  0,\n",
              "          0,  0,  0,  0,  0,  0,  0,  0,  0,  0,  0,  0,  0,  0,  0,  0,  0,  0,\n",
              "          0,  0,  0,  0,  0,  0,  0,  0,  0,  0,  0,  0,  0],\n",
              "        [ 0,  2, 23, 11,  4,  9,  5,  7,  2, 22,  2,  0,  0,  0,  0,  0,  0,  0,\n",
              "          0,  0,  0,  0,  0,  0,  0,  0,  0,  0,  0,  0,  0,  0,  0,  0,  0,  0,\n",
              "          0,  0,  0,  0,  0,  0,  0,  0,  0,  0,  0,  0,  0],\n",
              "        [ 0, 17, 16, 10,  4, 12, 11,  3,  7,  6, 19,  0,  0,  0,  0,  0,  0,  0,\n",
              "          0,  0,  0,  0,  0,  0,  0,  0,  0,  0,  0,  0,  0,  0,  0,  0,  0,  0,\n",
              "          0,  0,  0,  0,  0,  0,  0,  0,  0,  0,  0,  0,  0],\n",
              "        [ 0,  9, 12, 19, 21,  6,  0,  0,  0,  0,  0,  0,  0,  0,  0,  0,  0,  0,\n",
              "          0,  0,  0,  0,  0,  0,  0,  0,  0,  0,  0,  0,  0,  0,  0,  0,  0,  0,\n",
              "          0,  0,  0,  0,  0,  0,  0,  0,  0,  0,  0,  0,  0],\n",
              "        [ 0, 40,  3, 15,  3,  7,  0,  0,  0,  0,  0,  0,  0,  0,  0,  0,  0,  0,\n",
              "          0,  0,  0,  0,  0,  0,  0,  0,  0,  0,  0,  0,  0,  0,  0,  0,  0,  0,\n",
              "          0,  0,  0,  0,  0,  0,  0,  0,  0,  0,  0,  0,  0]])"
            ]
          },
          "metadata": {
            "tags": []
          },
          "execution_count": 12
        }
      ]
    },
    {
      "cell_type": "code",
      "metadata": {
        "ExecuteTime": {
          "end_time": "2019-10-29T19:49:58.756496Z",
          "start_time": "2019-10-29T19:49:40.711Z"
        },
        "id": "mG64dqaYjTRk",
        "colab": {
          "base_uri": "https://localhost:8080/"
        },
        "outputId": "792f667b-edf0-4b5a-e128-97dcc161205b"
      },
      "source": [
        "train_labels[1]"
      ],
      "execution_count": 13,
      "outputs": [
        {
          "output_type": "execute_result",
          "data": {
            "text/plain": [
              "tensor([ 8,  1,  8,  8, 12, 12,  4,  8,  1, 13, 16,  2,  8,  3,  3, 13, 16,  2,\n",
              "         8,  2,  8,  5,  3, 10, 16,  2,  8,  8,  2,  8, 13,  8, 13, 13,  0,  0,\n",
              "         0,  0,  0,  0,  0,  0,  0,  0,  0,  0,  0,  0,  0,  0,  0,  0,  0,  0,\n",
              "         0,  0,  0,  0,  0,  0,  0,  0,  0,  0,  0,  0,  0,  0,  0,  0,  0,  0,\n",
              "         0,  0,  0,  0,  0,  0,  0,  0,  0,  0,  0,  0,  0,  0,  0,  0,  0,  0,\n",
              "         0,  0,  0,  0,  0,  0,  0,  0,  0,  0,  0,  0,  0,  0,  0,  0,  0,  0,\n",
              "         0,  0,  0,  0,  0,  0,  0,  0,  0,  0,  0,  0,  0,  0,  0,  0,  0,  0,\n",
              "         0,  0,  0,  0,  0,  0,  0,  0,  0,  0,  0,  0,  0,  0,  0,  0,  0,  0,\n",
              "         0,  0,  0,  0,  0,  0,  0,  0,  0,  0,  0,  0,  0,  0,  0,  0,  0,  0,\n",
              "         0,  0,  0,  0,  0,  0,  0,  0,  0,  0,  0,  0,  0,  0,  0,  0,  0,  0,\n",
              "         0,  0,  0,  0,  0,  0,  0,  0,  0,  0,  0,  0,  0,  0,  0,  0,  0,  0,\n",
              "         0,  0,  0,  0,  0,  0,  0])"
            ]
          },
          "metadata": {
            "tags": []
          },
          "execution_count": 13
        }
      ]
    },
    {
      "cell_type": "markdown",
      "metadata": {
        "id": "42OXu3MWjTRl"
      },
      "source": [
        "## Вспомогательная свёрточная архитектура"
      ]
    },
    {
      "cell_type": "code",
      "metadata": {
        "ExecuteTime": {
          "end_time": "2019-10-29T19:47:48.316516Z",
          "start_time": "2019-10-29T19:46:17.539Z"
        },
        "id": "hJNI-fP9jTRm"
      },
      "source": [
        "class StackedConv1d(nn.Module):\n",
        "    def __init__(self, features_num, layers_n=1, kernel_size=3, conv_layer=nn.Conv1d, dropout=0.0):\n",
        "        super().__init__()\n",
        "        layers = []\n",
        "        for _ in range(layers_n):\n",
        "            layers.append(nn.Sequential(\n",
        "                conv_layer(features_num, features_num, kernel_size, padding=kernel_size//2),\n",
        "                nn.Dropout(dropout),\n",
        "                nn.LeakyReLU()))\n",
        "        self.layers = nn.ModuleList(layers)\n",
        "    \n",
        "    def forward(self, x):\n",
        "        \"\"\"x - BatchSize x FeaturesNum x SequenceLen\"\"\"\n",
        "        for layer in self.layers:\n",
        "            x = x + layer(x)\n",
        "        return x"
      ],
      "execution_count": 14,
      "outputs": []
    },
    {
      "cell_type": "markdown",
      "metadata": {
        "id": "9y3r1btLjTRm"
      },
      "source": [
        "## Предсказание частей речи на уровне отдельных токенов"
      ]
    },
    {
      "cell_type": "code",
      "metadata": {
        "ExecuteTime": {
          "end_time": "2019-10-29T19:47:48.317452Z",
          "start_time": "2019-10-29T19:46:23.135Z"
        },
        "id": "XxEFUU7GjTRm"
      },
      "source": [
        "class SingleTokenPOSTagger(nn.Module):\n",
        "    def __init__(self, vocab_size, labels_num, embedding_size=32, **kwargs):\n",
        "        super().__init__()\n",
        "        self.char_embeddings = nn.Embedding(vocab_size, embedding_size, padding_idx=0)\n",
        "        self.backbone = StackedConv1d(embedding_size, **kwargs)\n",
        "        self.global_pooling = nn.AdaptiveMaxPool1d(1)\n",
        "        self.out = nn.Linear(embedding_size, labels_num)\n",
        "        self.labels_num = labels_num\n",
        "    \n",
        "    def forward(self, tokens):\n",
        "        \"\"\"tokens - BatchSize x MaxSentenceLen x MaxTokenLen\"\"\"\n",
        "        batch_size, max_sent_len, max_token_len = tokens.shape\n",
        "        tokens_flat = tokens.view(batch_size * max_sent_len, max_token_len)\n",
        "        \n",
        "        char_embeddings = self.char_embeddings(tokens_flat)  # BatchSize*MaxSentenceLen x MaxTokenLen x EmbSize\n",
        "        char_embeddings = char_embeddings.permute(0, 2, 1)  # BatchSize*MaxSentenceLen x EmbSize x MaxTokenLen\n",
        "        \n",
        "        features = self.backbone(char_embeddings)\n",
        "        \n",
        "        global_features = self.global_pooling(features).squeeze(-1)  # BatchSize*MaxSentenceLen x EmbSize\n",
        "        \n",
        "        logits_flat = self.out(global_features)  # BatchSize*MaxSentenceLen x LabelsNum\n",
        "        logits = logits_flat.view(batch_size, max_sent_len, self.labels_num)  # BatchSize x MaxSentenceLen x LabelsNum\n",
        "        logits = logits.permute(0, 2, 1)  # BatchSize x LabelsNum x MaxSentenceLen\n",
        "        return logits"
      ],
      "execution_count": 15,
      "outputs": []
    },
    {
      "cell_type": "code",
      "metadata": {
        "ExecuteTime": {
          "end_time": "2019-10-29T19:47:48.318497Z",
          "start_time": "2019-10-29T19:46:23.764Z"
        },
        "id": "viW36op0jTRo",
        "colab": {
          "base_uri": "https://localhost:8080/"
        },
        "outputId": "803d581e-bfdd-43a9-f507-69dd9bd7b2e7"
      },
      "source": [
        "single_token_model = SingleTokenPOSTagger(len(char_vocab), len(label2id), embedding_size=64, layers_n=3, kernel_size=3, dropout=0.3)\n",
        "print('Количество параметров', sum(np.product(t.shape) for t in single_token_model.parameters()))"
      ],
      "execution_count": 16,
      "outputs": [
        {
          "output_type": "stream",
          "text": [
            "Количество параметров 47826\n"
          ],
          "name": "stdout"
        }
      ]
    },
    {
      "cell_type": "code",
      "metadata": {
        "ExecuteTime": {
          "end_time": "2019-10-29T19:47:48.319470Z",
          "start_time": "2019-10-29T19:46:25.552Z"
        },
        "scrolled": false,
        "id": "zUB64i8jjTRp",
        "colab": {
          "base_uri": "https://localhost:8080/"
        },
        "outputId": "310a5f25-6944-4513-8201-e3b0f79e5e66"
      },
      "source": [
        "(best_val_loss,\n",
        " best_single_token_model) = train_eval_loop(single_token_model,\n",
        "                                            train_dataset,\n",
        "                                            test_dataset,\n",
        "                                            F.cross_entropy,\n",
        "                                            lr=5e-3,\n",
        "                                            epoch_n=10,\n",
        "                                            batch_size=64,\n",
        "                                            device='cuda',\n",
        "                                            early_stopping_patience=5,\n",
        "                                            max_batches_per_epoch_train=500,\n",
        "                                            max_batches_per_epoch_val=100,\n",
        "                                            lr_scheduler_ctor=lambda optim: torch.optim.lr_scheduler.ReduceLROnPlateau(optim, patience=2,\n",
        "                                                                                                                       factor=0.5,\n",
        "                                                                                                                       verbose=True))"
      ],
      "execution_count": 18,
      "outputs": [
        {
          "output_type": "stream",
          "text": [
            "Эпоха 0\n",
            "Эпоха: 501 итераций, 158.99 сек\n",
            "Среднее значение функции потерь на обучении 0.08035737748244803\n",
            "Среднее значение функции потерь на валидации 0.03486527236971525\n",
            "Новая лучшая модель!\n",
            "\n",
            "Эпоха 1\n",
            "Эпоха: 501 итераций, 162.34 сек\n",
            "Среднее значение функции потерь на обучении 0.028163546945401532\n",
            "Среднее значение функции потерь на валидации 0.028706608838079\n",
            "Новая лучшая модель!\n",
            "\n",
            "Эпоха 2\n",
            "Эпоха: 501 итераций, 162.32 сек\n",
            "Среднее значение функции потерь на обучении 0.024264798795213243\n",
            "Среднее значение функции потерь на валидации 0.02816746588611957\n",
            "Новая лучшая модель!\n",
            "\n",
            "Эпоха 3\n",
            "Эпоха: 501 итераций, 162.32 сек\n",
            "Среднее значение функции потерь на обучении 0.022317642165708567\n",
            "Среднее значение функции потерь на валидации 0.02456152701916376\n",
            "Новая лучшая модель!\n",
            "\n",
            "Эпоха 4\n",
            "Эпоха: 501 итераций, 162.29 сек\n",
            "Среднее значение функции потерь на обучении 0.02088008284152387\n",
            "Среднее значение функции потерь на валидации 0.022615213334412857\n",
            "Новая лучшая модель!\n",
            "\n",
            "Эпоха 5\n",
            "Эпоха: 501 итераций, 162.33 сек\n",
            "Среднее значение функции потерь на обучении 0.02023935251443567\n",
            "Среднее значение функции потерь на валидации 0.024005804865593366\n",
            "\n",
            "Эпоха 6\n",
            "Эпоха: 501 итераций, 162.31 сек\n",
            "Среднее значение функции потерь на обучении 0.019758149522343678\n",
            "Среднее значение функции потерь на валидации 0.021426783312148978\n",
            "Новая лучшая модель!\n",
            "\n",
            "Эпоха 7\n",
            "Эпоха: 501 итераций, 162.34 сек\n",
            "Среднее значение функции потерь на обучении 0.01922796992306224\n",
            "Среднее значение функции потерь на валидации 0.019800646599419047\n",
            "Новая лучшая модель!\n",
            "\n",
            "Эпоха 8\n",
            "Эпоха: 501 итераций, 162.30 сек\n",
            "Среднее значение функции потерь на обучении 0.01879928717594185\n",
            "Среднее значение функции потерь на валидации 0.022054435528519722\n",
            "\n",
            "Эпоха 9\n",
            "Эпоха: 501 итераций, 162.35 сек\n",
            "Среднее значение функции потерь на обучении 0.018527221062895425\n",
            "Среднее значение функции потерь на валидации 0.02015252360649923\n",
            "\n"
          ],
          "name": "stdout"
        }
      ]
    },
    {
      "cell_type": "code",
      "metadata": {
        "ExecuteTime": {
          "end_time": "2019-10-29T19:47:48.320568Z",
          "start_time": "2019-10-29T19:46:47.579Z"
        },
        "id": "4MYTMX5JjTRq"
      },
      "source": [
        "# Если Вы запускаете ноутбук на colab или kaggle, добавьте в начало пути ./stepik-dl-nlp\n",
        "torch.save(best_single_token_model.state_dict(), './stepik-dl-nlp/models/single_token_pos.pth')"
      ],
      "execution_count": 19,
      "outputs": []
    },
    {
      "cell_type": "code",
      "metadata": {
        "ExecuteTime": {
          "end_time": "2019-10-29T19:47:48.321566Z",
          "start_time": "2019-10-29T19:46:47.731Z"
        },
        "id": "WSpNmLy4jTRq",
        "colab": {
          "base_uri": "https://localhost:8080/"
        },
        "outputId": "d705bfdf-ffba-4fdb-da82-dd703396a0ca"
      },
      "source": [
        "# Если Вы запускаете ноутбук на colab или kaggle, добавьте в начало пути ./stepik-dl-nlp\n",
        "single_token_model.load_state_dict(torch.load('./stepik-dl-nlp/models/single_token_pos.pth'))"
      ],
      "execution_count": 20,
      "outputs": [
        {
          "output_type": "execute_result",
          "data": {
            "text/plain": [
              "<All keys matched successfully>"
            ]
          },
          "metadata": {
            "tags": []
          },
          "execution_count": 20
        }
      ]
    },
    {
      "cell_type": "code",
      "metadata": {
        "colab": {
          "base_uri": "https://localhost:8080/",
          "height": 17
        },
        "id": "xIfv59h0mJAW",
        "outputId": "16b74689-52d8-4df8-d7ee-07b60bdbdede"
      },
      "source": [
        "from google.colab import files\n",
        "\n",
        "files.download( \"./stepik-dl-nlp/models/single_token_pos.pth\" ) \n"
      ],
      "execution_count": 21,
      "outputs": [
        {
          "output_type": "display_data",
          "data": {
            "application/javascript": [
              "\n",
              "    async function download(id, filename, size) {\n",
              "      if (!google.colab.kernel.accessAllowed) {\n",
              "        return;\n",
              "      }\n",
              "      const div = document.createElement('div');\n",
              "      const label = document.createElement('label');\n",
              "      label.textContent = `Downloading \"${filename}\": `;\n",
              "      div.appendChild(label);\n",
              "      const progress = document.createElement('progress');\n",
              "      progress.max = size;\n",
              "      div.appendChild(progress);\n",
              "      document.body.appendChild(div);\n",
              "\n",
              "      const buffers = [];\n",
              "      let downloaded = 0;\n",
              "\n",
              "      const channel = await google.colab.kernel.comms.open(id);\n",
              "      // Send a message to notify the kernel that we're ready.\n",
              "      channel.send({})\n",
              "\n",
              "      for await (const message of channel.messages) {\n",
              "        // Send a message to notify the kernel that we're ready.\n",
              "        channel.send({})\n",
              "        if (message.buffers) {\n",
              "          for (const buffer of message.buffers) {\n",
              "            buffers.push(buffer);\n",
              "            downloaded += buffer.byteLength;\n",
              "            progress.value = downloaded;\n",
              "          }\n",
              "        }\n",
              "      }\n",
              "      const blob = new Blob(buffers, {type: 'application/binary'});\n",
              "      const a = document.createElement('a');\n",
              "      a.href = window.URL.createObjectURL(blob);\n",
              "      a.download = filename;\n",
              "      div.appendChild(a);\n",
              "      a.click();\n",
              "      div.remove();\n",
              "    }\n",
              "  "
            ],
            "text/plain": [
              "<IPython.core.display.Javascript object>"
            ]
          },
          "metadata": {
            "tags": []
          }
        },
        {
          "output_type": "display_data",
          "data": {
            "application/javascript": [
              "download(\"download_b1da4ad1-0ee7-44ab-903b-3dd1363f614f\", \"single_token_pos.pth\", 195136)"
            ],
            "text/plain": [
              "<IPython.core.display.Javascript object>"
            ]
          },
          "metadata": {
            "tags": []
          }
        }
      ]
    },
    {
      "cell_type": "code",
      "metadata": {
        "colab": {
          "base_uri": "https://localhost:8080/"
        },
        "id": "bTiFd-Xjo2mx",
        "outputId": "e298c117-7015-461b-a4b4-829148bac17a"
      },
      "source": [
        "# del full_train\n",
        "# del full_test\n",
        "# del single_token_model\n",
        "gc.collect()"
      ],
      "execution_count": 27,
      "outputs": [
        {
          "output_type": "execute_result",
          "data": {
            "text/plain": [
              "88"
            ]
          },
          "metadata": {
            "tags": []
          },
          "execution_count": 27
        }
      ]
    },
    {
      "cell_type": "code",
      "metadata": {
        "ExecuteTime": {
          "end_time": "2019-10-29T19:47:48.324276Z",
          "start_time": "2019-10-29T19:46:48.445Z"
        },
        "id": "ieN3ODbkjTRr",
        "colab": {
          "base_uri": "https://localhost:8080/"
        },
        "outputId": "e2cb1569-d44b-4568-91df-93efcaaa6fbb"
      },
      "source": [
        "train_pred = predict_with_model(single_token_model, train_dataset)\n",
        "train_loss = F.cross_entropy(torch.tensor(train_pred),\n",
        "                             torch.tensor(train_labels))\n",
        "print('Среднее значение функции потерь на обучении', float(train_loss))\n",
        "print(classification_report(train_labels.view(-1), train_pred.argmax(1).reshape(-1), target_names=UNIQUE_TAGS))\n",
        "print()\n",
        "\n",
        "test_pred = predict_with_model(single_token_model, test_dataset)\n",
        "test_loss = F.cross_entropy(torch.tensor(test_pred),\n",
        "                            torch.tensor(test_labels))\n",
        "print('Среднее значение функции потерь на валидации', float(test_loss))\n",
        "print(classification_report(test_labels.view(-1), test_pred.argmax(1).reshape(-1), target_names=UNIQUE_TAGS))"
      ],
      "execution_count": 21,
      "outputs": [
        {
          "output_type": "stream",
          "text": [
            "1526it [00:35, 42.42it/s]                               \n"
          ],
          "name": "stderr"
        },
        {
          "output_type": "stream",
          "text": [
            "Среднее значение функции потерь на обучении 0.01707238145172596\n"
          ],
          "name": "stdout"
        },
        {
          "output_type": "stream",
          "text": [
            "  1%|▏         | 3/205.75 [00:00<00:06, 29.14it/s]"
          ],
          "name": "stderr"
        },
        {
          "output_type": "stream",
          "text": [
            "              precision    recall  f1-score   support\n",
            "\n",
            "     <NOTAG>       1.00      1.00      1.00   9136391\n",
            "         ADJ       0.86      0.94      0.90     85589\n",
            "         ADP       1.00      0.99      0.99     81963\n",
            "         ADV       0.88      0.89      0.89     44101\n",
            "         AUX       0.88      0.46      0.60      7522\n",
            "       CCONJ       0.88      0.98      0.93     30432\n",
            "         DET       0.87      0.79      0.83     21968\n",
            "        INTJ       0.00      0.00      0.00        78\n",
            "        NOUN       0.98      0.92      0.95    214497\n",
            "         NUM       0.96      0.95      0.95     13746\n",
            "        PART       0.96      0.77      0.85     26651\n",
            "        PRON       0.89      0.87      0.88     38438\n",
            "       PROPN       0.83      0.93      0.88     32401\n",
            "       PUNCT       1.00      1.00      1.00    157989\n",
            "       SCONJ       0.80      0.88      0.84     16219\n",
            "         SYM       1.00      0.99      1.00       840\n",
            "        VERB       0.90      0.96      0.93     97670\n",
            "           X       0.88      0.68      0.77       375\n",
            "\n",
            "    accuracy                           0.99  10006870\n",
            "   macro avg       0.86      0.83      0.84  10006870\n",
            "weighted avg       0.99      0.99      0.99  10006870\n",
            "\n",
            "\n"
          ],
          "name": "stdout"
        },
        {
          "output_type": "stream",
          "text": [
            "100%|██████████| 206/205.75 [00:04<00:00, 43.70it/s]\n"
          ],
          "name": "stderr"
        },
        {
          "output_type": "stream",
          "text": [
            "Среднее значение функции потерь на валидации 0.01946237124502659\n",
            "              precision    recall  f1-score   support\n",
            "\n",
            "     <NOTAG>       1.00      1.00      1.00   1231232\n",
            "         ADJ       0.86      0.94      0.90     11222\n",
            "         ADP       1.00      0.99      0.99     10585\n",
            "         ADV       0.89      0.88      0.88      6165\n",
            "         AUX       0.84      0.42      0.56      1106\n",
            "       CCONJ       0.88      0.99      0.93      4410\n",
            "         DET       0.85      0.76      0.80      3085\n",
            "        INTJ       0.00      0.00      0.00        11\n",
            "        NOUN       0.97      0.92      0.94     27974\n",
            "         NUM       0.95      0.94      0.95      1829\n",
            "        PART       0.97      0.77      0.86      3877\n",
            "        PRON       0.88      0.86      0.87      5598\n",
            "       PROPN       0.83      0.91      0.87      4438\n",
            "       PUNCT       1.00      1.00      1.00     22694\n",
            "       SCONJ       0.77      0.90      0.83      2258\n",
            "         SYM       1.00      0.96      0.98        53\n",
            "        VERB       0.89      0.95      0.92     13078\n",
            "           X       0.95      0.83      0.88       105\n",
            "\n",
            "    accuracy                           0.99   1349720\n",
            "   macro avg       0.86      0.83      0.84   1349720\n",
            "weighted avg       0.99      0.99      0.99   1349720\n",
            "\n"
          ],
          "name": "stdout"
        }
      ]
    },
    {
      "cell_type": "markdown",
      "metadata": {
        "id": "Q9N3YZwDjTRs"
      },
      "source": [
        "## Предсказание частей речи на уровне предложений (с учётом контекста)"
      ]
    },
    {
      "cell_type": "code",
      "metadata": {
        "ExecuteTime": {
          "end_time": "2019-10-29T19:47:48.325744Z",
          "start_time": "2019-10-29T19:46:50.139Z"
        },
        "id": "wVTpEXtSjTRt"
      },
      "source": [
        "class SentenceLevelPOSTagger(nn.Module):\n",
        "    def __init__(self, vocab_size, labels_num, embedding_size=32, single_backbone_kwargs={}, context_backbone_kwargs={}):\n",
        "        super().__init__()\n",
        "        self.embedding_size = embedding_size\n",
        "        self.char_embeddings = nn.Embedding(vocab_size, embedding_size, padding_idx=0)\n",
        "        self.single_token_backbone = StackedConv1d(embedding_size, **single_backbone_kwargs)\n",
        "        self.context_backbone = StackedConv1d(embedding_size, **context_backbone_kwargs)\n",
        "        self.global_pooling = nn.AdaptiveMaxPool1d(1)\n",
        "        self.out = nn.Conv1d(embedding_size, labels_num, 1)\n",
        "        self.labels_num = labels_num\n",
        "    \n",
        "    def forward(self, tokens):\n",
        "        \"\"\"tokens - BatchSize x MaxSentenceLen x MaxTokenLen\"\"\"\n",
        "        batch_size, max_sent_len, max_token_len = tokens.shape\n",
        "        tokens_flat = tokens.view(batch_size * max_sent_len, max_token_len)\n",
        "        \n",
        "        char_embeddings = self.char_embeddings(tokens_flat)  # BatchSize*MaxSentenceLen x MaxTokenLen x EmbSize\n",
        "        char_embeddings = char_embeddings.permute(0, 2, 1)  # BatchSize*MaxSentenceLen x EmbSize x MaxTokenLen\n",
        "        char_features = self.single_token_backbone(char_embeddings)\n",
        "        \n",
        "        token_features_flat = self.global_pooling(char_features).squeeze(-1)  # BatchSize*MaxSentenceLen x EmbSize\n",
        "\n",
        "        token_features = token_features_flat.view(batch_size, max_sent_len, self.embedding_size)  # BatchSize x MaxSentenceLen x EmbSize\n",
        "        token_features = token_features.permute(0, 2, 1)  # BatchSize x EmbSize x MaxSentenceLen\n",
        "        context_features = self.context_backbone(token_features)  # BatchSize x EmbSize x MaxSentenceLen\n",
        "\n",
        "        logits = self.out(context_features)  # BatchSize x LabelsNum x MaxSentenceLen\n",
        "        return logits"
      ],
      "execution_count": 24,
      "outputs": []
    },
    {
      "cell_type": "code",
      "metadata": {
        "ExecuteTime": {
          "end_time": "2019-10-29T19:47:48.326925Z",
          "start_time": "2019-10-29T19:46:50.310Z"
        },
        "id": "PDzFUGaKjTRu",
        "colab": {
          "base_uri": "https://localhost:8080/"
        },
        "outputId": "2e7ec9a9-0a2e-4fc0-db2b-90f1b5e4d9a7"
      },
      "source": [
        "sentence_level_model = SentenceLevelPOSTagger(len(char_vocab), len(label2id), embedding_size=64,\n",
        "                                              single_backbone_kwargs=dict(layers_n=3, kernel_size=3, dropout=0.3),\n",
        "                                              context_backbone_kwargs=dict(layers_n=3, kernel_size=3, dropout=0.3))\n",
        "print('Количество параметров', sum(np.product(t.shape) for t in sentence_level_model.parameters()))"
      ],
      "execution_count": 25,
      "outputs": [
        {
          "output_type": "stream",
          "text": [
            "Количество параметров 84882\n"
          ],
          "name": "stdout"
        }
      ]
    },
    {
      "cell_type": "code",
      "metadata": {
        "ExecuteTime": {
          "end_time": "2019-10-29T19:47:48.327888Z",
          "start_time": "2019-10-29T19:46:50.737Z"
        },
        "scrolled": false,
        "id": "Pq3WyBdnjTRu",
        "colab": {
          "base_uri": "https://localhost:8080/"
        },
        "outputId": "350ba5a5-99d2-4611-e509-3054172574fe"
      },
      "source": [
        "(best_val_loss,\n",
        " best_sentence_level_model) = train_eval_loop(sentence_level_model,\n",
        "                                              train_dataset,\n",
        "                                              test_dataset,\n",
        "                                              F.cross_entropy,\n",
        "                                              lr=5e-3,\n",
        "                                              epoch_n=10,\n",
        "                                              batch_size=64,\n",
        "                                              device='cuda',\n",
        "                                              early_stopping_patience=5,\n",
        "                                              max_batches_per_epoch_train=500,\n",
        "                                              max_batches_per_epoch_val=100,\n",
        "                                              lr_scheduler_ctor=lambda optim: torch.optim.lr_scheduler.ReduceLROnPlateau(optim, patience=2,\n",
        "                                                                                                                         factor=0.5,\n",
        "                                                                                                                         verbose=True))"
      ],
      "execution_count": null,
      "outputs": [
        {
          "output_type": "stream",
          "text": [
            "Эпоха 0\n"
          ],
          "name": "stdout"
        }
      ]
    },
    {
      "cell_type": "code",
      "metadata": {
        "ExecuteTime": {
          "end_time": "2019-08-29T13:56:16.542052Z",
          "start_time": "2019-08-29T13:56:16.529110Z"
        },
        "id": "wMzISXKejTRv"
      },
      "source": [
        "# Если Вы запускаете ноутбук на colab или kaggle, добавьте в начало пути ./stepik-dl-nlp\n",
        "torch.save(best_sentence_level_model.state_dict(), './stepik-dl-nlp/models/sentence_level_pos.pth')"
      ],
      "execution_count": null,
      "outputs": []
    },
    {
      "cell_type": "code",
      "metadata": {
        "ExecuteTime": {
          "end_time": "2019-08-29T13:56:16.564926Z",
          "start_time": "2019-08-29T13:56:16.544481Z"
        },
        "id": "hAHhWiEqjTRw"
      },
      "source": [
        "# Если Вы запускаете ноутбук на colab или kaggle, добавьте в начало пути ./stepik-dl-nlp\n",
        "sentence_level_model.load_state_dict(torch.load('./stepik-dl-nlp/models/sentence_level_pos.pth'))"
      ],
      "execution_count": null,
      "outputs": []
    },
    {
      "cell_type": "code",
      "metadata": {
        "ExecuteTime": {
          "end_time": "2019-08-29T13:56:42.092139Z",
          "start_time": "2019-08-29T13:56:16.567242Z"
        },
        "id": "yoBANl9ujTRw"
      },
      "source": [
        "train_pred = predict_with_model(sentence_level_model, train_dataset)\n",
        "train_loss = F.cross_entropy(torch.tensor(train_pred),\n",
        "                             torch.tensor(train_labels))\n",
        "print('Среднее значение функции потерь на обучении', float(train_loss))\n",
        "print(classification_report(train_labels.view(-1), train_pred.argmax(1).reshape(-1), target_names=UNIQUE_TAGS))\n",
        "print()\n",
        "\n",
        "test_pred = predict_with_model(sentence_level_model, test_dataset)\n",
        "test_loss = F.cross_entropy(torch.tensor(test_pred),\n",
        "                            torch.tensor(test_labels))\n",
        "print('Среднее значение функции потерь на валидации', float(test_loss))\n",
        "print(classification_report(test_labels.view(-1), test_pred.argmax(1).reshape(-1), target_names=UNIQUE_TAGS))"
      ],
      "execution_count": null,
      "outputs": []
    },
    {
      "cell_type": "markdown",
      "metadata": {
        "id": "dsAFAFq6jTRy"
      },
      "source": [
        "## Применение полученных теггеров и сравнение"
      ]
    },
    {
      "cell_type": "code",
      "metadata": {
        "ExecuteTime": {
          "end_time": "2019-08-29T13:56:42.105418Z",
          "start_time": "2019-08-29T13:56:42.093744Z"
        },
        "id": "VUZrokx7jTRy"
      },
      "source": [
        "single_token_pos_tagger = POSTagger(single_token_model, char_vocab, UNIQUE_TAGS, MAX_SENT_LEN, MAX_ORIG_TOKEN_LEN)\n",
        "sentence_level_pos_tagger = POSTagger(sentence_level_model, char_vocab, UNIQUE_TAGS, MAX_SENT_LEN, MAX_ORIG_TOKEN_LEN)"
      ],
      "execution_count": null,
      "outputs": []
    },
    {
      "cell_type": "code",
      "metadata": {
        "ExecuteTime": {
          "end_time": "2019-08-29T13:56:42.125540Z",
          "start_time": "2019-08-29T13:56:42.106771Z"
        },
        "id": "8Ce7ELP2jTRz"
      },
      "source": [
        "test_sentences = [\n",
        "    'Мама мыла раму.',\n",
        "    'Косил косой косой косой.',\n",
        "    'Глокая куздра штеко будланула бокра и куздрячит бокрёнка.',\n",
        "    'Сяпала Калуша с Калушатами по напушке.',\n",
        "    'Пирожки поставлены в печь, мама любит печь.',\n",
        "    'Ведро дало течь, вода стала течь.',\n",
        "    'Три да три, будет дырка.',\n",
        "    'Три да три, будет шесть.',\n",
        "    'Сорок сорок'\n",
        "]\n",
        "test_sentences_tokenized = tokenize_corpus(test_sentences, min_token_size=1)"
      ],
      "execution_count": null,
      "outputs": []
    },
    {
      "cell_type": "code",
      "metadata": {
        "ExecuteTime": {
          "end_time": "2019-08-29T13:56:42.148124Z",
          "start_time": "2019-08-29T13:56:42.126930Z"
        },
        "id": "L5ohjHwWjTR0"
      },
      "source": [
        "for sent_tokens, sent_tags in zip(test_sentences_tokenized, single_token_pos_tagger(test_sentences)):\n",
        "    print(' '.join('{}-{}'.format(tok, tag) for tok, tag in zip(sent_tokens, sent_tags)))\n",
        "    print()"
      ],
      "execution_count": null,
      "outputs": []
    },
    {
      "cell_type": "code",
      "metadata": {
        "ExecuteTime": {
          "end_time": "2019-08-29T13:56:42.168810Z",
          "start_time": "2019-08-29T13:56:42.149698Z"
        },
        "id": "DJQTm8gajTR0"
      },
      "source": [
        "for sent_tokens, sent_tags in zip(test_sentences_tokenized, sentence_level_pos_tagger(test_sentences)):\n",
        "    print(' '.join('{}-{}'.format(tok, tag) for tok, tag in zip(sent_tokens, sent_tags)))\n",
        "    print()"
      ],
      "execution_count": null,
      "outputs": []
    },
    {
      "cell_type": "markdown",
      "metadata": {
        "id": "JWgDuruKjTR0"
      },
      "source": [
        "## Свёрточный модуль своими руками"
      ]
    },
    {
      "cell_type": "code",
      "metadata": {
        "ExecuteTime": {
          "end_time": "2019-08-29T13:56:42.193140Z",
          "start_time": "2019-08-29T13:56:42.170233Z"
        },
        "id": "3KujWJy3jTR1"
      },
      "source": [
        "class MyConv1d(nn.Module):\n",
        "    def __init__(self, in_channels, out_channels, kernel_size, padding=0):\n",
        "        super().__init__()\n",
        "        self.in_channels = in_channels\n",
        "        self.out_channels = out_channels\n",
        "        self.kernel_size = kernel_size\n",
        "        self.padding = padding\n",
        "        self.weight = nn.Parameter(torch.randn(in_channels * kernel_size, out_channels) / (in_channels * kernel_size),\n",
        "                                   requires_grad=True)\n",
        "        self.bias = nn.Parameter(torch.zeros(out_channels), requires_grad=True)\n",
        "    \n",
        "    def forward(self, x):\n",
        "        \"\"\"x - BatchSize x InChannels x SequenceLen\"\"\"\n",
        "\n",
        "        batch_size, src_channels, sequence_len = x.shape        \n",
        "        if self.padding > 0:\n",
        "            pad = x.new_zeros(batch_size, src_channels, self.padding)\n",
        "            x = torch.cat((pad, x, pad), dim=-1)\n",
        "            sequence_len = x.shape[-1]\n",
        "\n",
        "        chunks = []\n",
        "        chunk_size = sequence_len - self.kernel_size + 1\n",
        "        for offset in range(self.kernel_size):\n",
        "            chunks.append(x[:, :, offset:offset + chunk_size])\n",
        "\n",
        "        in_features = torch.cat(chunks, dim=1)  # BatchSize x InChannels * KernelSize x ChunkSize\n",
        "        in_features = in_features.permute(0, 2, 1)  # BatchSize x ChunkSize x InChannels * KernelSize\n",
        "        out_features = torch.bmm(in_features, self.weight.unsqueeze(0).expand(batch_size, -1, -1)) + self.bias.unsqueeze(0).unsqueeze(0)\n",
        "        out_features = out_features.permute(0, 2, 1)  # BatchSize x OutChannels x ChunkSize\n",
        "        return out_features"
      ],
      "execution_count": null,
      "outputs": []
    },
    {
      "cell_type": "code",
      "metadata": {
        "ExecuteTime": {
          "end_time": "2019-08-29T13:56:42.210013Z",
          "start_time": "2019-08-29T13:56:42.194620Z"
        },
        "id": "eKEeQjU9jTR2"
      },
      "source": [
        "sentence_level_model_my_conv = SentenceLevelPOSTagger(len(char_vocab), len(label2id), embedding_size=64,\n",
        "                                                      single_backbone_kwargs=dict(layers_n=3, kernel_size=3, dropout=0.3, conv_layer=MyConv1d),\n",
        "                                                      context_backbone_kwargs=dict(layers_n=3, kernel_size=3, dropout=0.3, conv_layer=MyConv1d))\n",
        "print('Количество параметров', sum(np.product(t.shape) for t in sentence_level_model_my_conv.parameters()))"
      ],
      "execution_count": null,
      "outputs": []
    },
    {
      "cell_type": "code",
      "metadata": {
        "ExecuteTime": {
          "end_time": "2019-08-29T14:06:00.233326Z",
          "start_time": "2019-08-29T13:56:42.211456Z"
        },
        "id": "1pF421DOjTR2"
      },
      "source": [
        "(best_val_loss,\n",
        " best_sentence_level_model_my_conv) = train_eval_loop(sentence_level_model_my_conv,\n",
        "                                                      train_dataset,\n",
        "                                                      test_dataset,\n",
        "                                                      F.cross_entropy,\n",
        "                                                      lr=5e-3,\n",
        "                                                      epoch_n=10,\n",
        "                                                      batch_size=64,\n",
        "                                                      device='cuda',\n",
        "                                                      early_stopping_patience=5,\n",
        "                                                      max_batches_per_epoch_train=500,\n",
        "                                                      max_batches_per_epoch_val=100,\n",
        "                                                      lr_scheduler_ctor=lambda optim: torch.optim.lr_scheduler.ReduceLROnPlateau(optim, patience=2,\n",
        "                                                                                                                                 factor=0.5,\n",
        "                                                                                                                                 verbose=True))"
      ],
      "execution_count": null,
      "outputs": []
    },
    {
      "cell_type": "code",
      "metadata": {
        "ExecuteTime": {
          "end_time": "2019-08-29T14:06:39.145214Z",
          "start_time": "2019-08-29T14:06:00.234936Z"
        },
        "id": "lW76zLsNjTR2"
      },
      "source": [
        "train_pred = predict_with_model(best_sentence_level_model_my_conv, train_dataset)\n",
        "train_loss = F.cross_entropy(torch.tensor(train_pred),\n",
        "                             torch.tensor(train_labels))\n",
        "print('Среднее значение функции потерь на обучении', float(train_loss))\n",
        "print(classification_report(train_labels.view(-1), train_pred.argmax(1).reshape(-1), target_names=UNIQUE_TAGS))\n",
        "print()\n",
        "\n",
        "test_pred = predict_with_model(best_sentence_level_model_my_conv, test_dataset)\n",
        "test_loss = F.cross_entropy(torch.tensor(test_pred),\n",
        "                            torch.tensor(test_labels))\n",
        "print('Среднее значение функции потерь на валидации', float(test_loss))\n",
        "print(classification_report(test_labels.view(-1), test_pred.argmax(1).reshape(-1), target_names=UNIQUE_TAGS))"
      ],
      "execution_count": null,
      "outputs": []
    },
    {
      "cell_type": "markdown",
      "metadata": {
        "id": "M0TBG959npFO"
      },
      "source": [
        ""
      ]
    }
  ]
}