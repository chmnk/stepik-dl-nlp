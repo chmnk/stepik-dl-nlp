{
  "nbformat": 4,
  "nbformat_minor": 0,
  "metadata": {
    "kernelspec": {
      "display_name": "Python 3",
      "language": "python",
      "name": "python3"
    },
    "language_info": {
      "codemirror_mode": {
        "name": "ipython",
        "version": 3
      },
      "file_extension": ".py",
      "mimetype": "text/x-python",
      "name": "python",
      "nbconvert_exporter": "python",
      "pygments_lexer": "ipython3",
      "version": "3.6.9"
    },
    "latex_envs": {
      "LaTeX_envs_menu_present": true,
      "autoclose": false,
      "autocomplete": true,
      "bibliofile": "biblio.bib",
      "cite_by": "apalike",
      "current_citInitial": 1,
      "eqLabelWithNumbers": true,
      "eqNumInitial": 1,
      "hotkeys": {
        "equation": "Ctrl-E",
        "itemize": "Ctrl-I"
      },
      "labels_anchors": false,
      "latex_user_defs": false,
      "report_style_numbering": false,
      "user_envs_cfg": false
    },
    "toc": {
      "base_numbering": 1,
      "nav_menu": {},
      "number_sections": true,
      "sideBar": true,
      "skip_h1_title": false,
      "title_cell": "Table of Contents",
      "title_sidebar": "Contents",
      "toc_cell": false,
      "toc_position": {},
      "toc_section_display": true,
      "toc_window_display": true
    },
    "colab": {
      "name": "task1_20newsgroups.ipynb",
      "provenance": []
    },
    "accelerator": "GPU"
  },
  "cells": [
    {
      "cell_type": "markdown",
      "metadata": {
        "id": "vo-6skzJJG0K"
      },
      "source": [
        "# Тематическая классификация длинных текстов - TFIDF и LogReg"
      ]
    },
    {
      "cell_type": "code",
      "metadata": {
        "colab": {
          "base_uri": "https://localhost:8080/"
        },
        "id": "N1ezvFAfJG0K",
        "outputId": "2084d976-605e-466b-ad75-29127b8adae1"
      },
      "source": [
        "# Если Вы запускаете ноутбук на colab или kaggle,\n",
        "# выполните следующие строчки, чтобы подгрузить библиотеку dlnlputils:\n",
        "\n",
        "!git clone https://github.com/chmnk/stepik-dl-nlp.git && pip install -r stepik-dl-nlp/requirements.txt\n",
        "import sys; sys.path.append('./stepik-dl-nlp')\n",
        "\n",
        "import os\n",
        "print(os.listdir('.'))"
      ],
      "execution_count": 1,
      "outputs": [
        {
          "output_type": "stream",
          "text": [
            "Cloning into 'stepik-dl-nlp'...\n",
            "remote: Enumerating objects: 71, done.\u001b[K\n",
            "remote: Counting objects: 100% (71/71), done.\u001b[K\n",
            "remote: Compressing objects: 100% (66/66), done.\u001b[K\n",
            "remote: Total 337 (delta 40), reused 14 (delta 5), pack-reused 266\u001b[K\n",
            "Receiving objects: 100% (337/337), 42.38 MiB | 25.14 MiB/s, done.\n",
            "Resolving deltas: 100% (169/169), done.\n",
            "Requirement already satisfied: scikit-learn in /usr/local/lib/python3.6/dist-packages (from -r stepik-dl-nlp/requirements.txt (line 1)) (0.22.2.post1)\n",
            "Collecting spacy-udpipe\n",
            "  Downloading https://files.pythonhosted.org/packages/16/60/2a985e25f6a398655f018e5e43d16ba3dbd65f0d4d6ae22add90578669a5/spacy_udpipe-0.3.2-py3-none-any.whl\n",
            "Collecting pymorphy2\n",
            "\u001b[?25l  Downloading https://files.pythonhosted.org/packages/07/57/b2ff2fae3376d4f3c697b9886b64a54b476e1a332c67eee9f88e7f1ae8c9/pymorphy2-0.9.1-py3-none-any.whl (55kB)\n",
            "\u001b[K     |████████████████████████████████| 61kB 6.6MB/s \n",
            "\u001b[?25hRequirement already satisfied: torch>=1.2 in /usr/local/lib/python3.6/dist-packages (from -r stepik-dl-nlp/requirements.txt (line 4)) (1.7.0+cu101)\n",
            "Requirement already satisfied: matplotlib in /usr/local/lib/python3.6/dist-packages (from -r stepik-dl-nlp/requirements.txt (line 5)) (3.2.2)\n",
            "Collecting ipymarkup\n",
            "  Downloading https://files.pythonhosted.org/packages/bf/9b/bf54c98d50735a4a7c84c71e92c5361730c878ebfe903d2c2d196ef66055/ipymarkup-0.9.0-py3-none-any.whl\n",
            "Requirement already satisfied: lxml in /usr/local/lib/python3.6/dist-packages (from -r stepik-dl-nlp/requirements.txt (line 7)) (4.2.6)\n",
            "Requirement already satisfied: scipy in /usr/local/lib/python3.6/dist-packages (from -r stepik-dl-nlp/requirements.txt (line 8)) (1.4.1)\n",
            "Requirement already satisfied: pandas in /usr/local/lib/python3.6/dist-packages (from -r stepik-dl-nlp/requirements.txt (line 9)) (1.1.5)\n",
            "Requirement already satisfied: tqdm in /usr/local/lib/python3.6/dist-packages (from -r stepik-dl-nlp/requirements.txt (line 10)) (4.41.1)\n",
            "Collecting youtokentome\n",
            "\u001b[?25l  Downloading https://files.pythonhosted.org/packages/a3/65/4a86cf99da3f680497ae132329025b291e2fda22327e8da6a9476e51acb1/youtokentome-1.0.6-cp36-cp36m-manylinux2010_x86_64.whl (1.7MB)\n",
            "\u001b[K     |████████████████████████████████| 1.7MB 20.6MB/s \n",
            "\u001b[?25hRequirement already satisfied: seaborn in /usr/local/lib/python3.6/dist-packages (from -r stepik-dl-nlp/requirements.txt (line 12)) (0.11.0)\n",
            "Requirement already satisfied: ipykernel in /usr/local/lib/python3.6/dist-packages (from -r stepik-dl-nlp/requirements.txt (line 13)) (4.10.1)\n",
            "Requirement already satisfied: ipython in /usr/local/lib/python3.6/dist-packages (from -r stepik-dl-nlp/requirements.txt (line 14)) (5.5.0)\n",
            "Collecting pyconll\n",
            "  Downloading https://files.pythonhosted.org/packages/39/6f/86bd5d0eaa6821ba9193bbed16b660ea6f342fe63ec2e4fa2c61377bb44b/pyconll-2.3.3-py3-none-any.whl\n",
            "Collecting gensim==3.8.1\n",
            "\u001b[?25l  Downloading https://files.pythonhosted.org/packages/d1/dd/112bd4258cee11e0baaaba064060eb156475a42362e59e3ff28e7ca2d29d/gensim-3.8.1-cp36-cp36m-manylinux1_x86_64.whl (24.2MB)\n",
            "\u001b[K     |████████████████████████████████| 24.2MB 1.5MB/s \n",
            "\u001b[?25hCollecting wget\n",
            "  Downloading https://files.pythonhosted.org/packages/47/6a/62e288da7bcda82b935ff0c6cfe542970f04e29c756b0e147251b2fb251f/wget-3.2.zip\n",
            "Collecting livelossplot==0.5.3\n",
            "  Downloading https://files.pythonhosted.org/packages/0f/08/1884157a3de72d41fa97cacacafaa49abf00eba53cb7e08615b2b65b4a9d/livelossplot-0.5.3-py3-none-any.whl\n",
            "Requirement already satisfied: numpy>=1.11.0 in /usr/local/lib/python3.6/dist-packages (from scikit-learn->-r stepik-dl-nlp/requirements.txt (line 1)) (1.18.5)\n",
            "Requirement already satisfied: joblib>=0.11 in /usr/local/lib/python3.6/dist-packages (from scikit-learn->-r stepik-dl-nlp/requirements.txt (line 1)) (0.17.0)\n",
            "Requirement already satisfied: spacy<3.0.0,>=2.1.0 in /usr/local/lib/python3.6/dist-packages (from spacy-udpipe->-r stepik-dl-nlp/requirements.txt (line 2)) (2.2.4)\n",
            "Collecting ufal.udpipe>=1.2.0\n",
            "\u001b[?25l  Downloading https://files.pythonhosted.org/packages/e5/72/2b8b9dc7c80017c790bb3308bbad34b57accfed2ac2f1f4ab252ff4e9cb2/ufal.udpipe-1.2.0.3.tar.gz (304kB)\n",
            "\u001b[K     |████████████████████████████████| 307kB 59.2MB/s \n",
            "\u001b[?25hRequirement already satisfied: docopt>=0.6 in /usr/local/lib/python3.6/dist-packages (from pymorphy2->-r stepik-dl-nlp/requirements.txt (line 3)) (0.6.2)\n",
            "Collecting dawg-python>=0.7.1\n",
            "  Downloading https://files.pythonhosted.org/packages/6a/84/ff1ce2071d4c650ec85745766c0047ccc3b5036f1d03559fd46bb38b5eeb/DAWG_Python-0.7.2-py2.py3-none-any.whl\n",
            "Collecting pymorphy2-dicts-ru<3.0,>=2.4\n",
            "\u001b[?25l  Downloading https://files.pythonhosted.org/packages/3a/79/bea0021eeb7eeefde22ef9e96badf174068a2dd20264b9a378f2be1cdd9e/pymorphy2_dicts_ru-2.4.417127.4579844-py2.py3-none-any.whl (8.2MB)\n",
            "\u001b[K     |████████████████████████████████| 8.2MB 41.5MB/s \n",
            "\u001b[?25hRequirement already satisfied: dataclasses in /usr/local/lib/python3.6/dist-packages (from torch>=1.2->-r stepik-dl-nlp/requirements.txt (line 4)) (0.8)\n",
            "Requirement already satisfied: future in /usr/local/lib/python3.6/dist-packages (from torch>=1.2->-r stepik-dl-nlp/requirements.txt (line 4)) (0.16.0)\n",
            "Requirement already satisfied: typing-extensions in /usr/local/lib/python3.6/dist-packages (from torch>=1.2->-r stepik-dl-nlp/requirements.txt (line 4)) (3.7.4.3)\n",
            "Requirement already satisfied: pyparsing!=2.0.4,!=2.1.2,!=2.1.6,>=2.0.1 in /usr/local/lib/python3.6/dist-packages (from matplotlib->-r stepik-dl-nlp/requirements.txt (line 5)) (2.4.7)\n",
            "Requirement already satisfied: kiwisolver>=1.0.1 in /usr/local/lib/python3.6/dist-packages (from matplotlib->-r stepik-dl-nlp/requirements.txt (line 5)) (1.3.1)\n",
            "Requirement already satisfied: cycler>=0.10 in /usr/local/lib/python3.6/dist-packages (from matplotlib->-r stepik-dl-nlp/requirements.txt (line 5)) (0.10.0)\n",
            "Requirement already satisfied: python-dateutil>=2.1 in /usr/local/lib/python3.6/dist-packages (from matplotlib->-r stepik-dl-nlp/requirements.txt (line 5)) (2.8.1)\n",
            "Collecting intervaltree>=3\n",
            "  Downloading https://files.pythonhosted.org/packages/50/fb/396d568039d21344639db96d940d40eb62befe704ef849b27949ded5c3bb/intervaltree-3.1.0.tar.gz\n",
            "Requirement already satisfied: pytz>=2017.2 in /usr/local/lib/python3.6/dist-packages (from pandas->-r stepik-dl-nlp/requirements.txt (line 9)) (2018.9)\n",
            "Requirement already satisfied: Click>=7.0 in /usr/local/lib/python3.6/dist-packages (from youtokentome->-r stepik-dl-nlp/requirements.txt (line 11)) (7.1.2)\n",
            "Requirement already satisfied: jupyter-client in /usr/local/lib/python3.6/dist-packages (from ipykernel->-r stepik-dl-nlp/requirements.txt (line 13)) (5.3.5)\n",
            "Requirement already satisfied: tornado>=4.0 in /usr/local/lib/python3.6/dist-packages (from ipykernel->-r stepik-dl-nlp/requirements.txt (line 13)) (5.1.1)\n",
            "Requirement already satisfied: traitlets>=4.1.0 in /usr/local/lib/python3.6/dist-packages (from ipykernel->-r stepik-dl-nlp/requirements.txt (line 13)) (4.3.3)\n",
            "Requirement already satisfied: pexpect; sys_platform != \"win32\" in /usr/local/lib/python3.6/dist-packages (from ipython->-r stepik-dl-nlp/requirements.txt (line 14)) (4.8.0)\n",
            "Requirement already satisfied: pygments in /usr/local/lib/python3.6/dist-packages (from ipython->-r stepik-dl-nlp/requirements.txt (line 14)) (2.6.1)\n",
            "Requirement already satisfied: decorator in /usr/local/lib/python3.6/dist-packages (from ipython->-r stepik-dl-nlp/requirements.txt (line 14)) (4.4.2)\n",
            "Requirement already satisfied: pickleshare in /usr/local/lib/python3.6/dist-packages (from ipython->-r stepik-dl-nlp/requirements.txt (line 14)) (0.7.5)\n",
            "Requirement already satisfied: simplegeneric>0.8 in /usr/local/lib/python3.6/dist-packages (from ipython->-r stepik-dl-nlp/requirements.txt (line 14)) (0.8.1)\n",
            "Requirement already satisfied: setuptools>=18.5 in /usr/local/lib/python3.6/dist-packages (from ipython->-r stepik-dl-nlp/requirements.txt (line 14)) (50.3.2)\n",
            "Requirement already satisfied: prompt-toolkit<2.0.0,>=1.0.4 in /usr/local/lib/python3.6/dist-packages (from ipython->-r stepik-dl-nlp/requirements.txt (line 14)) (1.0.18)\n",
            "Requirement already satisfied: requests>=2.21 in /usr/local/lib/python3.6/dist-packages (from pyconll->-r stepik-dl-nlp/requirements.txt (line 15)) (2.23.0)\n",
            "Requirement already satisfied: smart-open>=1.8.1 in /usr/local/lib/python3.6/dist-packages (from gensim==3.8.1->-r stepik-dl-nlp/requirements.txt (line 16)) (4.0.1)\n",
            "Requirement already satisfied: six>=1.5.0 in /usr/local/lib/python3.6/dist-packages (from gensim==3.8.1->-r stepik-dl-nlp/requirements.txt (line 16)) (1.15.0)\n",
            "Requirement already satisfied: bokeh; python_version >= \"3.6\" in /usr/local/lib/python3.6/dist-packages (from livelossplot==0.5.3->-r stepik-dl-nlp/requirements.txt (line 18)) (2.1.1)\n",
            "Requirement already satisfied: srsly<1.1.0,>=1.0.2 in /usr/local/lib/python3.6/dist-packages (from spacy<3.0.0,>=2.1.0->spacy-udpipe->-r stepik-dl-nlp/requirements.txt (line 2)) (1.0.5)\n",
            "Requirement already satisfied: catalogue<1.1.0,>=0.0.7 in /usr/local/lib/python3.6/dist-packages (from spacy<3.0.0,>=2.1.0->spacy-udpipe->-r stepik-dl-nlp/requirements.txt (line 2)) (1.0.0)\n",
            "Requirement already satisfied: thinc==7.4.0 in /usr/local/lib/python3.6/dist-packages (from spacy<3.0.0,>=2.1.0->spacy-udpipe->-r stepik-dl-nlp/requirements.txt (line 2)) (7.4.0)\n",
            "Requirement already satisfied: plac<1.2.0,>=0.9.6 in /usr/local/lib/python3.6/dist-packages (from spacy<3.0.0,>=2.1.0->spacy-udpipe->-r stepik-dl-nlp/requirements.txt (line 2)) (1.1.3)\n",
            "Requirement already satisfied: cymem<2.1.0,>=2.0.2 in /usr/local/lib/python3.6/dist-packages (from spacy<3.0.0,>=2.1.0->spacy-udpipe->-r stepik-dl-nlp/requirements.txt (line 2)) (2.0.5)\n",
            "Requirement already satisfied: preshed<3.1.0,>=3.0.2 in /usr/local/lib/python3.6/dist-packages (from spacy<3.0.0,>=2.1.0->spacy-udpipe->-r stepik-dl-nlp/requirements.txt (line 2)) (3.0.5)\n",
            "Requirement already satisfied: wasabi<1.1.0,>=0.4.0 in /usr/local/lib/python3.6/dist-packages (from spacy<3.0.0,>=2.1.0->spacy-udpipe->-r stepik-dl-nlp/requirements.txt (line 2)) (0.8.0)\n",
            "Requirement already satisfied: murmurhash<1.1.0,>=0.28.0 in /usr/local/lib/python3.6/dist-packages (from spacy<3.0.0,>=2.1.0->spacy-udpipe->-r stepik-dl-nlp/requirements.txt (line 2)) (1.0.5)\n",
            "Requirement already satisfied: blis<0.5.0,>=0.4.0 in /usr/local/lib/python3.6/dist-packages (from spacy<3.0.0,>=2.1.0->spacy-udpipe->-r stepik-dl-nlp/requirements.txt (line 2)) (0.4.1)\n",
            "Requirement already satisfied: sortedcontainers<3.0,>=2.0 in /usr/local/lib/python3.6/dist-packages (from intervaltree>=3->ipymarkup->-r stepik-dl-nlp/requirements.txt (line 6)) (2.3.0)\n",
            "Requirement already satisfied: pyzmq>=13 in /usr/local/lib/python3.6/dist-packages (from jupyter-client->ipykernel->-r stepik-dl-nlp/requirements.txt (line 13)) (20.0.0)\n",
            "Requirement already satisfied: jupyter-core>=4.6.0 in /usr/local/lib/python3.6/dist-packages (from jupyter-client->ipykernel->-r stepik-dl-nlp/requirements.txt (line 13)) (4.7.0)\n",
            "Requirement already satisfied: ipython-genutils in /usr/local/lib/python3.6/dist-packages (from traitlets>=4.1.0->ipykernel->-r stepik-dl-nlp/requirements.txt (line 13)) (0.2.0)\n",
            "Requirement already satisfied: ptyprocess>=0.5 in /usr/local/lib/python3.6/dist-packages (from pexpect; sys_platform != \"win32\"->ipython->-r stepik-dl-nlp/requirements.txt (line 14)) (0.6.0)\n",
            "Requirement already satisfied: wcwidth in /usr/local/lib/python3.6/dist-packages (from prompt-toolkit<2.0.0,>=1.0.4->ipython->-r stepik-dl-nlp/requirements.txt (line 14)) (0.2.5)\n",
            "Requirement already satisfied: urllib3!=1.25.0,!=1.25.1,<1.26,>=1.21.1 in /usr/local/lib/python3.6/dist-packages (from requests>=2.21->pyconll->-r stepik-dl-nlp/requirements.txt (line 15)) (1.24.3)\n",
            "Requirement already satisfied: chardet<4,>=3.0.2 in /usr/local/lib/python3.6/dist-packages (from requests>=2.21->pyconll->-r stepik-dl-nlp/requirements.txt (line 15)) (3.0.4)\n",
            "Requirement already satisfied: idna<3,>=2.5 in /usr/local/lib/python3.6/dist-packages (from requests>=2.21->pyconll->-r stepik-dl-nlp/requirements.txt (line 15)) (2.10)\n",
            "Requirement already satisfied: certifi>=2017.4.17 in /usr/local/lib/python3.6/dist-packages (from requests>=2.21->pyconll->-r stepik-dl-nlp/requirements.txt (line 15)) (2020.12.5)\n",
            "Requirement already satisfied: pillow>=4.0 in /usr/local/lib/python3.6/dist-packages (from bokeh; python_version >= \"3.6\"->livelossplot==0.5.3->-r stepik-dl-nlp/requirements.txt (line 18)) (7.0.0)\n",
            "Requirement already satisfied: Jinja2>=2.7 in /usr/local/lib/python3.6/dist-packages (from bokeh; python_version >= \"3.6\"->livelossplot==0.5.3->-r stepik-dl-nlp/requirements.txt (line 18)) (2.11.2)\n",
            "Requirement already satisfied: PyYAML>=3.10 in /usr/local/lib/python3.6/dist-packages (from bokeh; python_version >= \"3.6\"->livelossplot==0.5.3->-r stepik-dl-nlp/requirements.txt (line 18)) (3.13)\n",
            "Requirement already satisfied: packaging>=16.8 in /usr/local/lib/python3.6/dist-packages (from bokeh; python_version >= \"3.6\"->livelossplot==0.5.3->-r stepik-dl-nlp/requirements.txt (line 18)) (20.7)\n",
            "Requirement already satisfied: importlib-metadata>=0.20; python_version < \"3.8\" in /usr/local/lib/python3.6/dist-packages (from catalogue<1.1.0,>=0.0.7->spacy<3.0.0,>=2.1.0->spacy-udpipe->-r stepik-dl-nlp/requirements.txt (line 2)) (3.1.1)\n",
            "Requirement already satisfied: MarkupSafe>=0.23 in /usr/local/lib/python3.6/dist-packages (from Jinja2>=2.7->bokeh; python_version >= \"3.6\"->livelossplot==0.5.3->-r stepik-dl-nlp/requirements.txt (line 18)) (1.1.1)\n",
            "Requirement already satisfied: zipp>=0.5 in /usr/local/lib/python3.6/dist-packages (from importlib-metadata>=0.20; python_version < \"3.8\"->catalogue<1.1.0,>=0.0.7->spacy<3.0.0,>=2.1.0->spacy-udpipe->-r stepik-dl-nlp/requirements.txt (line 2)) (3.4.0)\n",
            "Building wheels for collected packages: wget, ufal.udpipe, intervaltree\n",
            "  Building wheel for wget (setup.py) ... \u001b[?25l\u001b[?25hdone\n",
            "  Created wheel for wget: filename=wget-3.2-cp36-none-any.whl size=9681 sha256=60e7c97381e3d10a43383b9b3f2b76cbba0e2fd6ddc5ea98cea1b637d52963c4\n",
            "  Stored in directory: /root/.cache/pip/wheels/40/15/30/7d8f7cea2902b4db79e3fea550d7d7b85ecb27ef992b618f3f\n",
            "  Building wheel for ufal.udpipe (setup.py) ... \u001b[?25l\u001b[?25hdone\n",
            "  Created wheel for ufal.udpipe: filename=ufal.udpipe-1.2.0.3-cp36-cp36m-linux_x86_64.whl size=5625188 sha256=61391a126264ec3385f05f620fab43cfff93bce9bdc7d4835319919e2fec2311\n",
            "  Stored in directory: /root/.cache/pip/wheels/0c/9d/db/6d3404c33da5b7adb6c6972853efb6a27649d3ba15f7e9bebb\n",
            "  Building wheel for intervaltree (setup.py) ... \u001b[?25l\u001b[?25hdone\n",
            "  Created wheel for intervaltree: filename=intervaltree-3.1.0-py2.py3-none-any.whl size=26101 sha256=3b3676e19b7d27a9ba27b7135fdfbc9048e5f206c6c0f4316b72948520f06305\n",
            "  Stored in directory: /root/.cache/pip/wheels/f3/f2/66/e9c30d3e9499e65ea2fa0d07c002e64de63bd0adaa49c445bf\n",
            "Successfully built wget ufal.udpipe intervaltree\n",
            "Installing collected packages: ufal.udpipe, spacy-udpipe, dawg-python, pymorphy2-dicts-ru, pymorphy2, intervaltree, ipymarkup, youtokentome, pyconll, gensim, wget, livelossplot\n",
            "  Found existing installation: intervaltree 2.1.0\n",
            "    Uninstalling intervaltree-2.1.0:\n",
            "      Successfully uninstalled intervaltree-2.1.0\n",
            "  Found existing installation: gensim 3.6.0\n",
            "    Uninstalling gensim-3.6.0:\n",
            "      Successfully uninstalled gensim-3.6.0\n",
            "Successfully installed dawg-python-0.7.2 gensim-3.8.1 intervaltree-3.1.0 ipymarkup-0.9.0 livelossplot-0.5.3 pyconll-2.3.3 pymorphy2-0.9.1 pymorphy2-dicts-ru-2.4.417127.4579844 spacy-udpipe-0.3.2 ufal.udpipe-1.2.0.3 wget-3.2 youtokentome-1.0.6\n",
            "['.config', 'stepik-dl-nlp', 'sample_data']\n"
          ],
          "name": "stdout"
        }
      ]
    },
    {
      "cell_type": "code",
      "metadata": {
        "ExecuteTime": {
          "end_time": "2019-09-12T12:42:57.265628Z",
          "start_time": "2019-09-12T12:42:55.188211Z"
        },
        "id": "k6oMa3qJJG0L"
      },
      "source": [
        "import warnings\n",
        "warnings.filterwarnings('ignore')\n",
        "\n",
        "from sklearn.datasets import fetch_20newsgroups\n",
        "from sklearn.metrics import accuracy_score\n",
        "\n",
        "import numpy as np\n",
        "\n",
        "import matplotlib.pyplot as plt\n",
        "%matplotlib inline\n",
        "\n",
        "import collections\n",
        "\n",
        "import torch\n",
        "from torch import nn\n",
        "from torch.nn import functional as F\n",
        "\n",
        "import dlnlputils\n",
        "from dlnlputils.data import tokenize_text_simple_regex, tokenize_corpus, build_vocabulary, \\\n",
        "    vectorize_texts, SparseFeaturesDataset\n",
        "from dlnlputils.pipeline import train_eval_loop, predict_with_model, init_random_seed\n",
        "\n",
        "import re\n",
        "import collections\n",
        "from sklearn.preprocessing import StandardScaler\n",
        "from sklearn.preprocessing import MinMaxScaler\n",
        "from sklearn.preprocessing import Normalizer\n",
        "from sklearn.preprocessing import MaxAbsScaler\n",
        "import scipy.sparse.linalg\n",
        "from copy import deepcopy\n",
        "\n",
        "import scipy.sparse\n",
        "from sklearn.linear_model import LogisticRegression\n",
        "from sklearn.feature_extraction.text import TfidfVectorizer\n",
        "from sklearn.pipeline import Pipeline\n",
        "from sklearn.linear_model import LogisticRegression\n",
        "\n",
        "\n",
        "init_random_seed()"
      ],
      "execution_count": 2,
      "outputs": []
    },
    {
      "cell_type": "markdown",
      "metadata": {
        "id": "BYNyC8rXJG0L"
      },
      "source": [
        "## Предобработка текстов и подготовка признаков"
      ]
    },
    {
      "cell_type": "code",
      "metadata": {
        "ExecuteTime": {
          "end_time": "2019-09-12T12:42:57.847399Z",
          "start_time": "2019-09-12T12:42:57.268037Z"
        },
        "colab": {
          "base_uri": "https://localhost:8080/"
        },
        "id": "HQqyaeEvJG0L",
        "outputId": "636d52cf-aa06-4c1f-d5f6-8dc5757c7c5f"
      },
      "source": [
        "train_source = fetch_20newsgroups(subset='train')\n",
        "test_source = fetch_20newsgroups(subset='test')\n",
        "\n",
        "print('Количество обучающих текстов', len(train_source['data']))\n",
        "print('Количество тестовых текстов', len(test_source['data']))\n",
        "print()\n",
        "print(train_source['data'][0].strip())\n",
        "\n",
        "print()\n",
        "print('Метка', train_source['target'][0])"
      ],
      "execution_count": 3,
      "outputs": [
        {
          "output_type": "stream",
          "text": [
            "Downloading 20news dataset. This may take a few minutes.\n",
            "Downloading dataset from https://ndownloader.figshare.com/files/5975967 (14 MB)\n"
          ],
          "name": "stderr"
        },
        {
          "output_type": "stream",
          "text": [
            "Количество обучающих текстов 11314\n",
            "Количество тестовых текстов 7532\n",
            "\n",
            "From: lerxst@wam.umd.edu (where's my thing)\n",
            "Subject: WHAT car is this!?\n",
            "Nntp-Posting-Host: rac3.wam.umd.edu\n",
            "Organization: University of Maryland, College Park\n",
            "Lines: 15\n",
            "\n",
            " I was wondering if anyone out there could enlighten me on this car I saw\n",
            "the other day. It was a 2-door sports car, looked to be from the late 60s/\n",
            "early 70s. It was called a Bricklin. The doors were really small. In addition,\n",
            "the front bumper was separate from the rest of the body. This is \n",
            "all I know. If anyone can tellme a model name, engine specs, years\n",
            "of production, where this car is made, history, or whatever info you\n",
            "have on this funky looking car, please e-mail.\n",
            "\n",
            "Thanks,\n",
            "- IL\n",
            "   ---- brought to you by your neighborhood Lerxst ----\n",
            "\n",
            "Метка 7\n"
          ],
          "name": "stdout"
        }
      ]
    },
    {
      "cell_type": "code",
      "metadata": {
        "colab": {
          "base_uri": "https://localhost:8080/"
        },
        "id": "gWCeelePj4rP",
        "outputId": "9729232b-e42f-4559-edac-108604e53145"
      },
      "source": [
        "print(train_source.keys(), type(train_source))\n",
        "print(train_source['target_names'][7])\n",
        "print(' '.join(train_source['data'][0].split('\\n')[5:10]))"
      ],
      "execution_count": null,
      "outputs": [
        {
          "output_type": "stream",
          "text": [
            "dict_keys(['data', 'filenames', 'target_names', 'target', 'DESCR']) <class 'sklearn.utils.Bunch'>\n",
            "rec.autos\n",
            "  I was wondering if anyone out there could enlighten me on this car I saw the other day. It was a 2-door sports car, looked to be from the late 60s/ early 70s. It was called a Bricklin. The doors were really small. In addition, the front bumper was separate from the rest of the body. This is \n"
          ],
          "name": "stdout"
        }
      ]
    },
    {
      "cell_type": "markdown",
      "metadata": {
        "id": "9FJ_-4OqlhWQ"
      },
      "source": [
        "##Моя токенизация для мелких задач"
      ]
    },
    {
      "cell_type": "code",
      "metadata": {
        "colab": {
          "base_uri": "https://localhost:8080/"
        },
        "id": "kwZ6J-C4llTG",
        "outputId": "848ae873-234b-4c31-af41-efa004edf96a"
      },
      "source": [
        "TOKEN_RE_wd = re.compile(r'[\\w\\d]+')\n",
        "TOKEN_RE_mine = re.compile(r'[^\\d\\W]+|[\\d]*\\.[\\d]+|-[\\d]*\\.[\\d]+|-[\\d]+|[\\d]+|\\.[\\d]+|[^\\s]')\n",
        "\n",
        "\n",
        "def tokenize_text_simple_mine(txt, regex_, min_token_size=1):\n",
        "    txt = txt.lower()\n",
        "    all_tokens = regex_.findall(txt)\n",
        "    return [token for token in all_tokens if len(token) >= min_token_size]\n",
        "\n",
        "txts = ['Мама мыла раму.',\n",
        "        'Демон123, как тебя зовут в реале?',\n",
        "        '-1-.15=-1.15',\n",
        "        '- 1 - .15=-1.15',\n",
        "        'Какого ;%:?* тут происходит?',\n",
        "        'Значение числа Е=2.7182.']\n",
        "\n",
        "for t in txts:\n",
        "    print(tokenize_text_simple_mine(t, regex_=TOKEN_RE_mine))"
      ],
      "execution_count": null,
      "outputs": [
        {
          "output_type": "stream",
          "text": [
            "['мама', 'мыла', 'раму', '.']\n",
            "['демон', '123', ',', 'как', 'тебя', 'зовут', 'в', 'реале', '?']\n",
            "['-1', '-.15', '=', '-1.15']\n",
            "['-', '1', '-', '.15', '=', '-1.15']\n",
            "['какого', ';', '%', ':', '?', '*', 'тут', 'происходит', '?']\n",
            "['значение', 'числа', 'е', '=', '2.7182', '.']\n"
          ],
          "name": "stdout"
        }
      ]
    },
    {
      "cell_type": "code",
      "metadata": {
        "colab": {
          "base_uri": "https://localhost:8080/"
        },
        "id": "pnEQxPzT1c-4",
        "outputId": "1bb06738-c3d5-4bc1-e469-0e111b0a38ca"
      },
      "source": [
        "def build_voc(tokenized):\n",
        "    word_counts = collections.defaultdict(int)\n",
        "    for txt_ in tokenized:\n",
        "        txt = set(txt_)\n",
        "        for t in txt:\n",
        "            word_counts[t] += 1\n",
        "    word_counts = sorted(word_counts.items(), key=lambda a: a[1])     \n",
        "    return word_counts\n",
        "\n",
        "def build_features(tokenized, voc):\n",
        "    ndocs = len(tokenized)\n",
        "    nw = len(voc)\n",
        "    w_to_id = {w[0]: i for i, w in enumerate(voc)}\n",
        "    tokenized_num = [[w_to_id[w] for w in tok] for tok in tokenized]\n",
        "    tok_feats = np.zeros((ndocs, nw))\n",
        "    for i, tok in enumerate(tokenized_num):\n",
        "        for j in tok:\n",
        "             tok_feats[i][j] += 1\n",
        "    print(tokenized_num)\n",
        "    print(tok_feats)\n",
        "    # print(np.sum(tok_feats, axis=1))\n",
        "    tf = tok_feats * (1. / np.expand_dims(np.sum(tok_feats, axis=1), axis=1))\n",
        "    idf = np.expand_dims(1. / np.sum(tok_feats, axis=0), axis=0)\n",
        "    ltfidf = np.log(tf + 1) * idf\n",
        "    feats_std = ltfidf.std(0, ddof=1)\n",
        "    feats_mean = ltfidf.mean(0)\n",
        "    print(feats_std, feats_mean)    \n",
        "    ltfidf -= feats_mean\n",
        "    ltfidf *= (1./feats_std)\n",
        "    for i in range(ndocs):\n",
        "        print(' '.join([str(k) for k in ltfidf[i]]))\n",
        "\n",
        "tokenized = tokenize_corpus(txts, min_token_size=1)\n",
        "\n",
        "txts = [\"Казнить нельзя, помиловать. Нельзя наказывать.\",\n",
        "        \"Казнить, нельзя помиловать. Нельзя освободить.\",\n",
        "        \"Нельзя не помиловать.\",\n",
        "        \"Обязательно освободить.\"\n",
        "        ]\n",
        "\n",
        "print(tokenized)\n",
        "tok_dict = build_voc(tokenized)\n",
        "print(tok_dict)\n",
        "print(' '.join([d[0] for d in tok_dict]))\n",
        "print(' '.join([str(d[1]/len(txts)) for d in tok_dict]))\n",
        "print(len(tok_dict))\n",
        "build_features(tokenized, tok_dict)"
      ],
      "execution_count": null,
      "outputs": [
        {
          "output_type": "stream",
          "text": [
            "[['казнить', 'нельзя', 'помиловать', 'нельзя', 'наказывать'], ['казнить', 'нельзя', 'помиловать', 'нельзя', 'освободить'], ['нельзя', 'не', 'помиловать'], ['обязательно', 'освободить']]\n",
            "[('наказывать', 1), ('не', 1), ('обязательно', 1), ('казнить', 2), ('освободить', 2), ('нельзя', 3), ('помиловать', 3)]\n",
            "наказывать не обязательно казнить освободить нельзя помиловать\n",
            "0.25 0.25 0.25 0.5 0.5 0.75 0.75\n",
            "7\n",
            "[[3, 5, 6, 5, 0], [3, 5, 6, 5, 4], [5, 1, 6], [2, 4]]\n",
            "[[1. 0. 0. 1. 0. 2. 1.]\n",
            " [0. 0. 0. 1. 1. 2. 1.]\n",
            " [0. 1. 0. 0. 0. 1. 1.]\n",
            " [0. 0. 1. 0. 1. 0. 0.]]\n",
            "[0.09116078 0.14384104 0.20273255 0.0526317  0.09629374 0.0323496\n",
            " 0.03984286] [0.04558039 0.07192052 0.10136628 0.04558039 0.07347333 0.04803133\n",
            " 0.05436043]\n",
            "1.5 -0.5 -0.5 0.8660254037844387 -0.7630125578876946 0.5954669471484165 0.1609678767201035\n",
            "-0.5 -0.5 -0.5 0.8660254037844387 0.18368219185173848 0.5954669471484165 0.1609678767201035\n",
            "-0.5 1.5000000000000002 -0.5 -0.8660254037844387 -0.7630125578876946 0.2938239106183152 1.0424350837750262\n",
            "-0.5 -0.5 1.5 -0.8660254037844387 1.3423429239236506 -1.4847578049151486 -1.3643708372152332\n"
          ],
          "name": "stdout"
        }
      ]
    },
    {
      "cell_type": "markdown",
      "metadata": {
        "id": "vBRgCZWBJG0L"
      },
      "source": [
        "### Подготовка признаков"
      ]
    },
    {
      "cell_type": "code",
      "metadata": {
        "ExecuteTime": {
          "end_time": "2019-09-12T12:43:00.294422Z",
          "start_time": "2019-09-12T12:42:57.849386Z"
        },
        "colab": {
          "base_uri": "https://localhost:8080/"
        },
        "id": "zWOObU8xJG0L",
        "outputId": "965bdad1-4eb4-401c-cc9f-037be362ecf0"
      },
      "source": [
        "train_tokenized = tokenize_corpus(train_source['data'])\n",
        "test_tokenized = tokenize_corpus(test_source['data'])\n",
        "\n",
        "print(' '.join(train_tokenized[0]))"
      ],
      "execution_count": null,
      "outputs": [
        {
          "output_type": "stream",
          "text": [
            "from lerxst where thing subject what this nntp posting host rac3 organization university maryland college park lines wondering anyone there could enlighten this other door sports looked from late early called bricklin doors were really small addition front bumper separate from rest body this know anyone tellme model name engine specs years production where this made history whatever info have this funky looking please mail thanks brought your neighborhood lerxst\n"
          ],
          "name": "stdout"
        }
      ]
    },
    {
      "cell_type": "code",
      "metadata": {
        "ExecuteTime": {
          "end_time": "2019-09-12T12:43:00.825372Z",
          "start_time": "2019-09-12T12:43:00.297392Z"
        },
        "colab": {
          "base_uri": "https://localhost:8080/"
        },
        "id": "WOZC6alJJG0L",
        "outputId": "92b6583b-5078-42c5-bb45-e94c2603b2cc"
      },
      "source": [
        "MAX_DF = 0.8\n",
        "MIN_COUNT = 5\n",
        "vocabulary, word_doc_freq = build_vocabulary(train_tokenized, max_doc_freq=MAX_DF, min_count=MIN_COUNT)\n",
        "UNIQUE_WORDS_N = len(vocabulary)\n",
        "print('Количество уникальных токенов', UNIQUE_WORDS_N)\n",
        "print(list(vocabulary.items())[:10])"
      ],
      "execution_count": null,
      "outputs": [
        {
          "output_type": "stream",
          "text": [
            "Количество уникальных токенов 21628\n",
            "[('that', 0), ('this', 1), ('have', 2), ('with', 3), ('writes', 4), ('article', 5), ('posting', 6), ('host', 7), ('nntp', 8), ('there', 9)]\n"
          ],
          "name": "stdout"
        }
      ]
    },
    {
      "cell_type": "code",
      "metadata": {
        "ExecuteTime": {
          "end_time": "2019-09-12T12:43:01.524600Z",
          "start_time": "2019-09-12T12:43:00.829107Z"
        },
        "colab": {
          "base_uri": "https://localhost:8080/",
          "height": 281
        },
        "id": "ejI2cEw2JG0L",
        "outputId": "9e43cd61-295a-431d-a898-d0e6cec831e3"
      },
      "source": [
        "plt.hist(word_doc_freq, bins=20)\n",
        "plt.title('Распределение относительных частот слов')\n",
        "plt.yscale('log');"
      ],
      "execution_count": null,
      "outputs": [
        {
          "output_type": "display_data",
          "data": {
            "image/png": "[encoded data removed]",
            "text/plain": [
              "<Figure size 432x288 with 1 Axes>"
            ]
          },
          "metadata": {
            "tags": [],
            "needs_background": "light"
          }
        }
      ]
    },
    {
      "cell_type": "code",
      "metadata": {
        "ExecuteTime": {
          "end_time": "2019-09-12T12:44:16.094816Z",
          "start_time": "2019-09-12T12:43:01.526554Z"
        },
        "colab": {
          "base_uri": "https://localhost:8080/"
        },
        "id": "gu1sLNS4JG0M",
        "outputId": "bcf383de-22f7-452e-ae1e-f9ea13216f69"
      },
      "source": [
        "VECTORIZATION_MODE = 'tfidf'\n",
        "train_vectors = vectorize_texts(train_tokenized, vocabulary, word_doc_freq, mode=VECTORIZATION_MODE)\n",
        "test_vectors = vectorize_texts(test_tokenized, vocabulary, word_doc_freq, mode=VECTORIZATION_MODE)\n",
        "\n",
        "print('Размерность матрицы признаков обучающей выборки', train_vectors.shape)\n",
        "print('Размерность матрицы признаков тестовой выборки', test_vectors.shape)\n",
        "print()\n",
        "print('Количество ненулевых элементов в обучающей выборке', train_vectors.nnz)\n",
        "print('Процент заполненности матрицы признаков {:.2f}%'.format(train_vectors.nnz * 100 / (train_vectors.shape[0] * train_vectors.shape[1])))\n",
        "print()\n",
        "print('Количество ненулевых элементов в тестовой выборке', test_vectors.nnz)\n",
        "print('Процент заполненности матрицы признаков {:.2f}%'.format(test_vectors.nnz * 100 / (test_vectors.shape[0] * test_vectors.shape[1])))"
      ],
      "execution_count": null,
      "outputs": [
        {
          "output_type": "stream",
          "text": [
            "Размерность матрицы признаков обучающей выборки (11314, 21628)\n",
            "Размерность матрицы признаков тестовой выборки (7532, 21628)\n",
            "\n",
            "Количество ненулевых элементов в обучающей выборке 1126792\n",
            "Процент заполненности матрицы признаков 0.46%\n",
            "\n",
            "Количество ненулевых элементов в тестовой выборке 721529\n",
            "Процент заполненности матрицы признаков 0.44%\n"
          ],
          "name": "stdout"
        }
      ]
    },
    {
      "cell_type": "code",
      "metadata": {
        "ExecuteTime": {
          "end_time": "2019-09-12T12:44:16.857114Z",
          "start_time": "2019-09-12T12:44:16.098773Z"
        },
        "colab": {
          "base_uri": "https://localhost:8080/",
          "height": 281
        },
        "id": "Ufi0ol-tJG0M",
        "outputId": "95e957e4-6bc6-4b3d-84ca-c828fd440728"
      },
      "source": [
        "plt.hist(train_vectors.data, bins=20)\n",
        "plt.title('Распределение весов признаков')\n",
        "plt.yscale('log');"
      ],
      "execution_count": null,
      "outputs": [
        {
          "output_type": "display_data",
          "data": {
            "image/png": "[encoded data removed]",
            "text/plain": [
              "<Figure size 432x288 with 1 Axes>"
            ]
          },
          "metadata": {
            "tags": [],
            "needs_background": "light"
          }
        }
      ]
    },
    {
      "cell_type": "markdown",
      "metadata": {
        "id": "5_lVOXbWJG0N"
      },
      "source": [
        "### Распределение классов"
      ]
    },
    {
      "cell_type": "code",
      "metadata": {
        "ExecuteTime": {
          "end_time": "2019-09-12T12:44:16.864960Z",
          "start_time": "2019-09-12T12:44:16.859476Z"
        },
        "colab": {
          "base_uri": "https://localhost:8080/"
        },
        "id": "H5w0XYoLJG0N",
        "outputId": "3762ee86-a7ba-41eb-d16e-37d772caeeaa"
      },
      "source": [
        "UNIQUE_LABELS_N = len(set(train_source['target']))\n",
        "print('Количество уникальных меток', UNIQUE_LABELS_N)"
      ],
      "execution_count": null,
      "outputs": [
        {
          "output_type": "stream",
          "text": [
            "Количество уникальных меток 20\n"
          ],
          "name": "stdout"
        }
      ]
    },
    {
      "cell_type": "code",
      "metadata": {
        "ExecuteTime": {
          "end_time": "2019-09-12T12:44:17.106036Z",
          "start_time": "2019-09-12T12:44:16.867310Z"
        },
        "colab": {
          "base_uri": "https://localhost:8080/",
          "height": 281
        },
        "id": "QOqZOdYOJG0N",
        "outputId": "cc30c14e-25e5-4ba3-8585-42b77e4bb611"
      },
      "source": [
        "plt.hist(train_source['target'], bins=np.arange(0, 21))\n",
        "plt.title('Распределение меток в обучающей выборке');"
      ],
      "execution_count": null,
      "outputs": [
        {
          "output_type": "display_data",
          "data": {
            "image/png": "[encoded data removed]",
            "text/plain": [
              "<Figure size 432x288 with 1 Axes>"
            ]
          },
          "metadata": {
            "tags": [],
            "needs_background": "light"
          }
        }
      ]
    },
    {
      "cell_type": "code",
      "metadata": {
        "ExecuteTime": {
          "end_time": "2019-09-12T12:44:17.312198Z",
          "start_time": "2019-09-12T12:44:17.109884Z"
        },
        "scrolled": true,
        "colab": {
          "base_uri": "https://localhost:8080/",
          "height": 281
        },
        "id": "sN0C8-1EJG0N",
        "outputId": "31de3f29-67b8-458d-d093-db4ec3d9d4be"
      },
      "source": [
        "plt.hist(test_source['target'], bins=np.arange(0, 21))\n",
        "plt.title('Распределение меток в тестовой выборке');"
      ],
      "execution_count": null,
      "outputs": [
        {
          "output_type": "display_data",
          "data": {
            "image/png": "[encoded data removed]",
            "text/plain": [
              "<Figure size 432x288 with 1 Axes>"
            ]
          },
          "metadata": {
            "tags": [],
            "needs_background": "light"
          }
        }
      ]
    },
    {
      "cell_type": "markdown",
      "metadata": {
        "id": "YhFeSphpJG0N"
      },
      "source": [
        "### PyTorch Dataset"
      ]
    },
    {
      "cell_type": "code",
      "metadata": {
        "ExecuteTime": {
          "end_time": "2019-09-12T12:44:17.319292Z",
          "start_time": "2019-09-12T12:44:17.315074Z"
        },
        "id": "aUSDBvGhJG0N"
      },
      "source": [
        "train_dataset = SparseFeaturesDataset(train_vectors, train_source['target'])\n",
        "test_dataset = SparseFeaturesDataset(test_vectors, test_source['target'])"
      ],
      "execution_count": null,
      "outputs": []
    },
    {
      "cell_type": "markdown",
      "metadata": {
        "id": "wFvIMLoIJG0N"
      },
      "source": [
        "## Обучение модели на PyTorch"
      ]
    },
    {
      "cell_type": "code",
      "metadata": {
        "ExecuteTime": {
          "end_time": "2019-09-12T12:46:22.371272Z",
          "start_time": "2019-09-12T12:44:17.322178Z"
        },
        "scrolled": false,
        "colab": {
          "base_uri": "https://localhost:8080/"
        },
        "id": "9BTuDD1oJG0N",
        "outputId": "4d81108c-72b0-4e3e-8040-9b69045ab3f4"
      },
      "source": [
        "model = nn.Linear(UNIQUE_WORDS_N, UNIQUE_LABELS_N)\n",
        "\n",
        "scheduler = lambda optim: \\\n",
        "    torch.optim.lr_scheduler.ReduceLROnPlateau(optim, patience=5, factor=0.5, verbose=True)\n",
        "\n",
        "best_val_loss, best_model = train_eval_loop(model=model,\n",
        "                                            train_dataset=train_dataset,\n",
        "                                            val_dataset=test_dataset,\n",
        "                                            criterion=F.cross_entropy,\n",
        "                                            lr=1e-1,\n",
        "                                            epoch_n=200,\n",
        "                                            batch_size=32,\n",
        "                                            l2_reg_alpha=0,\n",
        "                                            lr_scheduler_ctor=scheduler)"
      ],
      "execution_count": null,
      "outputs": [
        {
          "output_type": "stream",
          "text": [
            "Эпоха 0\n",
            "Эпоха: 354 итераций, 2.04 сек\n",
            "Среднее значение функции потерь на обучении 2.2250226864033498\n",
            "Среднее значение функции потерь на валидации 2.1193228081121283\n",
            "Новая лучшая модель!\n",
            "\n",
            "Эпоха 1\n",
            "Эпоха: 354 итераций, 1.87 сек\n",
            "Среднее значение функции потерь на обучении 0.9164793370133739\n",
            "Среднее значение функции потерь на валидации 1.6757678445112907\n",
            "Новая лучшая модель!\n",
            "\n",
            "Эпоха 2\n",
            "Эпоха: 354 итераций, 1.85 сек\n",
            "Среднее значение функции потерь на обучении 0.4659293549040617\n",
            "Среднее значение функции потерь на валидации 1.4736663820379872\n",
            "Новая лучшая модель!\n",
            "\n",
            "Эпоха 3\n",
            "Эпоха: 354 итераций, 1.88 сек\n",
            "Среднее значение функции потерь на обучении 0.2840370426406968\n",
            "Среднее значение функции потерь на валидации 1.3451766247971584\n",
            "Новая лучшая модель!\n",
            "\n",
            "Эпоха 4\n",
            "Эпоха: 354 итераций, 1.86 сек\n",
            "Среднее значение функции потерь на обучении 0.19067820321537007\n",
            "Среднее значение функции потерь на валидации 1.2647168775231152\n",
            "Новая лучшая модель!\n",
            "\n",
            "Эпоха 5\n",
            "Эпоха: 354 итераций, 1.85 сек\n",
            "Среднее значение функции потерь на обучении 0.13671450463181498\n",
            "Среднее значение функции потерь на валидации 1.2008045371306144\n",
            "Новая лучшая модель!\n",
            "\n",
            "Эпоха 6\n",
            "Эпоха: 354 итераций, 1.84 сек\n",
            "Среднее значение функции потерь на обучении 0.10171837011341658\n",
            "Среднее значение функции потерь на валидации 1.1603826779430195\n",
            "Новая лучшая модель!\n",
            "\n",
            "Эпоха 7\n",
            "Эпоха: 354 итераций, 1.86 сек\n",
            "Среднее значение функции потерь на обучении 0.07843667881216033\n",
            "Среднее значение функции потерь на валидации 1.118864730000496\n",
            "Новая лучшая модель!\n",
            "\n",
            "Эпоха 8\n",
            "Эпоха: 354 итераций, 1.87 сек\n",
            "Среднее значение функции потерь на обучении 0.06154115289702254\n",
            "Среднее значение функции потерь на валидации 1.0848583114349235\n",
            "Новая лучшая модель!\n",
            "\n",
            "Эпоха 9\n",
            "Эпоха: 354 итераций, 1.86 сек\n",
            "Среднее значение функции потерь на обучении 0.049364450190342586\n",
            "Среднее значение функции потерь на валидации 1.0622101522098153\n",
            "Новая лучшая модель!\n",
            "\n",
            "Эпоха 10\n",
            "Эпоха: 354 итераций, 1.87 сек\n",
            "Среднее значение функции потерь на обучении 0.039994424348433984\n",
            "Среднее значение функции потерь на валидации 1.0450992958020355\n",
            "Новая лучшая модель!\n",
            "\n",
            "Эпоха 11\n",
            "Эпоха: 354 итераций, 1.87 сек\n",
            "Среднее значение функции потерь на обучении 0.032936409781397565\n",
            "Среднее значение функции потерь на валидации 1.0290353103714474\n",
            "Новая лучшая модель!\n",
            "\n",
            "Эпоха 12\n",
            "Эпоха: 354 итераций, 1.87 сек\n",
            "Среднее значение функции потерь на обучении 0.02756039533727292\n",
            "Среднее значение функции потерь на валидации 1.0156925421650127\n",
            "Новая лучшая модель!\n",
            "\n",
            "Эпоха 13\n",
            "Эпоха: 354 итераций, 1.89 сек\n",
            "Среднее значение функции потерь на обучении 0.023192742129124828\n",
            "Среднее значение функции потерь на валидации 0.997167650673349\n",
            "Новая лучшая модель!\n",
            "\n",
            "Эпоха 14\n",
            "Эпоха: 354 итераций, 1.87 сек\n",
            "Среднее значение функции потерь на обучении 0.01949927708697058\n",
            "Среднее значение функции потерь на валидации 0.9858471587047739\n",
            "Новая лучшая модель!\n",
            "\n",
            "Эпоха 15\n",
            "Эпоха: 354 итераций, 1.87 сек\n",
            "Среднее значение функции потерь на обучении 0.01652250034040061\n",
            "Среднее значение функции потерь на валидации 0.9851063507593284\n",
            "Новая лучшая модель!\n",
            "\n",
            "Эпоха 16\n",
            "Эпоха: 354 итераций, 1.87 сек\n",
            "Среднее значение функции потерь на обучении 0.014381151896306855\n",
            "Среднее значение функции потерь на валидации 0.9818632644364389\n",
            "Новая лучшая модель!\n",
            "\n",
            "Эпоха 17\n",
            "Эпоха: 354 итераций, 1.91 сек\n",
            "Среднее значение функции потерь на обучении 0.012216258887464634\n",
            "Среднее значение функции потерь на валидации 0.9786693655838401\n",
            "Новая лучшая модель!\n",
            "\n",
            "Эпоха 18\n",
            "Эпоха: 354 итераций, 1.87 сек\n",
            "Среднее значение функции потерь на обучении 0.010692148725239107\n",
            "Среднее значение функции потерь на валидации 0.9606715474845999\n",
            "Новая лучшая модель!\n",
            "\n",
            "Эпоха 19\n",
            "Эпоха: 354 итераций, 1.86 сек\n",
            "Среднее значение функции потерь на обучении 0.009467412650553604\n",
            "Среднее значение функции потерь на валидации 0.9558693073311094\n",
            "Новая лучшая модель!\n",
            "\n",
            "Эпоха 20\n",
            "Эпоха: 354 итераций, 1.88 сек\n",
            "Среднее значение функции потерь на обучении 0.008242578644273897\n",
            "Среднее значение функции потерь на валидации 0.9674801797432414\n",
            "\n",
            "Эпоха 21\n",
            "Эпоха: 354 итераций, 1.86 сек\n",
            "Среднее значение функции потерь на обучении 0.007372830275546149\n",
            "Среднее значение функции потерь на валидации 0.9419820119263762\n",
            "Новая лучшая модель!\n",
            "\n",
            "Эпоха 22\n",
            "Эпоха: 354 итераций, 1.89 сек\n",
            "Среднее значение функции потерь на обучении 0.006707966396398316\n",
            "Среднее значение функции потерь на валидации 0.9431579471644709\n",
            "\n",
            "Эпоха 23\n",
            "Эпоха: 354 итераций, 1.87 сек\n",
            "Среднее значение функции потерь на обучении 0.005953488514974376\n",
            "Среднее значение функции потерь на валидации 0.943088234607446\n",
            "\n",
            "Эпоха 24\n",
            "Эпоха: 354 итераций, 1.90 сек\n",
            "Среднее значение функции потерь на обучении 0.0055773390851991175\n",
            "Среднее значение функции потерь на валидации 0.9346266712172556\n",
            "Новая лучшая модель!\n",
            "\n",
            "Эпоха 25\n",
            "Эпоха: 354 итераций, 1.89 сек\n",
            "Среднее значение функции потерь на обучении 0.004908504503375277\n",
            "Среднее значение функции потерь на валидации 0.9600751338116194\n",
            "\n",
            "Эпоха 26\n",
            "Эпоха: 354 итераций, 1.87 сек\n",
            "Среднее значение функции потерь на обучении 0.004591085361698274\n",
            "Среднее значение функции потерь на валидации 0.9409770848134816\n",
            "\n",
            "Эпоха 27\n",
            "Эпоха: 354 итераций, 1.84 сек\n",
            "Среднее значение функции потерь на обучении 0.0044582263986832635\n",
            "Среднее значение функции потерь на валидации 0.9326977794200687\n",
            "Новая лучшая модель!\n",
            "\n",
            "Эпоха 28\n",
            "Эпоха: 354 итераций, 1.86 сек\n",
            "Среднее значение функции потерь на обучении 0.003890543268127946\n",
            "Среднее значение функции потерь на валидации 0.9328169679995311\n",
            "\n",
            "Эпоха 29\n",
            "Эпоха: 354 итераций, 1.86 сек\n",
            "Среднее значение функции потерь на обучении 0.0037925839172557817\n",
            "Среднее значение функции потерь на валидации 0.9658883936324362\n",
            "\n",
            "Эпоха 30\n",
            "Эпоха: 354 итераций, 1.84 сек\n",
            "Среднее значение функции потерь на обучении 0.003105838056722798\n",
            "Среднее значение функции потерь на валидации 0.9778740503272768\n",
            "\n",
            "Эпоха 31\n",
            "Эпоха: 354 итераций, 1.86 сек\n",
            "Среднее значение функции потерь на обучении 0.0033677035471915114\n",
            "Среднее значение функции потерь на валидации 0.9734006013910649\n",
            "\n",
            "Эпоха 32\n",
            "Эпоха: 354 итераций, 1.87 сек\n",
            "Среднее значение функции потерь на обучении 0.0028430755388851297\n",
            "Среднее значение функции потерь на валидации 1.0043131933879044\n",
            "\n",
            "Эпоха 33\n",
            "Эпоха: 354 итераций, 1.86 сек\n",
            "Среднее значение функции потерь на обучении 0.0029573843801360563\n",
            "Среднее значение функции потерь на валидации 0.9668052058856366\n",
            "Epoch    34: reducing learning rate of group 0 to 5.0000e-02.\n",
            "\n",
            "Эпоха 34\n",
            "Эпоха: 354 итераций, 1.87 сек\n",
            "Среднее значение функции потерь на обучении 0.0023761899881791664\n",
            "Среднее значение функции потерь на валидации 0.9410562410445537\n",
            "\n",
            "Эпоха 35\n",
            "Эпоха: 354 итераций, 1.86 сек\n",
            "Среднее значение функции потерь на обучении 0.00219726607997344\n",
            "Среднее значение функции потерь на валидации 0.9460452502056703\n",
            "\n",
            "Эпоха 36\n",
            "Эпоха: 354 итераций, 1.87 сек\n",
            "Среднее значение функции потерь на обучении 0.002139114797084742\n",
            "Среднее значение функции потерь на валидации 0.9517218403013076\n",
            "\n",
            "Эпоха 37\n",
            "Эпоха: 354 итераций, 1.86 сек\n",
            "Среднее значение функции потерь на обучении 0.00213929154970328\n",
            "Среднее значение функции потерь на валидации 0.9406466273180509\n",
            "\n",
            "Эпоха 38\n",
            "Эпоха: 354 итераций, 1.87 сек\n",
            "Среднее значение функции потерь на обучении 0.0021328300663607464\n",
            "Среднее значение функции потерь на валидации 0.9461855736829466\n",
            "Модель не улучшилась за последние 10 эпох, прекращаем обучение\n"
          ],
          "name": "stdout"
        }
      ]
    },
    {
      "cell_type": "markdown",
      "metadata": {
        "id": "-D-T5ahuJG0N"
      },
      "source": [
        "## Оценка качества"
      ]
    },
    {
      "cell_type": "code",
      "metadata": {
        "ExecuteTime": {
          "end_time": "2019-09-12T12:46:25.105663Z",
          "start_time": "2019-09-12T12:46:22.373012Z"
        },
        "colab": {
          "base_uri": "https://localhost:8080/"
        },
        "id": "3jRJlfBLJG0N",
        "outputId": "3dbda323-6f21-432d-a352-7ec55b79b0b0"
      },
      "source": [
        "train_pred = predict_with_model(best_model, train_dataset)\n",
        "\n",
        "train_loss = F.cross_entropy(torch.from_numpy(train_pred),\n",
        "                             torch.from_numpy(train_source['target']).long())\n",
        "\n",
        "print('Среднее значение функции потерь на обучении', float(train_loss))\n",
        "print('Доля верных ответов', accuracy_score(train_source['target'], train_pred.argmax(-1)))\n",
        "print()\n",
        "\n",
        "\n",
        "\n",
        "test_pred = predict_with_model(best_model, test_dataset)\n",
        "\n",
        "test_loss = F.cross_entropy(torch.from_numpy(test_pred),\n",
        "                            torch.from_numpy(test_source['target']).long())\n",
        "\n",
        "print('Среднее значение функции потерь на валидации', float(test_loss))\n",
        "print('Доля верных ответов', accuracy_score(test_source['target'], test_pred.argmax(-1)))"
      ],
      "execution_count": null,
      "outputs": [
        {
          "output_type": "stream",
          "text": [
            "100%|██████████| 354/353.5625 [00:01<00:00, 201.37it/s]\n",
            "  9%|▉         | 21/235.375 [00:00<00:01, 207.58it/s]"
          ],
          "name": "stderr"
        },
        {
          "output_type": "stream",
          "text": [
            "Среднее значение функции потерь на обучении 0.003156959777697921\n",
            "Доля верных ответов 0.9993812975075128\n",
            "\n"
          ],
          "name": "stdout"
        },
        {
          "output_type": "stream",
          "text": [
            "236it [00:01, 205.16it/s]                             "
          ],
          "name": "stderr"
        },
        {
          "output_type": "stream",
          "text": [
            "Среднее значение функции потерь на валидации 0.9307225942611694\n",
            "Доля верных ответов 0.7651354221986192\n"
          ],
          "name": "stdout"
        },
        {
          "output_type": "stream",
          "text": [
            "\n"
          ],
          "name": "stderr"
        }
      ]
    },
    {
      "cell_type": "markdown",
      "metadata": {
        "id": "akvJlcIvJG0N"
      },
      "source": [
        "# Альтернативная реализация на scikit-learn"
      ]
    },
    {
      "cell_type": "code",
      "metadata": {
        "ExecuteTime": {
          "end_time": "2019-09-12T12:46:31.791405Z",
          "start_time": "2019-09-12T12:46:25.107897Z"
        },
        "scrolled": false,
        "id": "6p4BwIq2JG0N"
      },
      "source": [
        "sklearn_pipeline = Pipeline((('vect', TfidfVectorizer(tokenizer=tokenize_text_simple_regex,\n",
        "                                                      max_df=MAX_DF,\n",
        "                                                      min_df=MIN_COUNT)),\n",
        "                             ('cls', LogisticRegression())))\n",
        "sklearn_pipeline.fit(train_source['data'], train_source['target']);"
      ],
      "execution_count": null,
      "outputs": []
    },
    {
      "cell_type": "markdown",
      "metadata": {
        "id": "hebxWdLcJG0N"
      },
      "source": [
        "## Оценка качества"
      ]
    },
    {
      "cell_type": "code",
      "metadata": {
        "ExecuteTime": {
          "end_time": "2019-09-12T12:46:35.454567Z",
          "start_time": "2019-09-12T12:46:31.792832Z"
        },
        "colab": {
          "base_uri": "https://localhost:8080/"
        },
        "id": "K6HM_mC9JG0N",
        "outputId": "185859af-5d4f-4505-dba8-02832d43e47d"
      },
      "source": [
        "sklearn_train_pred = sklearn_pipeline.predict_proba(train_source['data'])\n",
        "sklearn_train_loss = F.cross_entropy(torch.from_numpy(sklearn_train_pred),\n",
        "                                                 torch.from_numpy(train_source['target']))\n",
        "print('Среднее значение функции потерь на обучении', float(sklearn_train_loss))\n",
        "print('Доля верных ответов', accuracy_score(train_source['target'], sklearn_train_pred.argmax(-1)))\n",
        "print()\n",
        "\n",
        "sklearn_test_pred = sklearn_pipeline.predict_proba(test_source['data'])\n",
        "sklearn_test_loss = F.cross_entropy(torch.from_numpy(sklearn_test_pred),\n",
        "                                                torch.from_numpy(test_source['target']))\n",
        "print('Среднее значение функции потерь на валидации', float(sklearn_test_loss))\n",
        "print('Доля верных ответов', accuracy_score(test_source['target'], sklearn_test_pred.argmax(-1)))"
      ],
      "execution_count": null,
      "outputs": [
        {
          "output_type": "stream",
          "text": [
            "Среднее значение функции потерь на обучении 2.495478891857855\n",
            "Доля верных ответов 0.9716280714159449\n",
            "\n",
            "Среднее значение функции потерь на валидации 2.653902258233705\n",
            "Доля верных ответов 0.8190387679235263\n"
          ],
          "name": "stdout"
        }
      ]
    },
    {
      "cell_type": "markdown",
      "metadata": {
        "id": "_FvSe1e85NwE"
      },
      "source": [
        "### Моя модель"
      ]
    },
    {
      "cell_type": "code",
      "metadata": {
        "colab": {
          "base_uri": "https://localhost:8080/"
        },
        "id": "zPCWwTrOCJ8P",
        "outputId": "f558da5d-c830-4c44-ef7c-2f446e076720"
      },
      "source": [
        "import nltk\n",
        "\n",
        "nltk.download('stopwords')\n",
        "from nltk.corpus import stopwords\n",
        "\n",
        "nltk.download('wordnet')\n",
        "lemma = nltk.wordnet.WordNetLemmatizer()\n",
        "\n",
        "sno = nltk.stem.SnowballStemmer('english')\n",
        "\n",
        "stopwords_en = stopwords.words('english')"
      ],
      "execution_count": 47,
      "outputs": [
        {
          "output_type": "stream",
          "text": [
            "[nltk_data] Downloading package stopwords to /root/nltk_data...\n",
            "[nltk_data]   Package stopwords is already up-to-date!\n",
            "[nltk_data] Downloading package wordnet to /root/nltk_data...\n",
            "[nltk_data]   Package wordnet is already up-to-date!\n"
          ],
          "name": "stdout"
        }
      ]
    },
    {
      "cell_type": "code",
      "metadata": {
        "id": "ABDpdteBBDxF"
      },
      "source": [
        "TOKEN_RE = re.compile(r'[\\w\\d]+')\n",
        "\n",
        "\n",
        "def tokenize_text_simple_regex(txt, min_token_size=4, ngram=1):\n",
        "    txt = txt.lower()\n",
        "    all_tokens = TOKEN_RE.findall(txt)\n",
        "    if ngram <= 1:\n",
        "        return [token for token in all_tokens if len(token) >= min_token_size]\n",
        "    else:\n",
        "        tokenized = [token for token in all_tokens if len(token) >= min_token_size]\n",
        "        return [tuple(tokenized[i: i + ngram]) for i in range(0, len(tokenized), ngram)]\n",
        "\n",
        "def tokenize_text_lemmatized(txt, min_token_size=4, ngram=1):\n",
        "    txt = txt.lower()\n",
        "    all_tokens = TOKEN_RE.findall(txt)\n",
        "    lemmatized = [lemma.lemmatize(token) for token in all_tokens]\n",
        "    if ngram <= 1:\n",
        "        return list(filter(lambda x: len(x) >= min_token_size, lemmatized))\n",
        "    else:\n",
        "        lemmatized = list(filter(lambda x: len(x) >= min_token_size, lemmatized))\n",
        "        return [tuple(lemmatized[i: i + ngram]) for i in range(0, len(lemmatized), ngram)]\n",
        "\n",
        "\n",
        "def tokenize_text_stemmed(txt, min_token_size=4, ngram=1):\n",
        "    txt = txt.lower()\n",
        "    all_tokens = TOKEN_RE.findall(txt)\n",
        "    stemmed = [sno.stem(token) for token in all_tokens]\n",
        "    if ngram <= 1:\n",
        "        return list(filter(lambda x: len(x) >= min_token_size, stemmed))\n",
        "    else:\n",
        "        stemmed = list(filter(lambda x: len(x) >= min_token_size, stemmed))\n",
        "        return [tuple(stemmed[i: i + ngram]) for i in range(0, len(stemmed), ngram)]\n",
        "\n",
        "\n",
        "# def character_tokenize(txt):\n",
        "#     return list(txt)\n",
        "\n",
        "\n",
        "# def tokenize_corpus(texts, tokenizer=tokenize_text_simple_regex, **tokenizer_kwargs):\n",
        "#     return [tokenizer(text, **tokenizer_kwargs) for text in texts]\n",
        "\n",
        "\n",
        "# def add_fake_token(word2id, token='<PAD>'):\n",
        "#     word2id_new = {token: i + 1 for token, i in word2id.items()}\n",
        "#     word2id_new[token] = 0\n",
        "#     return word2id_new\n",
        "\n",
        "\n",
        "# def texts_to_token_ids(tokenized_texts, word2id):\n",
        "#     return [[word2id[token] for token in text if token in word2id]\n",
        "#             for text in tokenized_texts]\n",
        "\n",
        "\n",
        "def build_vocabulary(tokenized_texts, max_size=1000000, max_doc_freq=0.8, min_count=5, pad_word=None, use_pmi_filter=False, pmi_voc_prev=None, pmi_wl_matrix=None):\n",
        "    word_counts = collections.defaultdict(int)\n",
        "    doc_n = 0\n",
        "\n",
        "    # посчитать количество документов, в которых употребляется каждое слово\n",
        "    # а также общее количество документов\n",
        "    for txt in tokenized_texts:\n",
        "        doc_n += 1\n",
        "        unique_text_tokens = set(txt)\n",
        "        for token in unique_text_tokens:\n",
        "            word_counts[token] += 1\n",
        "    \n",
        "    # убрать слишком редкие и слишком частые слова\n",
        "    \n",
        "    if use_pmi_filter and pmi_wl_matrix is not None and pmi_voc_prev is not None:\n",
        "        # pmi_std_bad = (np.std(pmi_wl_matrix, axis=1) >= 1.5)\n",
        "        pmi_median_bad = (np.median(pmi_wl_matrix, axis=1) >= 0.5)\n",
        "        word_counts = {word: cnt for word, cnt in word_counts.items()\n",
        "                       if cnt >= min_count and cnt / doc_n <= max_doc_freq \n",
        "                       and pmi_median_bad[pmi_voc_prev[word]]}\n",
        "    else:\n",
        "        word_counts = {word: cnt for word, cnt in word_counts.items()\n",
        "                       if cnt >= min_count and cnt / doc_n <= max_doc_freq}\n",
        "\n",
        "    # отсортировать слова по убыванию частоты\n",
        "    sorted_word_counts = sorted(word_counts.items(),\n",
        "                                reverse=True,\n",
        "                                key=lambda pair: pair[1])\n",
        "\n",
        "    # добавим несуществующее слово с индексом 0 для удобства пакетной обработки\n",
        "    if pad_word is not None:\n",
        "        sorted_word_counts = [(pad_word, 0)] + sorted_word_counts\n",
        "\n",
        "    # если у нас по прежнему слишком много слов, оставить только max_size самых частотных\n",
        "    if len(word_counts) > max_size:\n",
        "        sorted_word_counts = sorted_word_counts[:max_size]\n",
        "\n",
        "    # нумеруем слова\n",
        "    word2id = {word: i for i, (word, _) in enumerate(sorted_word_counts)}\n",
        "\n",
        "    # # нормируем частоты слов\n",
        "    word2freq = np.array([cnt  for _, cnt in sorted_word_counts], dtype='float32')  # cnt / doc_n\n",
        "\n",
        "    return word2id, word2freq\n",
        "\n",
        "\n",
        "def vectorize_texts(tokenized_texts, word2id, word2freq, mode='tfidf', scale=None, pmi_wl_matrix=None, scalers=None):\n",
        "    assert mode in {'tfidf', 'idf', 'tf', 'bin', 'ltfidf', 'ltfpmi', 'tfidfnew', 'ltfidfnew'}\n",
        "    assert scale in {'minmax', 'rownorm', 'std', None}\n",
        "    n_docs = len(tokenized_texts)\n",
        "    # считаем количество употреблений каждого слова в каждом документе\n",
        "    result = scipy.sparse.dok_matrix((len(tokenized_texts), len(word2id)), dtype='float32')\n",
        "    for text_i, text in enumerate(tokenized_texts):\n",
        "        for token in text:\n",
        "            if token in word2id:\n",
        "                result[text_i, word2id[token]] += 1\n",
        "\n",
        "    # получаем бинарные вектора \"встречается или нет\"\n",
        "    if mode == 'bin':\n",
        "        result = (result > 0).astype('float32')\n",
        "\n",
        "    # получаем вектора относительных частот слова в документе\n",
        "    elif mode == 'tf':\n",
        "        result = result.tocsr()\n",
        "        # result = result.multiply(1 / result.sum(1))\n",
        "\n",
        "    # полностью убираем информацию о количестве употреблений слова в данном документе,\n",
        "    # но оставляем информацию о частотности слова в корпусе в целом\n",
        "    elif mode == 'idf':\n",
        "        result = (result > 0).astype('float32').multiply(n_docs / word2freq)\n",
        "\n",
        "    # учитываем всю информацию, которая у нас есть:\n",
        "    # частоту слова в документе и частоту слова в корпусе\n",
        "    elif mode == 'tfidf':\n",
        "        result = result.tocsr()\n",
        "        result = result.multiply(1 / result.sum(1))  # разделить каждую строку на её длину\n",
        "        result = result.multiply(n_docs / word2freq)  # разделить каждый столбец на вес слова\n",
        "        \n",
        "    elif mode == 'ltfidf':\n",
        "        result = (result.multiply(1 / result.sum(1))).log1p()\n",
        "        result = result.multiply(n_docs / word2freq)\n",
        "\n",
        "    elif mode == 'ltfpmi':\n",
        "        result = (result.multiply(1 / result.sum(1))).log1p()\n",
        "        result = result.multiply(np.amax(pmi_wl_matrix, axis=0))\n",
        "\n",
        "    elif mode == 'tfidfnew':\n",
        "        result = result.tocsr()\n",
        "        idf = np.log((n_docs + 1)/ (word2freq + 1)) + 1\n",
        "        # result = result.multiply(1 / result.sum(1))  # разделить каждую строку на её длину\n",
        "        result = result.multiply(idf)  # разделить каждый столбец на вес слова\n",
        "        \n",
        "    elif mode == 'ltfidfnew':\n",
        "        result = result.tocsr()\n",
        "        idf = np.log((n_docs + 1)/ (word2freq + 1)) + 1\n",
        "        # result = (result.multiply(1 / result.sum(1))).log1p()\n",
        "        result = result.log1p()\n",
        "        result = result.multiply(idf)\n",
        "  \n",
        "    if scale == 'std':\n",
        "        result = result.tocsc()\n",
        "        if scalers is None:\n",
        "            rstd = 1. / result.A.std(axis=0)\n",
        "            result = result.multiply(rstd)\n",
        "            return result.tocsr(), None, rstd\n",
        "        else:\n",
        "            result = result.multiply(scalers[1])\n",
        "    elif scale == 'minmax':\n",
        "        result = result.tocsc()\n",
        "        if scalers is None:\n",
        "            rmin = result.min()\n",
        "            result -= rmin\n",
        "            rmax = 1. / (result.max() + 1e-6)\n",
        "            result = result.multiply(rmax)\n",
        "            return result.tocsr(), rmin, rmax\n",
        "        else:\n",
        "          result -= scalers[0]\n",
        "          result = result.multiply(scalers[1])\n",
        "    elif scale == 'rownorm':\n",
        "        result = result.tocsr()\n",
        "        rown = np.expand_dims(1. / scipy.sparse.linalg.norm(result, axis=1), axis=1)\n",
        "        result = result.multiply(rown)\n",
        "        \n",
        "    return result.tocsr()\n",
        "\n",
        "\n",
        "\n",
        "def compute_pmi_wl_matrix(tokenized_texts, word2id, labels, naive=False):\n",
        "    # train_source['data']\n",
        "    nc = len(tokenized_texts)\n",
        "    nl = len(set(labels))\n",
        "    nlall = len(labels)\n",
        "    nw = len(word2id)\n",
        "    wl_matrix = np.zeros((nw, nl))\n",
        "    pmi_wl_matrix = np.zeros((nw, nl))\n",
        "    for text_i, text in enumerate(tokenized_texts):\n",
        "        for token in text:\n",
        "            if token in word2id:\n",
        "                wl_matrix[word2id[token]][labels[text_i]] = 1.\n",
        "    # p(w,l) = n_docs_with_w_and_l / n_docs\n",
        "    # p(w) = n_docs_with_w / n_docs\n",
        "    # p(l) = n_docs_with_l / n_docs\n",
        "    # p(w, l) / p(w) / p(l) = n_docs_with_w_and_l * n_docs / n_docs_with_w / n_docs_with_l\n",
        "    if naive:\n",
        "        pw = np.zeros(nw)\n",
        "        for i in range(nw):\n",
        "            for j in range(nl):\n",
        "                pw[i] += wl_matrix[i][j]\n",
        "        pl = np.zeros(nl)\n",
        "        for i in range(nlall):\n",
        "            pl[labels[i]] += 1.\n",
        "        for i in range(nw):\n",
        "            for j in range(nl):\n",
        "                pmi_wl_matrix[i][j] = np.log1p(wl_matrix[i][j] * nlall/pw[i]/pl[j])\n",
        "        pmi_wl_matrix[np.where(pmi_wl_matrix < 0)] = 0\n",
        "        return pmi_wl_matrix\n",
        "    return None\n",
        "       \n",
        "    \n",
        "\n",
        "# PAD_TOKEN = '__PAD__'\n",
        "# NUMERIC_TOKEN = '__NUMBER__'\n",
        "# NUMERIC_RE = re.compile(r'^([0-9.,e+\\-]+|[mcxvi]+)$', re.I)\n",
        "\n",
        "\n",
        "# def replace_number_nokens(tokenized_texts):\n",
        "#     return [[token if not NUMERIC_RE.match(token) else NUMERIC_TOKEN for token in text]\n",
        "#             for text in tokenized_texts]"
      ],
      "execution_count": 75,
      "outputs": []
    },
    {
      "cell_type": "code",
      "metadata": {
        "colab": {
          "base_uri": "https://localhost:8080/"
        },
        "id": "OeMYPEzOe4LN",
        "outputId": "ded62103-8c74-4df2-d5c4-a751a70f092a"
      },
      "source": [
        "print(np.shape(np.expand_dims(np.array([1, 2, 3]), axis=1)))\n",
        "print(np.sum(np.ones((10, 5)), axis=0))"
      ],
      "execution_count": null,
      "outputs": [
        {
          "output_type": "stream",
          "text": [
            "(3, 1)\n",
            "[10. 10. 10. 10. 10.]\n"
          ],
          "name": "stdout"
        }
      ]
    },
    {
      "cell_type": "code",
      "metadata": {
        "colab": {
          "base_uri": "https://localhost:8080/"
        },
        "id": "Z5R_Az7CAsrS",
        "outputId": "b87d53c1-b150-48e1-f407-b205225025e3"
      },
      "source": [
        "train_tokenized = tokenize_corpus(train_source['data'], tokenizer=tokenize_text_lemmatized, min_token_size=4)\n",
        "test_tokenized = tokenize_corpus(test_source['data'], tokenizer=tokenize_text_lemmatized, min_token_size=4)\n",
        "print(' '.join(train_tokenized[0]))"
      ],
      "execution_count": 57,
      "outputs": [
        {
          "output_type": "stream",
          "text": [
            "from lerxst where thing subject what this nntp posting host rac3 organization university maryland college park line wondering anyone there could enlighten this other door sport looked from late early called bricklin door were really small addition front bumper separate from rest body this know anyone tellme model name engine spec year production where this made history whatever info have this funky looking please mail thanks brought your neighborhood lerxst\n"
          ],
          "name": "stdout"
        }
      ]
    },
    {
      "cell_type": "code",
      "metadata": {
        "colab": {
          "base_uri": "https://localhost:8080/"
        },
        "id": "PFRJXjKFA0Pl",
        "outputId": "ae1a8183-04dd-446a-8dd6-eceffc8a0178"
      },
      "source": [
        "MAX_DF = 0.8\n",
        "MIN_COUNT = 6\n",
        "vocabulary, word_doc_freq = build_vocabulary(train_tokenized, max_doc_freq=MAX_DF, min_count=MIN_COUNT)\n",
        "UNIQUE_WORDS_N = len(vocabulary)\n",
        "print('Количество уникальных токенов', UNIQUE_WORDS_N)\n",
        "print(list(vocabulary.items())[:10])\n"
      ],
      "execution_count": 58,
      "outputs": [
        {
          "output_type": "stream",
          "text": [
            "Количество уникальных токенов 16858\n",
            "[('that', 0), ('this', 1), ('have', 2), ('with', 3), ('writes', 4), ('article', 5), ('posting', 6), ('host', 7), ('nntp', 8), ('there', 9)]\n"
          ],
          "name": "stdout"
        }
      ]
    },
    {
      "cell_type": "code",
      "metadata": {
        "colab": {
          "base_uri": "https://localhost:8080/"
        },
        "id": "Z0hyR9j2xN-1",
        "outputId": "5ab0b60b-95f9-4ce6-96ac-fa14c8d1a0d3"
      },
      "source": [
        "UNIQUE_LABELS_N = len(set(train_source['target']))\n",
        "print('Количество уникальных меток', UNIQUE_LABELS_N)"
      ],
      "execution_count": 59,
      "outputs": [
        {
          "output_type": "stream",
          "text": [
            "Количество уникальных меток 20\n"
          ],
          "name": "stdout"
        }
      ]
    },
    {
      "cell_type": "code",
      "metadata": {
        "id": "vtP7QKfLfeHj"
      },
      "source": [
        "pmi_wl_matrix_naive = compute_pmi_wl_matrix(train_tokenized, vocabulary, train_source['target'], naive=True)"
      ],
      "execution_count": 78,
      "outputs": []
    },
    {
      "cell_type": "code",
      "metadata": {
        "colab": {
          "base_uri": "https://localhost:8080/"
        },
        "id": "8hpg2MgPvcuM",
        "outputId": "15adc8eb-b738-4cd2-8bec-d6697d21a58d"
      },
      "source": [
        "# print(pmi_wl_matrix[0, :])\n",
        "print(pmi_wl_matrix_naive[0, :])"
      ],
      "execution_count": 61,
      "outputs": [
        {
          "output_type": "stream",
          "text": [
            "[0.77865569 0.67735533 0.67151038 0.67233896 0.68245003 0.66985957\n",
            " 0.67651388 0.66903731 0.66576911 0.66658305 0.66414739 0.66821714\n",
            " 0.67151038 0.66903731 0.66985957 0.66495722 0.71102668 0.69465314\n",
            " 0.79595606 0.91650291]\n"
          ],
          "name": "stdout"
        }
      ]
    },
    {
      "cell_type": "code",
      "metadata": {
        "colab": {
          "base_uri": "https://localhost:8080/",
          "height": 596
        },
        "id": "E5sbNbsPlyNO",
        "outputId": "19ad0017-f22a-4116-fd88-8447acb9c82f"
      },
      "source": [
        "print(pmi_wl_matrix_naive[0, :])\n",
        "print(pmi_wl_matrix_naive[10, :])\n",
        "print(pmi_wl_matrix_naive[920, :], [k for k, v in vocabulary.items() if v == 920])\n",
        "plt.hist(np.amax(pmi_wl_matrix_naive, axis=1))\n",
        "# plt.hist(pmi_wl_matrix_naive)\n",
        "# print(pmi_wl_matrix_naive.shape)\n"
      ],
      "execution_count": 95,
      "outputs": [
        {
          "output_type": "stream",
          "text": [
            "[0.77865569 0.67735533 0.67151038 0.67233896 0.68245003 0.66985957\n",
            " 0.67651388 0.66903731 0.66576911 0.66658305 0.66414739 0.66821714\n",
            " 0.67151038 0.66903731 0.66985957 0.66495722 0.71102668 0.69465314\n",
            " 0.79595606 0.91650291]\n",
            "[0.77865569 0.67735533 0.67151038 0.67233896 0.68245003 0.66985957\n",
            " 0.67651388 0.66903731 0.66576911 0.66658305 0.66414739 0.66821714\n",
            " 0.67151038 0.66903731 0.66985957 0.66495722 0.71102668 0.69465314\n",
            " 0.79595606 0.91650291]\n",
            "[0.77865569 0.67735533 0.67151038 0.67233896 0.68245003 0.66985957\n",
            " 0.67651388 0.66903731 0.66576911 0.66658305 0.66414739 0.66821714\n",
            " 0.67151038 0.66903731 0.66985957 0.66495722 0.71102668 0.69465314\n",
            " 0.79595606 0.91650291] ['trade']\n"
          ],
          "name": "stdout"
        },
        {
          "output_type": "execute_result",
          "data": {
            "text/plain": [
              "(array([2759., 2501., 2459., 2914., 1881., 1519.,  748.,  162., 1784.,\n",
              "         131.]),\n",
              " array([0.79701984, 1.0607508 , 1.32448175, 1.58821271, 1.85194367,\n",
              "        2.11567462, 2.37940558, 2.64313654, 2.90686749, 3.17059845,\n",
              "        3.43432941]),\n",
              " <a list of 10 Patch objects>)"
            ]
          },
          "metadata": {
            "tags": []
          },
          "execution_count": 95
        },
        {
          "output_type": "display_data",
          "data": {
            "image/png": "[encoded data removed]",
            "text/plain": [
              "<Figure size 432x288 with 1 Axes>"
            ]
          },
          "metadata": {
            "tags": [],
            "needs_background": "light"
          }
        }
      ]
    },
    {
      "cell_type": "markdown",
      "metadata": {
        "id": "ruMDWFrHxXCM"
      },
      "source": [
        "Фильтруем словарь второй раз с PMI"
      ]
    },
    {
      "cell_type": "code",
      "metadata": {
        "colab": {
          "base_uri": "https://localhost:8080/",
          "height": 229
        },
        "id": "-0fKB7wtxV1k",
        "outputId": "9f728ef2-e15e-4cad-f6ba-29d25c217b74"
      },
      "source": [
        "vocabulary, word_doc_freq = build_vocabulary(train_tokenized, max_doc_freq=MAX_DF, min_count=MIN_COUNT, use_pmi_filter=True, pmi_voc_prev=vocabulary, pmi_wl_matrix=pmi_wl_matrix_naive)\n",
        "UNIQUE_WORDS_N = len(vocabulary)\n",
        "print('Количество уникальных токенов', UNIQUE_WORDS_N)\n",
        "print(list(vocabulary.items())[:10])\n"
      ],
      "execution_count": 35,
      "outputs": [
        {
          "output_type": "error",
          "ename": "NameError",
          "evalue": "ignored",
          "traceback": [
            "\u001b[0;31m---------------------------------------------------------------------------\u001b[0m",
            "\u001b[0;31mNameError\u001b[0m                                 Traceback (most recent call last)",
            "\u001b[0;32m<ipython-input-35-5da8d35f71d9>\u001b[0m in \u001b[0;36m<module>\u001b[0;34m()\u001b[0m\n\u001b[0;32m----> 1\u001b[0;31m \u001b[0mvocabulary\u001b[0m\u001b[0;34m,\u001b[0m \u001b[0mword_doc_freq\u001b[0m \u001b[0;34m=\u001b[0m \u001b[0mbuild_vocabulary\u001b[0m\u001b[0;34m(\u001b[0m\u001b[0mtrain_tokenized\u001b[0m\u001b[0;34m,\u001b[0m \u001b[0mmax_doc_freq\u001b[0m\u001b[0;34m=\u001b[0m\u001b[0mMAX_DF\u001b[0m\u001b[0;34m,\u001b[0m \u001b[0mmin_count\u001b[0m\u001b[0;34m=\u001b[0m\u001b[0mMIN_COUNT\u001b[0m\u001b[0;34m,\u001b[0m \u001b[0muse_pmi_filter\u001b[0m\u001b[0;34m=\u001b[0m\u001b[0;32mTrue\u001b[0m\u001b[0;34m,\u001b[0m \u001b[0mpmi_voc_prev\u001b[0m\u001b[0;34m=\u001b[0m\u001b[0mvocabulary\u001b[0m\u001b[0;34m,\u001b[0m \u001b[0mpmi_wl_matrix\u001b[0m\u001b[0;34m=\u001b[0m\u001b[0mpmi_wl_matrix_naive\u001b[0m\u001b[0;34m)\u001b[0m\u001b[0;34m\u001b[0m\u001b[0;34m\u001b[0m\u001b[0m\n\u001b[0m\u001b[1;32m      2\u001b[0m \u001b[0mUNIQUE_WORDS_N\u001b[0m \u001b[0;34m=\u001b[0m \u001b[0mlen\u001b[0m\u001b[0;34m(\u001b[0m\u001b[0mvocabulary\u001b[0m\u001b[0;34m)\u001b[0m\u001b[0;34m\u001b[0m\u001b[0;34m\u001b[0m\u001b[0m\n\u001b[1;32m      3\u001b[0m \u001b[0mprint\u001b[0m\u001b[0;34m(\u001b[0m\u001b[0;34m'Количество уникальных токенов'\u001b[0m\u001b[0;34m,\u001b[0m \u001b[0mUNIQUE_WORDS_N\u001b[0m\u001b[0;34m)\u001b[0m\u001b[0;34m\u001b[0m\u001b[0;34m\u001b[0m\u001b[0m\n\u001b[1;32m      4\u001b[0m \u001b[0mprint\u001b[0m\u001b[0;34m(\u001b[0m\u001b[0mlist\u001b[0m\u001b[0;34m(\u001b[0m\u001b[0mvocabulary\u001b[0m\u001b[0;34m.\u001b[0m\u001b[0mitems\u001b[0m\u001b[0;34m(\u001b[0m\u001b[0;34m)\u001b[0m\u001b[0;34m)\u001b[0m\u001b[0;34m[\u001b[0m\u001b[0;34m:\u001b[0m\u001b[0;36m10\u001b[0m\u001b[0;34m]\u001b[0m\u001b[0;34m)\u001b[0m\u001b[0;34m\u001b[0m\u001b[0;34m\u001b[0m\u001b[0m\n",
            "\u001b[0;31mNameError\u001b[0m: name 'pmi_wl_matrix_naive' is not defined"
          ]
        }
      ]
    },
    {
      "cell_type": "code",
      "metadata": {
        "colab": {
          "base_uri": "https://localhost:8080/",
          "height": 281
        },
        "id": "8ZqByzGSCaRt",
        "outputId": "31cc7f32-6c7b-4b6b-ba93-e66a16915afe"
      },
      "source": [
        "plt.hist(word_doc_freq, bins=20)\n",
        "plt.title('Распределение относительных частот слов')\n",
        "plt.yscale('log');"
      ],
      "execution_count": null,
      "outputs": [
        {
          "output_type": "display_data",
          "data": {
            "image/png": "[encoded data removed]",
            "text/plain": [
              "<Figure size 432x288 with 1 Axes>"
            ]
          },
          "metadata": {
            "tags": [],
            "needs_background": "light"
          }
        }
      ]
    },
    {
      "cell_type": "code",
      "metadata": {
        "colab": {
          "base_uri": "https://localhost:8080/"
        },
        "id": "b6gRRoE0A7Lz",
        "outputId": "54d2470a-be35-4343-8b96-93d8928451b7"
      },
      "source": [
        "VECTORIZATION_MODE = 'ltfidfnew'\n",
        "\n",
        "train_vectors = vectorize_texts(train_tokenized, vocabulary, word_doc_freq, mode=VECTORIZATION_MODE, scale=None)\n",
        "test_vectors = vectorize_texts(test_tokenized, vocabulary, word_doc_freq, mode=VECTORIZATION_MODE, scale=None)\n",
        "\n",
        "print('Размерность матрицы признаков обучающей выборки', train_vectors.shape)\n",
        "print('Размерность матрицы признаков тестовой выборки', test_vectors.shape)\n",
        "print()\n",
        "print('Количество ненулевых элементов в обучающей выборке', train_vectors.nnz)\n",
        "print('Процент заполненности матрицы признаков {:.2f}%'.format(train_vectors.nnz * 100 / (train_vectors.shape[0] * train_vectors.shape[1])))\n",
        "print()\n",
        "print('Количество ненулевых элементов в тестовой выборке', test_vectors.nnz)\n",
        "print('Процент заполненности матрицы признаков {:.2f}%'.format(test_vectors.nnz * 100 / (test_vectors.shape[0] * test_vectors.shape[1])))\n",
        "\n",
        "sc = Normalizer()\n",
        "train_vectors= sc.fit_transform(train_vectors)\n",
        "test_vectors = sc.transform(test_vectors)"
      ],
      "execution_count": 9,
      "outputs": [
        {
          "output_type": "stream",
          "text": [
            "Размерность матрицы признаков обучающей выборки (11314, 16858)\n",
            "Размерность матрицы признаков тестовой выборки (7532, 16858)\n",
            "\n",
            "Количество ненулевых элементов в обучающей выборке 1078068\n",
            "Процент заполненности матрицы признаков 0.57%\n",
            "\n",
            "Количество ненулевых элементов в тестовой выборке 693058\n",
            "Процент заполненности матрицы признаков 0.55%\n"
          ],
          "name": "stdout"
        }
      ]
    },
    {
      "cell_type": "code",
      "metadata": {
        "colab": {
          "base_uri": "https://localhost:8080/"
        },
        "id": "oe5PEpXMFScL",
        "outputId": "a6fb1d75-a691-4c24-841b-f78c331385fe"
      },
      "source": [
        "vectorizer = TfidfVectorizer(tokenizer=tokenize_text_simple_regex,\n",
        "                             max_df=MAX_DF,\n",
        "                             min_df=MIN_COUNT,\n",
        "                             sublinear_tf=True, norm='l2')\n",
        "train_vectors_sklearn = vectorizer.fit_transform(train_source['data'])\n",
        "test_vectors_sklearn = vectorizer.transform(test_source['data'])\n",
        "\n",
        "print('Размерность матрицы признаков обучающей выборки', train_vectors_sklearn.shape)\n",
        "print('Размерность матрицы признаков тестовой выборки', test_vectors_sklearn.shape)\n",
        "print()\n",
        "print('Количество ненулевых элементов в обучающей выборке', train_vectors_sklearn.nnz)\n",
        "print('Процент заполненности матрицы признаков {:.2f}%'.format(train_vectors_sklearn.nnz * 100 / (train_vectors_sklearn.shape[0] * train_vectors_sklearn.shape[1])))\n",
        "print()\n",
        "print('Количество ненулевых элементов в тестовой выборке', test_vectors_sklearn.nnz)\n",
        "print('Процент заполненности матрицы признаков {:.2f}%'.format(test_vectors_sklearn.nnz * 100 / (test_vectors_sklearn.shape[0] * test_vectors_sklearn.shape[1])))"
      ],
      "execution_count": 108,
      "outputs": [
        {
          "output_type": "stream",
          "text": [
            "Размерность матрицы признаков обучающей выборки (11314, 18836)\n",
            "Размерность матрицы признаков тестовой выборки (7532, 18836)\n",
            "\n",
            "Количество ненулевых элементов в обучающей выборке 1112832\n",
            "Процент заполненности матрицы признаков 0.52%\n",
            "\n",
            "Количество ненулевых элементов в тестовой выборке 714090\n",
            "Процент заполненности матрицы признаков 0.50%\n"
          ],
          "name": "stdout"
        }
      ]
    },
    {
      "cell_type": "code",
      "metadata": {
        "id": "RtBBu3KR1G-Y"
      },
      "source": [
        "train_vectors_new = deepcopy(train_vectors)"
      ],
      "execution_count": 115,
      "outputs": []
    },
    {
      "cell_type": "code",
      "metadata": {
        "id": "gD93Dt3GI3p9"
      },
      "source": [
        "sc = MaxAbsScaler()\n",
        "train_vectors_new = sc.fit_transform(train_vectors_new)"
      ],
      "execution_count": 58,
      "outputs": []
    },
    {
      "cell_type": "code",
      "metadata": {
        "id": "ehykX-WnTYeF"
      },
      "source": [
        "sc = StandardScaler(with_mean=False)\n",
        "train_vectors_new = sc.fit_transform(train_vectors_new)"
      ],
      "execution_count": 79,
      "outputs": []
    },
    {
      "cell_type": "code",
      "metadata": {
        "id": "XMsa9RJSKZlT"
      },
      "source": [
        "sc = Normalizer()\n",
        "train_vectors_new = sc.fit_transform(train_vectors_new)\n",
        "# train_vectors= sc.fit_transform(train_vectors)\n",
        "# test_vectors = sc.transform(test_vectors)"
      ],
      "execution_count": 119,
      "outputs": []
    },
    {
      "cell_type": "code",
      "metadata": {
        "colab": {
          "base_uri": "https://localhost:8080/"
        },
        "id": "G4vSDW3-Nznc",
        "outputId": "42712c44-31db-4c2b-aa4f-5863764b7b28"
      },
      "source": [
        "print(max(train_vectors_sklearn.A[train_vectors_sklearn[0].nonzero()]))\n",
        "print(max(train_vectors_new.A[train_vectors_new[0].nonzero()]))"
      ],
      "execution_count": 100,
      "outputs": [
        {
          "output_type": "stream",
          "text": [
            "0.25651549389185374\n",
            "0.13979957\n"
          ],
          "name": "stdout"
        }
      ]
    },
    {
      "cell_type": "code",
      "metadata": {
        "colab": {
          "base_uri": "https://localhost:8080/"
        },
        "id": "oqYsTeXVODzq",
        "outputId": "0c048ec6-7107-4d17-8bd0-fc5376551f1d"
      },
      "source": [
        "print(sorted(train_vectors_sklearn.A[train_vectors_sklearn[0].nonzero()]))\n",
        "print(sorted(train_vectors_new.A[train_vectors_new[0].nonzero()]))"
      ],
      "execution_count": 117,
      "outputs": [
        {
          "output_type": "stream",
          "text": [
            "[0.04663859412029696, 0.05502931670199472, 0.05654514058182023, 0.056945733563097664, 0.058616254243042586, 0.05883333653589512, 0.05920319375135247, 0.06830096528937336, 0.06833810110400604, 0.07262939910329873, 0.07892096608496889, 0.07905255552893245, 0.08797800230918744, 0.08853031649278313, 0.09045967620995454, 0.09562068375350927, 0.09677570546139458, 0.09919998552687555, 0.10120085546020739, 0.11029015881549512, 0.11029015881549512, 0.11175294193440444, 0.11675011966966567, 0.1201435663358021, 0.12036447260719725, 0.12453922942449437, 0.1304434492723441, 0.13101507973968946, 0.1331816970170127, 0.13493423240344818, 0.1380381004285365, 0.13891007602352246, 0.1391469109336612, 0.14118966738168004, 0.14179928237706385, 0.14425564862699294, 0.14594036152690357, 0.14717036160217317, 0.14932397489773838, 0.15221244905570008, 0.15508391714091357, 0.15755815053158698, 0.15825321089612424, 0.15987738049972725, 0.17255633024469844, 0.17283818790436536, 0.17312266753339067, 0.17458616876855068, 0.18523785406816887, 0.21003718639577584, 0.21201086082745585, 0.21412075525983243, 0.2488299620162008, 0.25651549389185374]\n",
            "[0.0467607, 0.05517388, 0.056693763, 0.057095427, 0.05877042, 0.05898808, 0.05935893, 0.06848105, 0.06851829, 0.07282107, 0.079129465, 0.079261415, 0.08821075, 0.08876453, 0.09069907, 0.095873885, 0.097031996, 0.09946276, 0.10146899, 0.11058262, 0.11058262, 0.11204931, 0.11705987, 0.119547606, 0.120462395, 0.12486983, 0.13037805, 0.13078983, 0.13136299, 0.13353541, 0.13529265, 0.13697673, 0.13840482, 0.13951659, 0.14156485, 0.14217606, 0.144639, 0.14756152, 0.1497209, 0.15261711, 0.15549625, 0.15797712, 0.15867403, 0.16030255, 0.17301543, 0.17329806, 0.17358328, 0.17505069, 0.18573089, 0.2105966, 0.21257555, 0.2146911, 0.24949321, 0.25719932]\n"
          ],
          "name": "stdout"
        }
      ]
    },
    {
      "cell_type": "code",
      "metadata": {
        "colab": {
          "base_uri": "https://localhost:8080/",
          "height": 357
        },
        "id": "RyD8TavQNHp2",
        "outputId": "4b8113a4-ae5d-4960-c3c9-4a494d104fd7"
      },
      "source": [
        "plt.hist(train_vectors_sklearn.A[train_vectors_sklearn[0].nonzero()])\n",
        "plt.hist(train_vectors_new.A[train_vectors_new[0].nonzero()], alpha=0.8)"
      ],
      "execution_count": 118,
      "outputs": [
        {
          "output_type": "execute_result",
          "data": {
            "text/plain": [
              "(array([ 7.,  7.,  5.,  9., 11.,  6.,  4.,  3.,  0.,  2.]),\n",
              " array([0.0467607 , 0.06780456, 0.08884843, 0.10989229, 0.13093615,\n",
              "        0.15198001, 0.17302386, 0.19406773, 0.2151116 , 0.23615545,\n",
              "        0.25719932], dtype=float32),\n",
              " <a list of 10 Patch objects>)"
            ]
          },
          "metadata": {
            "tags": []
          },
          "execution_count": 118
        },
        {
          "output_type": "display_data",
          "data": {
            "image/png": "[encoded data removed]",
            "text/plain": [
              "<Figure size 432x288 with 1 Axes>"
            ]
          },
          "metadata": {
            "tags": [],
            "needs_background": "light"
          }
        }
      ]
    },
    {
      "cell_type": "markdown",
      "metadata": {
        "id": "YbNO-hgE7ZFx"
      },
      "source": [
        "Отредактированное dlnlputils/pipeline.py"
      ]
    },
    {
      "cell_type": "code",
      "metadata": {
        "id": "8RfkwtIEJG0N"
      },
      "source": [
        "import copy\n",
        "import datetime\n",
        "import random\n",
        "import traceback\n",
        "\n",
        "import numpy as np\n",
        "import torch\n",
        "from torch.utils.data import DataLoader\n",
        "\n",
        "\n",
        "def init_random_seed(value=0):\n",
        "    random.seed(value)\n",
        "    np.random.seed(value)\n",
        "    torch.manual_seed(value)\n",
        "    torch.cuda.manual_seed(value)\n",
        "    torch.backends.cudnn.deterministic = True\n",
        "\n",
        "\n",
        "def copy_data_to_device(data, device):\n",
        "    if torch.is_tensor(data):\n",
        "        return data.to(device)\n",
        "    elif isinstance(data, (list, tuple)):\n",
        "        return [copy_data_to_device(elem, device) for elem in data]\n",
        "    raise ValueError('Недопустимый тип данных {}'.format(type(data)))\n",
        "\n",
        "\n",
        "def print_grad_stats(model):\n",
        "    mean = 0\n",
        "    std = 0\n",
        "    norm = 1e-5\n",
        "    for param in model.parameters():\n",
        "        grad = getattr(param, 'grad', None)\n",
        "        if grad is not None:\n",
        "            mean += grad.data.abs().mean()\n",
        "            std += grad.data.std()\n",
        "            norm += 1\n",
        "    mean /= norm\n",
        "    std /= norm\n",
        "    print(f'Mean grad {mean}, std {std}, n {norm}')\n",
        "\n",
        "\n"
      ],
      "execution_count": null,
      "outputs": []
    },
    {
      "cell_type": "code",
      "metadata": {
        "id": "H1xUNT1zEscD"
      },
      "source": [
        "def train_eval_loop(model, train_dataset, val_dataset, criterion,\n",
        "                    lr=1e-4, epoch_n=10, batch_size=32,\n",
        "                    device=None, early_stopping_patience=10, l2_reg_alpha=0,\n",
        "                    max_batches_per_epoch_train=10000,\n",
        "                    max_batches_per_epoch_val=1000,\n",
        "                    data_loader_ctor=DataLoader,\n",
        "                    optimizer_ctor=None,\n",
        "                    lr_scheduler_ctor=None,\n",
        "                    shuffle_train=True,\n",
        "                    dataloader_workers_n=0):\n",
        "    \"\"\"\n",
        "    Цикл для обучения модели. После каждой эпохи качество модели оценивается по отложенной выборке.\n",
        "    :param model: torch.nn.Module - обучаемая модель\n",
        "    :param train_dataset: torch.utils.data.Dataset - данные для обучения\n",
        "    :param val_dataset: torch.utils.data.Dataset - данные для оценки качества\n",
        "    :param criterion: функция потерь для настройки модели\n",
        "    :param lr: скорость обучения\n",
        "    :param epoch_n: максимальное количество эпох\n",
        "    :param batch_size: количество примеров, обрабатываемых моделью за одну итерацию\n",
        "    :param device: cuda/cpu - устройство, на котором выполнять вычисления\n",
        "    :param early_stopping_patience: наибольшее количество эпох, в течение которых допускается\n",
        "        отсутствие улучшения модели, чтобы обучение продолжалось.\n",
        "    :param l2_reg_alpha: коэффициент L2-регуляризации\n",
        "    :param max_batches_per_epoch_train: максимальное количество итераций на одну эпоху обучения\n",
        "    :param max_batches_per_epoch_val: максимальное количество итераций на одну эпоху валидации\n",
        "    :param data_loader_ctor: функция для создания объекта, преобразующего датасет в батчи\n",
        "        (по умолчанию torch.utils.data.DataLoader)\n",
        "    :return: кортеж из двух элементов:\n",
        "        - среднее значение функции потерь на валидации на лучшей эпохе\n",
        "        - лучшая модель\n",
        "    \"\"\"\n",
        "    if device is None:\n",
        "        device = 'cuda' if torch.cuda.is_available() else 'cpu'\n",
        "    device = torch.device(device)\n",
        "    model.to(device)\n",
        "\n",
        "    if optimizer_ctor is None:\n",
        "        optimizer = torch.optim.Adam(model.parameters(), lr=lr, weight_decay=l2_reg_alpha)\n",
        "    else:\n",
        "        optimizer = optimizer_ctor(model.parameters(), lr=lr)\n",
        "\n",
        "    if lr_scheduler_ctor is not None:\n",
        "        lr_scheduler = lr_scheduler_ctor(optimizer)\n",
        "    else:\n",
        "        lr_scheduler = None\n",
        "\n",
        "    train_dataloader = data_loader_ctor(train_dataset, batch_size=batch_size, shuffle=shuffle_train,\n",
        "                                        num_workers=dataloader_workers_n)\n",
        "    val_dataloader = data_loader_ctor(val_dataset, batch_size=batch_size, shuffle=False,\n",
        "                                      num_workers=dataloader_workers_n)\n",
        "\n",
        "    best_val_loss = float('inf')\n",
        "    best_epoch_i = 0\n",
        "    best_model = copy.deepcopy(model)\n",
        "\n",
        "    for epoch_i in range(epoch_n):\n",
        "        try:\n",
        "            epoch_start = datetime.datetime.now()\n",
        "            print('Эпоха {}'.format(epoch_i))\n",
        "\n",
        "            model.train()\n",
        "            mean_train_loss = 0\n",
        "            train_batches_n = 0\n",
        "            for batch_i, (batch_x, batch_y) in enumerate(train_dataloader):\n",
        "                if batch_i > max_batches_per_epoch_train:\n",
        "                    break\n",
        "\n",
        "                batch_x = copy_data_to_device(batch_x, device)\n",
        "                batch_y = copy_data_to_device(batch_y, device)\n",
        "\n",
        "                pred = model(batch_x)\n",
        "                loss = criterion(pred, batch_y)\n",
        "\n",
        "                model.zero_grad()\n",
        "                loss.backward()\n",
        "\n",
        "                optimizer.step()\n",
        "\n",
        "                mean_train_loss += float(loss)\n",
        "                train_batches_n += 1\n",
        "\n",
        "            mean_train_loss /= train_batches_n\n",
        "            print('Эпоха: {} итераций, {:0.2f} сек'.format(train_batches_n,\n",
        "                                                           (datetime.datetime.now() - epoch_start).total_seconds()))\n",
        "            print('Среднее значение функции потерь на обучении', mean_train_loss)\n",
        "\n",
        "\n",
        "\n",
        "            model.eval()\n",
        "            mean_val_loss = 0\n",
        "            val_batches_n = 0\n",
        "\n",
        "            with torch.no_grad():\n",
        "                for batch_i, (batch_x, batch_y) in enumerate(val_dataloader):\n",
        "                    if batch_i > max_batches_per_epoch_val:\n",
        "                        break\n",
        "\n",
        "                    batch_x = copy_data_to_device(batch_x, device)\n",
        "                    batch_y = copy_data_to_device(batch_y, device)\n",
        "\n",
        "                    pred = model(batch_x)\n",
        "                    loss = criterion(pred, batch_y)\n",
        "\n",
        "                    mean_val_loss += float(loss)\n",
        "                    val_batches_n += 1\n",
        "\n",
        "            mean_val_loss /= val_batches_n\n",
        "            print('Среднее значение функции потерь на валидации', mean_val_loss)\n",
        "\n",
        "            if mean_val_loss < best_val_loss:\n",
        "                best_epoch_i = epoch_i\n",
        "                best_val_loss = mean_val_loss\n",
        "                best_model = copy.deepcopy(model)\n",
        "                print('Новая лучшая модель!')\n",
        "            elif epoch_i - best_epoch_i > early_stopping_patience:\n",
        "                print('Модель не улучшилась за последние {} эпох, прекращаем обучение'.format(\n",
        "                    early_stopping_patience))\n",
        "                break\n",
        "\n",
        "            if lr_scheduler is not None:\n",
        "                lr_scheduler.step(mean_val_loss)\n",
        "\n",
        "            print()\n",
        "        except KeyboardInterrupt:\n",
        "            print('Досрочно остановлено пользователем')\n",
        "            break\n",
        "        except Exception as ex:\n",
        "            print('Ошибка при обучении: {}\\n{}'.format(ex, traceback.format_exc()))\n",
        "            break\n",
        "\n",
        "    return best_val_loss, best_model\n",
        "\n",
        "\n",
        "def predict_with_model(model, dataset, device=None, batch_size=32, num_workers=0, return_labels=False):\n",
        "    \"\"\"\n",
        "    :param model: torch.nn.Module - обученная модель\n",
        "    :param dataset: torch.utils.data.Dataset - данные для применения модели\n",
        "    :param device: cuda/cpu - устройство, на котором выполнять вычисления\n",
        "    :param batch_size: количество примеров, обрабатываемых моделью за одну итерацию\n",
        "    :return: numpy.array размерности len(dataset) x *\n",
        "    \"\"\"\n",
        "    if device is None:\n",
        "        device = 'cuda' if torch.cuda.is_available() else 'cpu'\n",
        "    results_by_batch = []\n",
        "\n",
        "    device = torch.device(device)\n",
        "    model.to(device)\n",
        "    model.eval()\n",
        "\n",
        "    dataloader = DataLoader(dataset, batch_size=batch_size, shuffle=False, num_workers=num_workers)\n",
        "    labels = []\n",
        "    with torch.no_grad():\n",
        "        import tqdm\n",
        "        for batch_x, batch_y in tqdm.tqdm(dataloader, total=len(dataset)/batch_size):\n",
        "            batch_x = copy_data_to_device(batch_x, device)\n",
        "\n",
        "            if return_labels:\n",
        "                labels.append(batch_y.numpy())\n",
        "\n",
        "            batch_pred = model(batch_x)\n",
        "            results_by_batch.append(batch_pred.detach().cpu().numpy())\n",
        "\n",
        "    if return_labels:\n",
        "        return np.concatenate(results_by_batch, 0), np.concatenate(labels, 0)\n",
        "    else:\n",
        "        return np.concatenate(results_by_batch, 0)"
      ],
      "execution_count": null,
      "outputs": []
    },
    {
      "cell_type": "code",
      "metadata": {
        "id": "K90Tz6Xp7kOH"
      },
      "source": [
        "UNIQUE_WORDS_N = train_vectors.shape[1]\n",
        "train_dataset = SparseFeaturesDataset(train_vectors, train_source['target'])\n",
        "test_dataset = SparseFeaturesDataset(test_vectors, test_source['target'])"
      ],
      "execution_count": 101,
      "outputs": []
    },
    {
      "cell_type": "code",
      "metadata": {
        "colab": {
          "base_uri": "https://localhost:8080/"
        },
        "id": "fFj8QS0n7rzc",
        "outputId": "eb317998-ac5c-468a-c13c-e4291005e53d"
      },
      "source": [
        "# model = nn.Linear(UNIQUE_WORDS_N, UNIQUE_LABELS_N)\n",
        "model = nn.Sequential(nn.Linear(UNIQUE_WORDS_N, 200),\n",
        "                      nn.ReLU(),\n",
        "                      nn.Linear(200, UNIQUE_LABELS_N),\n",
        "                      )\n",
        "\n",
        "scheduler = lambda optim: \\\n",
        "    torch.optim.lr_scheduler.ReduceLROnPlateau(optim, patience=4, factor=0.5, verbose=True)\n",
        "\n",
        "best_val_loss, best_model = train_eval_loop(model=model,\n",
        "                                            train_dataset=train_dataset,\n",
        "                                            val_dataset=test_dataset,\n",
        "                                            criterion=F.cross_entropy,\n",
        "                                            lr=1e-3,\n",
        "                                            epoch_n=200,\n",
        "                                            batch_size=32,\n",
        "                                            l2_reg_alpha=0.000001, # regularization with weight_decay\n",
        "                                            lr_scheduler_ctor=scheduler)"
      ],
      "execution_count": 108,
      "outputs": [
        {
          "output_type": "stream",
          "text": [
            "Эпоха 0\n",
            "Эпоха: 354 итераций, 5.44 сек\n",
            "Среднее значение функции потерь на обучении 1.4429776775887457\n",
            "Среднее значение функции потерь на валидации 0.7668132766828699\n",
            "Новая лучшая модель!\n",
            "\n",
            "Эпоха 1\n",
            "Эпоха: 354 итераций, 5.51 сек\n",
            "Среднее значение функции потерь на обучении 0.191704234539789\n",
            "Среднее значение функции потерь на валидации 0.5891784994657767\n",
            "Новая лучшая модель!\n",
            "\n",
            "Эпоха 2\n",
            "Эпоха: 354 итераций, 5.40 сек\n",
            "Среднее значение функции потерь на обучении 0.04720906951690966\n",
            "Среднее значение функции потерь на валидации 0.5574984402095867\n",
            "Новая лучшая модель!\n",
            "\n",
            "Эпоха 3\n",
            "Эпоха: 354 итераций, 5.41 сек\n",
            "Среднее значение функции потерь на обучении 0.01986088356566168\n",
            "Среднее значение функции потерь на валидации 0.5482129007893599\n",
            "Новая лучшая модель!\n",
            "\n",
            "Эпоха 4\n",
            "Эпоха: 354 итераций, 5.40 сек\n",
            "Среднее значение функции потерь на обучении 0.011915894058838193\n",
            "Среднее значение функции потерь на валидации 0.5435718682168399\n",
            "Новая лучшая модель!\n",
            "\n",
            "Эпоха 5\n",
            "Эпоха: 354 итераций, 5.49 сек\n",
            "Среднее значение функции потерь на обучении 0.008431382329297899\n",
            "Среднее значение функции потерь на валидации 0.5425672300349352\n",
            "Новая лучшая модель!\n",
            "\n",
            "Эпоха 6\n",
            "Эпоха: 354 итераций, 5.49 сек\n",
            "Среднее значение функции потерь на обучении 0.006653255886611355\n",
            "Среднее значение функции потерь на валидации 0.5473811474265688\n",
            "\n",
            "Эпоха 7\n",
            "Эпоха: 354 итераций, 5.51 сек\n",
            "Среднее значение функции потерь на обучении 0.005876287828478436\n",
            "Среднее значение функции потерь на валидации 0.5436199845083184\n",
            "\n",
            "Эпоха 8\n",
            "Эпоха: 354 итераций, 5.38 сек\n",
            "Среднее значение функции потерь на обучении 0.005707792773327164\n",
            "Среднее значение функции потерь на валидации 0.5475253211492199\n",
            "\n",
            "Эпоха 9\n",
            "Эпоха: 354 итераций, 5.42 сек\n",
            "Среднее значение функции потерь на обучении 0.004518995406652016\n",
            "Среднее значение функции потерь на валидации 0.5493191832644959\n",
            "\n",
            "Эпоха 10\n",
            "Эпоха: 354 итераций, 5.42 сек\n",
            "Среднее значение функции потерь на обучении 0.003972808882728282\n",
            "Среднее значение функции потерь на валидации 0.5485941402424696\n",
            "Epoch    11: reducing learning rate of group 0 to 5.0000e-04.\n",
            "\n",
            "Эпоха 11\n",
            "Эпоха: 354 итераций, 5.43 сек\n",
            "Среднее значение функции потерь на обучении 0.0033417566778732853\n",
            "Среднее значение функции потерь на валидации 0.5478030551161807\n",
            "\n",
            "Эпоха 12\n",
            "Эпоха: 354 итераций, 5.47 сек\n",
            "Среднее значение функции потерь на обучении 0.002902668909666965\n",
            "Среднее значение функции потерь на валидации 0.5483905522752617\n",
            "\n",
            "Эпоха 13\n",
            "Эпоха: 354 итераций, 5.43 сек\n",
            "Среднее значение функции потерь на обучении 0.0029127587104547706\n",
            "Среднее значение функции потерь на валидации 0.5502485747496455\n",
            "\n",
            "Эпоха 14\n",
            "Эпоха: 354 итераций, 5.39 сек\n",
            "Среднее значение функции потерь на обучении 0.0024326235081574294\n",
            "Среднее значение функции потерь на валидации 0.5479207070133949\n",
            "\n",
            "Эпоха 15\n",
            "Эпоха: 354 итераций, 5.57 сек\n",
            "Среднее значение функции потерь на обучении 0.002544679988266395\n",
            "Среднее значение функции потерь на валидации 0.5506439003462004\n",
            "Epoch    16: reducing learning rate of group 0 to 2.5000e-04.\n",
            "\n",
            "Эпоха 16\n",
            "Эпоха: 354 итераций, 5.49 сек\n",
            "Среднее значение функции потерь на обучении 0.0022498019270488392\n",
            "Среднее значение функции потерь на валидации 0.5510594761472637\n",
            "Модель не улучшилась за последние 10 эпох, прекращаем обучение\n"
          ],
          "name": "stdout"
        }
      ]
    },
    {
      "cell_type": "code",
      "metadata": {
        "colab": {
          "base_uri": "https://localhost:8080/"
        },
        "id": "Pjro-AYE8HX-",
        "outputId": "80a50cdf-cc3f-4612-b9c2-ba54f8f306e9"
      },
      "source": [
        "train_pred = predict_with_model(best_model, train_dataset)\n",
        "\n",
        "train_loss = F.cross_entropy(torch.from_numpy(train_pred),\n",
        "                             torch.from_numpy(train_source['target']).long())\n",
        "\n",
        "print('Среднее значение функции потерь на обучении', float(train_loss))\n",
        "print('Доля верных ответов', accuracy_score(train_source['target'], train_pred.argmax(-1)))\n",
        "print()\n",
        "\n",
        "\n",
        "\n",
        "test_pred = predict_with_model(best_model, test_dataset)\n",
        "\n",
        "test_loss = F.cross_entropy(torch.from_numpy(test_pred),\n",
        "                            torch.from_numpy(test_source['target']).long())\n",
        "\n",
        "print('Среднее значение функции потерь на валидации', float(test_loss))\n",
        "print('Доля верных ответов', accuracy_score(test_source['target'], test_pred.argmax(-1)))"
      ],
      "execution_count": 107,
      "outputs": [
        {
          "output_type": "stream",
          "text": [
            "100%|██████████| 354/353.5625 [00:03<00:00, 97.05it/s] \n",
            "  5%|▍         | 11/235.375 [00:00<00:02, 100.10it/s]"
          ],
          "name": "stderr"
        },
        {
          "output_type": "stream",
          "text": [
            "Среднее значение функции потерь на обучении 0.0048853205516934395\n",
            "Доля верных ответов 0.9993812975075128\n",
            "\n"
          ],
          "name": "stdout"
        },
        {
          "output_type": "stream",
          "text": [
            "236it [00:02, 97.04it/s]"
          ],
          "name": "stderr"
        },
        {
          "output_type": "stream",
          "text": [
            "Среднее значение функции потерь на валидации 0.548416793346405\n",
            "Доля верных ответов 0.8436006372809347\n"
          ],
          "name": "stdout"
        },
        {
          "output_type": "stream",
          "text": [
            "\n"
          ],
          "name": "stderr"
        }
      ]
    },
    {
      "cell_type": "markdown",
      "metadata": {
        "id": "CEuxXmUOCk6T"
      },
      "source": [
        "Sklearn"
      ]
    },
    {
      "cell_type": "code",
      "metadata": {
        "colab": {
          "base_uri": "https://localhost:8080/",
          "height": 248
        },
        "id": "Ig9K2QRwCkS_",
        "outputId": "c8a2621a-1a37-4ad9-d3b3-2ac1e2e082c0"
      },
      "source": [
        "sklearn_pipeline = Pipeline((('vect', TfidfVectorizer(tokenizer=tokenize_text_simple_regex,\n",
        "                                                      # tokenizer=tokenize_text_stemmed,\n",
        "                                                      max_df=MAX_DF,\n",
        "                                                      min_df=MIN_COUNT,\n",
        "                                                      sublinear_tf=True)),\n",
        "                             ('cls', LogisticRegression())))\n",
        "sklearn_pipeline.fit(train_source['data'], train_source['target'])\n",
        "\n",
        "sklearn_train_pred = sklearn_pipeline.predict_proba(train_source['data'])\n",
        "sklearn_train_loss = F.cross_entropy(torch.from_numpy(sklearn_train_pred),\n",
        "                                                 torch.from_numpy(train_source['target']))\n",
        "print('Среднее значение функции потерь на обучении', float(sklearn_train_loss))\n",
        "print('Доля верных ответов', accuracy_score(train_source['target'], sklearn_train_pred.argmax(-1)))\n",
        "print()\n",
        "\n",
        "sklearn_test_pred = sklearn_pipeline.predict_proba(test_source['data'])\n",
        "sklearn_test_loss = F.cross_entropy(torch.from_numpy(sklearn_test_pred),\n",
        "                                                torch.from_numpy(test_source['target']))\n",
        "print('Среднее значение функции потерь на валидации', float(sklearn_test_loss))\n",
        "print('Доля верных ответов', accuracy_score(test_source['target'], sklearn_test_pred.argmax(-1)))"
      ],
      "execution_count": null,
      "outputs": [
        {
          "output_type": "error",
          "ename": "NameError",
          "evalue": "ignored",
          "traceback": [
            "\u001b[0;31m---------------------------------------------------------------------------\u001b[0m",
            "\u001b[0;31mNameError\u001b[0m                                 Traceback (most recent call last)",
            "\u001b[0;32m<ipython-input-17-6d3d79ab9e0f>\u001b[0m in \u001b[0;36m<module>\u001b[0;34m()\u001b[0m\n\u001b[1;32m      7\u001b[0m \u001b[0;31m# sklearn_pipeline.fit(train_source['data'], train_source['target'])\u001b[0m\u001b[0;34m\u001b[0m\u001b[0;34m\u001b[0m\u001b[0;34m\u001b[0m\u001b[0m\n\u001b[1;32m      8\u001b[0m \u001b[0;34m\u001b[0m\u001b[0m\n\u001b[0;32m----> 9\u001b[0;31m \u001b[0msklearn_train_pred\u001b[0m \u001b[0;34m=\u001b[0m \u001b[0msklearn_pipeline\u001b[0m\u001b[0;34m.\u001b[0m\u001b[0mpredict_proba\u001b[0m\u001b[0;34m(\u001b[0m\u001b[0mtrain_source\u001b[0m\u001b[0;34m[\u001b[0m\u001b[0;34m'data'\u001b[0m\u001b[0;34m]\u001b[0m\u001b[0;34m)\u001b[0m\u001b[0;34m\u001b[0m\u001b[0;34m\u001b[0m\u001b[0m\n\u001b[0m\u001b[1;32m     10\u001b[0m sklearn_train_loss = F.cross_entropy(torch.from_numpy(sklearn_train_pred),\n\u001b[1;32m     11\u001b[0m                                                  torch.from_numpy(train_source['target']))\n",
            "\u001b[0;31mNameError\u001b[0m: name 'sklearn_pipeline' is not defined"
          ]
        }
      ]
    },
    {
      "cell_type": "code",
      "metadata": {
        "colab": {
          "base_uri": "https://localhost:8080/"
        },
        "id": "GUQxyzT7A8mX",
        "outputId": "3295a3a5-c4a3-444c-98dc-2e470bac7992"
      },
      "source": [
        "MAX_DF = 0.6\n",
        "# MAX_DF = 0.8\n",
        "MIN_COUNT = 6\n",
        "vectorizer = TfidfVectorizer(tokenizer=tokenize_text_lemmatized,\n",
        "                             max_df=MAX_DF,\n",
        "                             min_df=MIN_COUNT,\n",
        "                             sublinear_tf=True,\n",
        "                             stop_words=stopwords_en,\n",
        "                             ngram_range=(1, 3),\n",
        "                             norm=None\n",
        "                             )\n",
        "train_vectors = vectorizer.fit_transform(train_source['data'])\n",
        "print(train_vectors.shape)\n",
        "test_vectors = vectorizer.transform(test_source['data'])\n",
        "\n",
        "sc = Normalizer()\n",
        "train_vectors = sc.fit_transform(train_vectors)\n",
        "test_vectors = sc.transform(test_vectors)\n",
        "\n",
        "# # for c_ in 2**(np.arange(1, 10, 0.5)):\n",
        "for c_ in [10, 100, 1000]:\n",
        "    print(c_)\n",
        "    cls = LogisticRegression(penalty='l2', C=c_, solver='liblinear')\n",
        "    cls.fit(train_vectors, train_source['target'])\n",
        "\n",
        "    sklearn_train_pred = cls.predict_proba(train_vectors)\n",
        "    sklearn_train_loss = F.cross_entropy(torch.from_numpy(sklearn_train_pred),\n",
        "                                                    torch.from_numpy(train_source['target']))\n",
        "    print('Среднее значение функции потерь на обучении', float(sklearn_train_loss))\n",
        "    print('Доля верных ответов', accuracy_score(train_source['target'], sklearn_train_pred.argmax(-1)))\n",
        "    print()\n",
        "\n",
        "    sklearn_test_pred = cls.predict_proba(test_vectors)\n",
        "    sklearn_test_loss = F.cross_entropy(torch.from_numpy(sklearn_test_pred),\n",
        "                                                    torch.from_numpy(test_source['target']))\n",
        "    print('Среднее значение функции потерь на валидации', float(sklearn_test_loss))\n",
        "    print('Доля верных ответов', accuracy_score(test_source['target'], sklearn_test_pred.argmax(-1)))"
      ],
      "execution_count": 99,
      "outputs": [
        {
          "output_type": "stream",
          "text": [
            "(11314, 55648)\n",
            "10\n",
            "Среднее значение функции потерь на обучении 2.218400819892674\n",
            "Доля верных ответов 0.998585822874315\n",
            "\n",
            "Среднее значение функции потерь на валидации 2.429922401471365\n",
            "Доля верных ответов 0.844397238449283\n",
            "100\n",
            "Среднее значение функции потерь на обучении 2.103933866158613\n",
            "Доля верных ответов 0.9996464557185788\n",
            "\n",
            "Среднее значение функции потерь на валидации 2.307891177322554\n",
            "Доля верных ответов 0.8414763674986724\n",
            "1000\n",
            "Среднее значение функции потерь на обучении 2.0823929587507206\n",
            "Доля верных ответов 0.999734841788934\n",
            "\n",
            "Среднее значение функции потерь на валидации 2.268346028074309\n",
            "Доля верных ответов 0.8421402018056293\n"
          ],
          "name": "stdout"
        }
      ]
    },
    {
      "cell_type": "markdown",
      "metadata": {
        "id": "osBcGMjQYEb_"
      },
      "source": [
        "### Report\n",
        "\n",
        "Сначала добавила регуляризацию (через weight_decay, просто передав 0.01, 0.001, 0.0001, ... коэффициенты в дефолтную функцию) -- модель вообще почти перестала обучаться, т.к. коэффициенты видимо были для нее слишком жесткими. При этом совсем маленькие коэффициенты типа 0.0000001 уже почти ничего не улучшали. Я не поняла, что это было, т.к. регуляризация с C = 10, 100, 1000 в sklearn.LogisticRegression на тех же фичах заметно улучшала предсказания.\n",
        "\n",
        "Использование для обучения признаков, подготовленных с помощью TfidfVectorizer, сильно улучшило результаты. С признаками из TfidfVectorizer и на pytorch модели, и в обычной LogisticRegression при правильно подобранных коэффициентах регуляризации получаются результаты лучше, чем в Pipeline с той же LogisticRegression из курса, где коэффициенты не подбираются. Сначала я подумала, что это из-за других шкалирования/нормализациии данных, но дело оказалось в формулах и для TF, и для IDF.\n",
        "\n",
        "Сделала лемматизацию и стемминг -- качество предсказаний ухудшилось. Словарь ожидаемо уменьшился. Я ожидала, что переобучение уменьшится, но как-то не очень.\n",
        "\n",
        "Потом пошла по порядку.\n",
        "\n",
        "1) Заменила tfidf на ltfidf (sublinear_tf=True в sklearn). В pytorch модели это ожидаемо не помогло, т.к. она переобучается, в sklearn улучшило на 2% результаты на валидации).\n",
        "Изменение MAX_DF и MIN_COUNT не очень сильно улучшают все, разве что MIN_COUNT = 6 немного лучше, чем 5.\n",
        "\n",
        "2) PMI к лейблу мне вообще не понравилось использовать. Во-первых, в курсе очень странно дано определение PMI. По-моему, оно не совсем правильное. Если использовать максимально приближенное к нему определение PMI для расчета, то получается, что для частых слов, которые хотя бы раз используются в тексте, PMI одинаковая?..\n",
        "\n",
        "3) Разные нормировки в применении к изначальным взвешенным через TF-IDF данным. \n",
        "Нормировка на std трейна каждой фичи не помогла. Mean, чтобы сохранить разреженность, не вычитала. \n",
        "Нормировка каждого документа на его норму тоже не помогла.\n",
        "\n",
        "4) Изменение формул для TF и IDF дало 5% улучшение до 80%+.\n",
        "В курсе дана формула IDF = n_docs / word_frequencies, но в TfidfVectorizer и в других местах используется log(n_docs / word_frequencies) + 1, или же log((n_docs + 1) / (word_frequencies + 1)) + 1 для стабильности. TF в TfidfVectorizer не нормируется на размер документа. С этой формулой + нормализацией каждого вектора к 1 + 0.000001 регуляризацией я получила примерно те же результаты, что и с использованием TfidfVectorizer + регуляризацией -- 83.2%. С обычной логистической регрессией из sklearn с C=10 получилось 84%, что на 2-3% лучше, чем у примера из курса, завернутого в Pipeline. Снова попробовала сделать нормировку на std и на максимум, и она не помогла.\n",
        "\n",
        "5) N-граммы с лемматизацией / стеммингом.\n",
        "Ожидаемо очень сильно увеличивали размерность и ухудшали результаты, если не подстраивать под них остальные параметры. \n",
        "n-граммы без включения исходных слов ухудшали результаты с разными параметрами.\n",
        "Если сильно уменьшить допустимый интервал между MAX_DF и MIN_COUNTS, то точность с [1, 2] и [1, 2, 3]-граммами слегка улучшилась по сравнению с полученной на (5). Для [1, 2, 3] я вообще взяла MAX_DF=0.2. Лемматизация / стемминг примерно одинаковый результат дают. Выкидывание частых слов из nltk списка stopwords перед созданием n-грамм выгодно уменьшало размерность. Если использовать stopwords, то MAX_DF можно снова сделать побольше, типа 0.6 -- разницы почти нет. Тут лучший результат был 84.2%.\n",
        "\n",
        "6) Усложнение сетки. Добавила слой с сигмоидой, пробовала от 15, 50, 100, 200 нейронов. С lr=0.1 и 0.001 вышло как-то грустненько: почти всегда результаты ухудшались; вариант со 100 нейронами работал нормально при условии наличия регуляризации, но результаты не улучшал. Затем изменила lr на 0.0001, который подсмотрела в комментариях, -- и наконец-то получилось чуть-чуть лучше обычной регрессии. Тут лучший результат был 84.6%.\n"
      ]
    }
  ]
}