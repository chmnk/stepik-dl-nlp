{
  "nbformat": 4,
  "nbformat_minor": 0,
  "metadata": {
    "kernelspec": {
      "display_name": "Python 3",
      "language": "python",
      "name": "python3"
    },
    "language_info": {
      "codemirror_mode": {
        "name": "ipython",
        "version": 3
      },
      "file_extension": ".py",
      "mimetype": "text/x-python",
      "name": "python",
      "nbconvert_exporter": "python",
      "pygments_lexer": "ipython3",
      "version": "3.6.10"
    },
    "latex_envs": {
      "LaTeX_envs_menu_present": true,
      "autoclose": false,
      "autocomplete": true,
      "bibliofile": "biblio.bib",
      "cite_by": "apalike",
      "current_citInitial": 1,
      "eqLabelWithNumbers": true,
      "eqNumInitial": 1,
      "hotkeys": {
        "equation": "Ctrl-E",
        "itemize": "Ctrl-I"
      },
      "labels_anchors": false,
      "latex_user_defs": false,
      "report_style_numbering": false,
      "user_envs_cfg": false
    },
    "toc": {
      "base_numbering": 1,
      "nav_menu": {},
      "number_sections": true,
      "sideBar": true,
      "skip_h1_title": false,
      "title_cell": "Table of Contents",
      "title_sidebar": "Contents",
      "toc_cell": false,
      "toc_position": {},
      "toc_section_display": true,
      "toc_window_display": false
    },
    "colab": {
      "name": "task2_word_embeddings.ipynb",
      "provenance": []
    }
  },
  "cells": [
    {
      "cell_type": "markdown",
      "metadata": {
        "id": "UMc3yxSBqhVK"
      },
      "source": [
        "# Word2Vec"
      ]
    },
    {
      "cell_type": "code",
      "metadata": {
        "id": "As-j6-x4qhVN",
        "colab": {
          "base_uri": "https://localhost:8080/"
        },
        "outputId": "11e479de-cc5b-42f1-b579-dd8d96a4eba9"
      },
      "source": [
        "# Если Вы запускаете ноутбук на colab или kaggle,\n",
        "# выполните следующие строчки, чтобы подгрузить библиотеку dlnlputils:\n",
        "\n",
        "!git clone https://github.com/Samsung-IT-Academy/stepik-dl-nlp.git && pip install -r stepik-dl-nlp/requirements.txt\n",
        "import sys; sys.path.append('./stepik-dl-nlp')"
      ],
      "execution_count": 145,
      "outputs": [
        {
          "output_type": "stream",
          "text": [
            "fatal: destination path 'stepik-dl-nlp' already exists and is not an empty directory.\n"
          ],
          "name": "stdout"
        }
      ]
    },
    {
      "cell_type": "code",
      "metadata": {
        "ExecuteTime": {
          "end_time": "2019-10-29T19:19:30.785285Z",
          "start_time": "2019-10-29T19:19:29.542846Z"
        },
        "id": "XCcIKhy9qhVO",
        "colab": {
          "base_uri": "https://localhost:8080/"
        },
        "outputId": "18fcd80b-8258-4dd5-bc91-a8b7094e8f6d"
      },
      "source": [
        "%load_ext autoreload\n",
        "%autoreload 2\n",
        "\n",
        "import random\n",
        "import pandas as pd\n",
        "import numpy as np\n",
        "\n",
        "import matplotlib.pyplot as plt\n",
        "%matplotlib inline\n",
        "\n",
        "import torch\n",
        "from torch import nn\n",
        "from torch.nn import functional as F\n",
        "\n",
        "import dlnlputils\n",
        "from dlnlputils.data import tokenize_corpus, build_vocabulary, texts_to_token_ids, \\\n",
        "    PaddedSequenceDataset, Embeddings\n",
        "from dlnlputils.pipeline import train_eval_loop, predict_with_model, init_random_seed\n",
        "from dlnlputils.visualization import plot_vectors\n",
        "\n",
        "init_random_seed()"
      ],
      "execution_count": 146,
      "outputs": [
        {
          "output_type": "stream",
          "text": [
            "The autoreload extension is already loaded. To reload it, use:\n",
            "  %reload_ext autoreload\n"
          ],
          "name": "stdout"
        }
      ]
    },
    {
      "cell_type": "code",
      "metadata": {
        "id": "9mcv1-TJ1Sf4"
      },
      "source": [
        "import sys\n",
        "import ast\n",
        "import numpy as np\n",
        "import time\n",
        "import scipy.sparse\n",
        "from itertools import permutations, combinations\n",
        "import re\n",
        "import collections"
      ],
      "execution_count": 147,
      "outputs": []
    },
    {
      "cell_type": "markdown",
      "metadata": {
        "id": "vKGuWXjlqweh"
      },
      "source": [
        "## Разные задания из семинара"
      ]
    },
    {
      "cell_type": "markdown",
      "metadata": {
        "id": "uh3Y81bk1DFo"
      },
      "source": [
        "### Sliding window"
      ]
    },
    {
      "cell_type": "code",
      "metadata": {
        "id": "8qxzpERtq0T1"
      },
      "source": [
        "\n",
        "\n",
        "def generate_w2v_sgns_samples(text, window_size, vocab_size, ns_rate, naive=True, list_compr=False, allocfirst=False):\n",
        "    \"\"\"\n",
        "    text - list of integer numbers - ids of tokens in text\n",
        "    window_size - odd integer - width of window\n",
        "    vocab_size - positive integer - number of tokens in vocabulary\n",
        "    ns_rate - positive integer - number of negative tokens to sample per one positive sample\n",
        "\n",
        "    returns list of training samples (CenterWord, CtxWord, Label)\n",
        "    \"\"\"\n",
        "    halfstep = window_size // 2\n",
        "    tstart = time.perf_counter()\n",
        "    n_txt = len(text)\n",
        "    if naive:\n",
        "        res = []\n",
        "        for i in range(n_txt):\n",
        "            for j in range(-halfstep, halfstep + 1):\n",
        "                if halfstep != 0 and j == 0:\n",
        "                    continue\n",
        "                if i + j < 0 or i + j >= n_txt:\n",
        "                    continue\n",
        "                res.append([text[i], text[i + j], 1])\n",
        "                for k in range(ns_rate):\n",
        "                    res.append([text[i], np.random.randint(0, vocab_size), 0])\n",
        "    elif list_compr:\n",
        "        res = [[text[i], text[i + j], 1] if k == -1 else [text[i], np.random.randint(0, vocab_size), 0] \n",
        "                                           for i in range(n_txt)\n",
        "                                           for j in range(-halfstep, halfstep + 1) if ((i + j >= 0 and i + j < n_txt) and ((j != 0 and halfstep > 0) or (halfstep == 0)))\n",
        "                                           for k in range(-1, ns_rate) \n",
        "            ]\n",
        "    elif not allocfirst:\n",
        "        ndx = [[i, i + j] for i in range(n_txt) for j in range(-halfstep, halfstep + 1) if ((i + j >= 0 and i + j < n_txt) and ((j != 0 and halfstep > 0) or (halfstep == 0)))]\n",
        "        n_pos = len(ndx)\n",
        "        ndx = np.ravel(ndx)\n",
        "        res = text[ndx].reshape(n_pos, 2)\n",
        "        res = np.append(res, np.ones((n_pos, 1), dtype=int), axis=1)\n",
        "        for ineg in range(ns_rate):\n",
        "            res = np.append(res, res[:, :1], axis=1)\n",
        "            res = np.append(res, np.random.randint(0, vocab_size, (n_pos, 1)), axis=1)\n",
        "            res = np.append(res, np.zeros((n_pos, 1), dtype=int), axis=1)\n",
        "        res = res.reshape((n_pos * (ns_rate + 1) , 3))\n",
        "\n",
        "    else:\n",
        "        ndx = [[i, i + j] for i in range(n_txt) for j in range(-halfstep, halfstep + 1) if ((i + j >= 0 and i + j < n_txt) and ((j != 0 and halfstep > 0) or (halfstep == 0)))]\n",
        "        n_pos = len(ndx)\n",
        "        ndx = np.ravel(ndx)\n",
        "        res = np.zeros((n_pos, (ns_rate + 1) * 3), dtype=int)\n",
        "        res[:, :2] = text[ndx].reshape(n_pos, 2)\n",
        "        res[:, 2] = 1\n",
        "        for ineg in range(ns_rate):\n",
        "            ineg3 = 3 + ineg * 3\n",
        "            res[:, ineg3] = res[:, 0]\n",
        "            res[:, ineg3 + 1] = np.random.randint(0, vocab_size, n_pos)\n",
        "            res[:, ineg3 + 2] = 0\n",
        "        res = res.reshape((n_pos * (ns_rate + 1) , 3))\n",
        "\n",
        "    tstop = time.perf_counter()\n",
        "\n",
        "        \n",
        "    return res, tstop - tstart\n",
        "\n"
      ],
      "execution_count": 148,
      "outputs": []
    },
    {
      "cell_type": "code",
      "metadata": {
        "id": "5l9JVp7S1H8_",
        "colab": {
          "base_uri": "https://localhost:8080/"
        },
        "outputId": "c7d97ae8-6870-4486-90f7-c6cc8898433a"
      },
      "source": [
        "\n",
        "text = np.array([1, 0, 1, 0, 0, 5, 0, 3, 5, 5, 3, 0, 5, 0, 5, 2, 0, 1, 3])\n",
        "text = np.array([ 1,  6,  1,  0, -7])\n",
        "window_size = 3\n",
        "vocab_size = 4\n",
        "ns_rate = 1\n",
        "\n",
        "result, tm = generate_w2v_sgns_samples(text, window_size, vocab_size, ns_rate)\n",
        "print(result, tm)\n",
        "\n",
        "result3, tm =  generate_w2v_sgns_samples(text, window_size, vocab_size, ns_rate, naive=False, list_compr=True)\n",
        "print(result3, tm)\n",
        "\n",
        "result1, tm = generate_w2v_sgns_samples(text, window_size, vocab_size, ns_rate, naive=False)\n",
        "print(result1.tolist(), tm)\n",
        "\n",
        "result2, tm = generate_w2v_sgns_samples(text, window_size, vocab_size, ns_rate, naive=False, allocfirst=True)\n",
        "print(result2.tolist(), tm)"
      ],
      "execution_count": 149,
      "outputs": [
        {
          "output_type": "stream",
          "text": [
            "[[1, 6, 1], [1, 0, 0], [6, 1, 1], [6, 3, 0], [6, 1, 1], [6, 1, 0], [1, 6, 1], [1, 0, 0], [1, 0, 1], [1, 3, 0], [0, 1, 1], [0, 3, 0], [0, -7, 1], [0, 3, 0], [-7, 0, 1], [-7, 3, 0]] 0.00016350099940609653\n",
            "[[1, 6, 1], [1, 1, 0], [6, 1, 1], [6, 3, 0], [6, 1, 1], [6, 1, 0], [1, 6, 1], [1, 2, 0], [1, 0, 1], [1, 0, 0], [0, 1, 1], [0, 3, 0], [0, -7, 1], [0, 2, 0], [-7, 0, 1], [-7, 0, 0]] 5.527299981622491e-05\n",
            "[[1, 6, 1], [1, 0, 0], [6, 1, 1], [6, 0, 0], [6, 1, 1], [6, 2, 0], [1, 6, 1], [1, 1, 0], [1, 0, 1], [1, 2, 0], [0, 1, 1], [0, 3, 0], [0, -7, 1], [0, 3, 0], [-7, 0, 1], [-7, 2, 0]] 0.0022827960001450265\n",
            "[[1, 6, 1], [1, 0, 0], [6, 1, 1], [6, 1, 0], [6, 1, 1], [6, 1, 0], [1, 6, 1], [1, 1, 0], [1, 0, 1], [1, 1, 0], [0, 1, 1], [0, 0, 0], [0, -7, 1], [0, 1, 0], [-7, 0, 1], [-7, 0, 0]] 0.000136945998747251\n"
          ],
          "name": "stdout"
        }
      ]
    },
    {
      "cell_type": "code",
      "metadata": {
        "id": "ScOfAKrfNcur",
        "colab": {
          "base_uri": "https://localhost:8080/",
          "height": 1000
        },
        "outputId": "7870088c-a066-4cd2-cbd3-e0b61d4de06a"
      },
      "source": [
        "conditions = ((10, 20, 3, 2),\n",
        "              (10, 20, 3, 10),\n",
        "              (1000, 1000, 3, 2),\n",
        "              (1000, 1000, 11, 2),\n",
        "              (10000, 10000, 5, 5),\n",
        "              (100000, 100000, 5, 3),\n",
        "              (1000000, 1000000, 5, 3),\n",
        "              )\n",
        "\n",
        "\n",
        "for text_size, vocab_size, window_size, ns_rate in conditions:\n",
        "    tms1, tms2, tms3, tms4 = [], [], [], []\n",
        "    text = np.random.randint(0, vocab_size, text_size)\n",
        "\n",
        "    for i in range(10):\n",
        "        result, tm = generate_w2v_sgns_samples(text, window_size, vocab_size, ns_rate)\n",
        "        tms1.append(tm)\n",
        "\n",
        "        result, tm = generate_w2v_sgns_samples(text, window_size, vocab_size, ns_rate, naive=False, list_compr=True)\n",
        "        tms2.append(tm)\n",
        "\n",
        "        result, tm = generate_w2v_sgns_samples(text, window_size, vocab_size, ns_rate, naive=False)\n",
        "        tms3.append(tm)\n",
        "\n",
        "        result, tm = generate_w2v_sgns_samples(text, window_size, vocab_size, ns_rate, naive=False, allocfirst=True)\n",
        "        tms4.append(tm)\n",
        "    print('text_size = {0}, vocab_size = {1}, window_size = {2}, ns_rate = {3}'.format(text_size, vocab_size, window_size, ns_rate))\n",
        "    print('naive with 3 for loops              ', np.mean(tms1))\n",
        "    print('naive with list comprehensions      ', np.mean(tms2))\n",
        "    print('vector-style with np.append         ', np.mean(tms3))\n",
        "    print('vector-style with preallocated array', np.mean(tms4))\n",
        "    print()"
      ],
      "execution_count": 150,
      "outputs": [
        {
          "output_type": "stream",
          "text": [
            "text_size = 10, vocab_size = 20, window_size = 3, ns_rate = 2\n",
            "naive with 3 for loops               0.00015824349957256346\n",
            "naive with list comprehensions       0.0001450816003853106\n",
            "vector-style with np.append          0.00011055960039811908\n",
            "vector-style with preallocated array 8.247650002886075e-05\n",
            "\n",
            "text_size = 10, vocab_size = 20, window_size = 3, ns_rate = 10\n",
            "naive with 3 for loops               0.0008535080000001471\n",
            "naive with list comprehensions       0.0007164869000916951\n",
            "vector-style with np.append          0.0008629726999060949\n",
            "vector-style with preallocated array 0.00027542190000531266\n",
            "\n",
            "text_size = 1000, vocab_size = 1000, window_size = 3, ns_rate = 2\n",
            "naive with 3 for loops               0.017699595000340195\n",
            "naive with list comprehensions       0.018717837700023665\n",
            "vector-style with np.append          0.0034703227000136396\n",
            "vector-style with preallocated array 0.00372336139989784\n",
            "\n",
            "text_size = 1000, vocab_size = 1000, window_size = 11, ns_rate = 2\n",
            "naive with 3 for loops               0.10906549430019367\n",
            "naive with list comprehensions       0.14072394640006677\n",
            "vector-style with np.append          0.015449250299752748\n",
            "vector-style with preallocated array 0.013994449200072267\n",
            "\n",
            "text_size = 10000, vocab_size = 10000, window_size = 5, ns_rate = 5\n",
            "naive with 3 for loops               1.0453023862995905\n",
            "naive with list comprehensions       1.0042809613996724\n",
            "vector-style with np.append          0.13063101440020547\n",
            "vector-style with preallocated array 0.13600296290005645\n",
            "\n",
            "text_size = 100000, vocab_size = 100000, window_size = 5, ns_rate = 3\n",
            "naive with 3 for loops               6.598996932300179\n",
            "naive with list comprehensions       6.402864053900703\n",
            "vector-style with np.append          0.8011940847000005\n",
            "vector-style with preallocated array 0.787892949000161\n",
            "\n"
          ],
          "name": "stdout"
        },
        {
          "output_type": "error",
          "ename": "KeyboardInterrupt",
          "evalue": "ignored",
          "traceback": [
            "\u001b[0;31m---------------------------------------------------------------------------\u001b[0m",
            "\u001b[0;31mKeyboardInterrupt\u001b[0m                         Traceback (most recent call last)",
            "\u001b[0;32m<ipython-input-150-f8d1eca80ca1>\u001b[0m in \u001b[0;36m<module>\u001b[0;34m()\u001b[0m\n\u001b[1;32m     14\u001b[0m \u001b[0;34m\u001b[0m\u001b[0m\n\u001b[1;32m     15\u001b[0m     \u001b[0;32mfor\u001b[0m \u001b[0mi\u001b[0m \u001b[0;32min\u001b[0m \u001b[0mrange\u001b[0m\u001b[0;34m(\u001b[0m\u001b[0;36m10\u001b[0m\u001b[0;34m)\u001b[0m\u001b[0;34m:\u001b[0m\u001b[0;34m\u001b[0m\u001b[0;34m\u001b[0m\u001b[0m\n\u001b[0;32m---> 16\u001b[0;31m         \u001b[0mresult\u001b[0m\u001b[0;34m,\u001b[0m \u001b[0mtm\u001b[0m \u001b[0;34m=\u001b[0m \u001b[0mgenerate_w2v_sgns_samples\u001b[0m\u001b[0;34m(\u001b[0m\u001b[0mtext\u001b[0m\u001b[0;34m,\u001b[0m \u001b[0mwindow_size\u001b[0m\u001b[0;34m,\u001b[0m \u001b[0mvocab_size\u001b[0m\u001b[0;34m,\u001b[0m \u001b[0mns_rate\u001b[0m\u001b[0;34m)\u001b[0m\u001b[0;34m\u001b[0m\u001b[0;34m\u001b[0m\u001b[0m\n\u001b[0m\u001b[1;32m     17\u001b[0m         \u001b[0mtms1\u001b[0m\u001b[0;34m.\u001b[0m\u001b[0mappend\u001b[0m\u001b[0;34m(\u001b[0m\u001b[0mtm\u001b[0m\u001b[0;34m)\u001b[0m\u001b[0;34m\u001b[0m\u001b[0;34m\u001b[0m\u001b[0m\n\u001b[1;32m     18\u001b[0m \u001b[0;34m\u001b[0m\u001b[0m\n",
            "\u001b[0;32m<ipython-input-148-d2fcd6e84607>\u001b[0m in \u001b[0;36mgenerate_w2v_sgns_samples\u001b[0;34m(text, window_size, vocab_size, ns_rate, naive, list_compr, allocfirst)\u001b[0m\n\u001b[1;32m     23\u001b[0m                 \u001b[0mres\u001b[0m\u001b[0;34m.\u001b[0m\u001b[0mappend\u001b[0m\u001b[0;34m(\u001b[0m\u001b[0;34m[\u001b[0m\u001b[0mtext\u001b[0m\u001b[0;34m[\u001b[0m\u001b[0mi\u001b[0m\u001b[0;34m]\u001b[0m\u001b[0;34m,\u001b[0m \u001b[0mtext\u001b[0m\u001b[0;34m[\u001b[0m\u001b[0mi\u001b[0m \u001b[0;34m+\u001b[0m \u001b[0mj\u001b[0m\u001b[0;34m]\u001b[0m\u001b[0;34m,\u001b[0m \u001b[0;36m1\u001b[0m\u001b[0;34m]\u001b[0m\u001b[0;34m)\u001b[0m\u001b[0;34m\u001b[0m\u001b[0;34m\u001b[0m\u001b[0m\n\u001b[1;32m     24\u001b[0m                 \u001b[0;32mfor\u001b[0m \u001b[0mk\u001b[0m \u001b[0;32min\u001b[0m \u001b[0mrange\u001b[0m\u001b[0;34m(\u001b[0m\u001b[0mns_rate\u001b[0m\u001b[0;34m)\u001b[0m\u001b[0;34m:\u001b[0m\u001b[0;34m\u001b[0m\u001b[0;34m\u001b[0m\u001b[0m\n\u001b[0;32m---> 25\u001b[0;31m                     \u001b[0mres\u001b[0m\u001b[0;34m.\u001b[0m\u001b[0mappend\u001b[0m\u001b[0;34m(\u001b[0m\u001b[0;34m[\u001b[0m\u001b[0mtext\u001b[0m\u001b[0;34m[\u001b[0m\u001b[0mi\u001b[0m\u001b[0;34m]\u001b[0m\u001b[0;34m,\u001b[0m \u001b[0mnp\u001b[0m\u001b[0;34m.\u001b[0m\u001b[0mrandom\u001b[0m\u001b[0;34m.\u001b[0m\u001b[0mrandint\u001b[0m\u001b[0;34m(\u001b[0m\u001b[0;36m0\u001b[0m\u001b[0;34m,\u001b[0m \u001b[0mvocab_size\u001b[0m\u001b[0;34m)\u001b[0m\u001b[0;34m,\u001b[0m \u001b[0;36m0\u001b[0m\u001b[0;34m]\u001b[0m\u001b[0;34m)\u001b[0m\u001b[0;34m\u001b[0m\u001b[0;34m\u001b[0m\u001b[0m\n\u001b[0m\u001b[1;32m     26\u001b[0m     \u001b[0;32melif\u001b[0m \u001b[0mlist_compr\u001b[0m\u001b[0;34m:\u001b[0m\u001b[0;34m\u001b[0m\u001b[0;34m\u001b[0m\u001b[0m\n\u001b[1;32m     27\u001b[0m         res = [[text[i], text[i + j], 1] if k == -1 else [text[i], np.random.randint(0, vocab_size), 0] \n",
            "\u001b[0;31mKeyboardInterrupt\u001b[0m: "
          ]
        }
      ]
    },
    {
      "cell_type": "markdown",
      "metadata": {
        "id": "ljG3ZFNViUdi"
      },
      "source": [
        "### GloVe mutual occurence"
      ]
    },
    {
      "cell_type": "code",
      "metadata": {
        "id": "r6NDhX6x1arL"
      },
      "source": [
        "# from itertools import permutations\n",
        "# from itertools import combinations\n",
        "\n",
        "def generate_coocurrence_matrix(texts, vocab_size, naive=True, naive2=False, perm=False, comb_set=False):\n",
        "    \"\"\"\n",
        "    texts - list of lists of ints - i-th sublist contains identifiers of tokens in i-th document\n",
        "    vocab_size - int - size of vocabulary\n",
        "    returns scipy.sparse.dok_matrix\n",
        "    \"\"\"\n",
        "    tstart = time.perf_counter()\n",
        "    mutual_occurence = scipy.sparse.dok_matrix((vocab_size, vocab_size), dtype=int)\n",
        "    if naive:\n",
        "        for text in texts:\n",
        "            dk_loc = scipy.sparse.dok_matrix((vocab_size, vocab_size), dtype=int)\n",
        "            for i, vi in enumerate(text):\n",
        "                for j, vj in enumerate(text):\n",
        "                    if i <= j or vi == vj:\n",
        "                        continue\n",
        "                    dk_loc[vi, vj] = 1\n",
        "                    dk_loc[vj, vi] = 1\n",
        "            mutual_occurence += dk_loc\n",
        "    elif naive2:\n",
        "        for i in range(vocab_size):\n",
        "            for j in range(vocab_size):\n",
        "                if i <= j:\n",
        "                    continue\n",
        "                for text in texts:\n",
        "                    if i in text and j in text:\n",
        "                        mutual_occurence[i, j] += 1\n",
        "                        mutual_occurence[j, i] += 1\n",
        "    elif perm:\n",
        "        for text in texts:\n",
        "            cur_comb = set(permutations(text, 2))\n",
        "            for vi, vj in cur_comb:\n",
        "                if vi == vj:\n",
        "                    continue\n",
        "                mutual_occurence[vi, vj] += 1\n",
        "    elif comb_set:\n",
        "        for text in texts:\n",
        "            combs = combinations(set(text), 2)\n",
        "            for vi, vj in combs:\n",
        "                mutual_occurence[vi, vj] += 1\n",
        "                mutual_occurence[vj, vi] += 1\n",
        "    tstop = time.perf_counter()\n",
        "    return mutual_occurence, tstop - tstart\n",
        "\n",
        "\n",
        "text = [[0, 2, 2, 2, 0, 0], [1, 1, 2, 1, 1], [2, 2, 1, 1]]\n",
        "vocab_size = 3\n",
        "\n",
        "result, tm = generate_coocurrence_matrix(text, vocab_size)\n",
        "print(result.A)\n",
        "result, tm = generate_coocurrence_matrix(text, vocab_size, naive=False, perm=True)\n",
        "print(result.A)"
      ],
      "execution_count": null,
      "outputs": []
    },
    {
      "cell_type": "code",
      "metadata": {
        "id": "SAdJfpten1SU"
      },
      "source": [
        "conditions = ((10, 10, 10),\n",
        "              (10, 1000, 10),\n",
        "              (1000, 10, 10),\n",
        "              (10, 10, 1000),\n",
        "              (10, 10, 10000),\n",
        "              (100, 1000, 1000),\n",
        "              (100, 100, 1000),\n",
        "              (10, 10000, 10000),\n",
        "              (100, 1000, 100000),\n",
        "              )\n",
        "\n",
        "for n_texts, text_len, vocab_size in conditions:\n",
        "    tms1, tms2, tms3, tms4 = [], [], [], []\n",
        "    text = np.random.randint(0, vocab_size, (n_texts, text_len))\n",
        "    for i in range(10):\n",
        "        res, tm1 = generate_coocurrence_matrix(text, vocab_size)\n",
        "        tms1.append(tm1)\n",
        "        res, tm2 = generate_coocurrence_matrix(text, vocab_size, naive=False, naive2=True)\n",
        "        tms2.append(tm2)\n",
        "        res, tm3 = generate_coocurrence_matrix(text, vocab_size, naive=False, perm=True)\n",
        "        tms3.append(tm3)\n",
        "        res, tm4 = generate_coocurrence_matrix(text, vocab_size, naive=False, comb_set=True)\n",
        "        tms4.append(tm4)\n",
        "    print('Number of texts = {0}, text size = {1}, vocabulary size = {2}'.format(n_texts, text_len, vocab_size))\n",
        "    print('Naive iteration, iterating over texts and words inside of them', np.mean(tms1))\n",
        "    print('Naive iteration, iterating over words and then over texts', np.mean(tms2))\n",
        "    print('With itertools.permutations', np.mean(tms3))\n",
        "    print('With itertools.combinations over a set', np.mean(tms4))\n",
        "    print('')\n",
        "\n"
      ],
      "execution_count": null,
      "outputs": []
    },
    {
      "cell_type": "markdown",
      "metadata": {
        "id": "2FnjDa16VvQj"
      },
      "source": [
        "# Word embeddings"
      ]
    },
    {
      "cell_type": "markdown",
      "metadata": {
        "id": "AJzcs4RoiOxj"
      },
      "source": [
        "### Tokenizers"
      ]
    },
    {
      "cell_type": "code",
      "metadata": {
        "id": "zPCWwTrOCJ8P"
      },
      "source": [
        "import nltk\n",
        "\n",
        "nltk.download('stopwords')\n",
        "from nltk.corpus import stopwords\n",
        "\n",
        "nltk.download('wordnet')\n",
        "lemma = nltk.wordnet.WordNetLemmatizer()\n",
        "\n",
        "sno = nltk.stem.SnowballStemmer('english')\n",
        "\n",
        "stopwords_en = stopwords.words('english')"
      ],
      "execution_count": null,
      "outputs": []
    },
    {
      "cell_type": "code",
      "metadata": {
        "id": "ABDpdteBBDxF"
      },
      "source": [
        "TOKEN_RE = re.compile(r'[\\w\\d]+')\n",
        "TOKEN_RE = re.compile(r'[\\w]+')\n",
        "# TOKEN_RE = re.compile(r'[^\\d\\W]+|[\\d]*\\.[\\d]+|-[\\d]*\\.[\\d]+|-[\\d]+|[\\d]+|\\.[\\d]+|[^\\s]')\n",
        "\n",
        "def tokenize_text_simple_regex(txt, min_token_size=3, ngram=1):\n",
        "    txt = txt.lower()\n",
        "    all_tokens = TOKEN_RE.findall(txt)\n",
        "    if ngram <= 1:\n",
        "        return [token for token in all_tokens if len(token) >= min_token_size]\n",
        "    else:\n",
        "        tokenized = [token for token in all_tokens if len(token) >= min_token_size]\n",
        "        return [tuple(tokenized[i: i + ngram]) for i in range(0, len(tokenized), ngram)]\n",
        "\n",
        "def tokenize_text_lemmatized(txt, min_token_size=3, ngram=1):\n",
        "    txt = txt.lower()\n",
        "    all_tokens = TOKEN_RE.findall(txt)\n",
        "    lemmatized = [lemma.lemmatize(token) for token in all_tokens]\n",
        "    if ngram <= 1:\n",
        "        return list(filter(lambda x: (len(x) >= min_token_size) & (x not in stopwords_en), lemmatized))\n",
        "    else:\n",
        "        lemmatized = list(filter(lambda x: len(x) >= min_token_size, lemmatized))\n",
        "        return [tuple(lemmatized[i: i + ngram]) for i in range(0, len(lemmatized), ngram)]\n",
        "\n",
        "\n",
        "def tokenize_text_stemmed(txt, min_token_size=3, ngram=1):\n",
        "    txt = txt.lower()\n",
        "    all_tokens = TOKEN_RE.findall(txt)\n",
        "    stemmed = [sno.stem(token) for token in all_tokens]\n",
        "    if ngram <= 1:\n",
        "        return list(filter(lambda x: len(x) >= min_token_size, stemmed))\n",
        "    else:\n",
        "        stemmed = list(filter(lambda x: len(x) >= min_token_size, stemmed))\n",
        "        return [tuple(stemmed[i: i + ngram]) for i in range(0, len(stemmed), ngram)]\n",
        "\n",
        "\n",
        "# def character_tokenize(txt):\n",
        "#     return list(txt)\n",
        "\n",
        "\n",
        "# def tokenize_corpus(texts, tokenizer=tokenize_text_simple_regex, **tokenizer_kwargs):\n",
        "#     return [tokenizer(text, **tokenizer_kwargs) for text in texts]\n",
        "\n",
        "\n",
        "# def add_fake_token(word2id, token='<PAD>'):\n",
        "#     word2id_new = {token: i + 1 for token, i in word2id.items()}\n",
        "#     word2id_new[token] = 0\n",
        "#     return word2id_new\n",
        "\n",
        "\n",
        "# def texts_to_token_ids(tokenized_texts, word2id):\n",
        "#     return [[word2id[token] for token in text if token in word2id]\n",
        "#             for text in tokenized_texts]\n",
        "\n",
        "\n",
        "def build_vocabulary(tokenized_texts, max_size=1000000, max_doc_freq=0.8, min_count=5, pad_word=None, use_pmi_filter=False, pmi_voc_prev=None, pmi_wl_matrix=None):\n",
        "    word_counts = collections.defaultdict(int)\n",
        "    doc_n = 0\n",
        "\n",
        "    # посчитать количество документов, в которых употребляется каждое слово\n",
        "    # а также общее количество документов\n",
        "    for txt in tokenized_texts:\n",
        "        doc_n += 1\n",
        "        unique_text_tokens = set(txt)\n",
        "        for token in unique_text_tokens:\n",
        "            word_counts[token] += 1\n",
        "    \n",
        "    # убрать слишком редкие и слишком частые слова\n",
        "    \n",
        "    if use_pmi_filter and pmi_wl_matrix is not None and pmi_voc_prev is not None:\n",
        "        # pmi_std_bad = (np.std(pmi_wl_matrix, axis=1) >= 1.5)\n",
        "        pmi_median_bad = (np.median(pmi_wl_matrix, axis=1) >= 0.5)\n",
        "        word_counts = {word: cnt for word, cnt in word_counts.items()\n",
        "                       if cnt >= min_count and cnt / doc_n <= max_doc_freq \n",
        "                       and pmi_median_bad[pmi_voc_prev[word]]}\n",
        "    else:\n",
        "        word_counts = {word: cnt for word, cnt in word_counts.items()\n",
        "                       if cnt >= min_count and cnt / doc_n <= max_doc_freq}\n",
        "\n",
        "    # отсортировать слова по убыванию частоты\n",
        "    sorted_word_counts = sorted(word_counts.items(),\n",
        "                                reverse=True,\n",
        "                                key=lambda pair: pair[1])\n",
        "\n",
        "    # добавим несуществующее слово с индексом 0 для удобства пакетной обработки\n",
        "    if pad_word is not None:\n",
        "        sorted_word_counts = [(pad_word, 0)] + sorted_word_counts\n",
        "\n",
        "    # если у нас по прежнему слишком много слов, оставить только max_size самых частотных\n",
        "    if len(word_counts) > max_size:\n",
        "        sorted_word_counts = sorted_word_counts[:max_size]\n",
        "\n",
        "    # нумеруем слова\n",
        "    word2id = {word: i for i, (word, _) in enumerate(sorted_word_counts)}\n",
        "\n",
        "    # # нормируем частоты слов\n",
        "    word2freq = np.array([cnt  for _, cnt in sorted_word_counts], dtype='float32')  # cnt / doc_n\n",
        "\n",
        "    return word2id, word2freq\n",
        "\n",
        "\n",
        "def vectorize_texts(tokenized_texts, word2id, word2freq, mode='tfidf', scale=None, pmi_wl_matrix=None, scalers=None):\n",
        "    assert mode in {'tfidf', 'idf', 'tf', 'bin', 'ltfidf', 'ltfpmi', 'tfidfnew', 'ltfidfnew'}\n",
        "    assert scale in {'minmax', 'rownorm', 'std', None}\n",
        "    n_docs = len(tokenized_texts)\n",
        "    # считаем количество употреблений каждого слова в каждом документе\n",
        "    result = scipy.sparse.dok_matrix((len(tokenized_texts), len(word2id)), dtype='float32')\n",
        "    for text_i, text in enumerate(tokenized_texts):\n",
        "        for token in text:\n",
        "            if token in word2id:\n",
        "                result[text_i, word2id[token]] += 1\n",
        "\n",
        "    # получаем бинарные вектора \"встречается или нет\"\n",
        "    if mode == 'bin':\n",
        "        result = (result > 0).astype('float32')\n",
        "\n",
        "    # получаем вектора относительных частот слова в документе\n",
        "    elif mode == 'tf':\n",
        "        result = result.tocsr()\n",
        "        # result = result.multiply(1 / result.sum(1))\n",
        "\n",
        "    # полностью убираем информацию о количестве употреблений слова в данном документе,\n",
        "    # но оставляем информацию о частотности слова в корпусе в целом\n",
        "    elif mode == 'idf':\n",
        "        result = (result > 0).astype('float32').multiply(n_docs / word2freq)\n",
        "\n",
        "    # учитываем всю информацию, которая у нас есть:\n",
        "    # частоту слова в документе и частоту слова в корпусе\n",
        "    elif mode == 'tfidf':\n",
        "        result = result.tocsr()\n",
        "        result = result.multiply(1 / result.sum(1))  # разделить каждую строку на её длину\n",
        "        result = result.multiply(n_docs / word2freq)  # разделить каждый столбец на вес слова\n",
        "        \n",
        "    elif mode == 'ltfidf':\n",
        "        result = (result.multiply(1 / result.sum(1))).log1p()\n",
        "        result = result.multiply(n_docs / word2freq)\n",
        "\n",
        "    elif mode == 'ltfpmi':\n",
        "        result = (result.multiply(1 / result.sum(1))).log1p()\n",
        "        result = result.multiply(np.amax(pmi_wl_matrix, axis=0))\n",
        "\n",
        "    elif mode == 'tfidfnew':\n",
        "        result = result.tocsr()\n",
        "        idf = np.log((n_docs + 1)/ (word2freq + 1)) + 1\n",
        "        # result = result.multiply(1 / result.sum(1))  # разделить каждую строку на её длину\n",
        "        result = result.multiply(idf)  # разделить каждый столбец на вес слова\n",
        "        \n",
        "    elif mode == 'ltfidfnew':\n",
        "        result = result.tocsr()\n",
        "        idf = np.log((n_docs + 1)/ (word2freq + 1)) + 1\n",
        "        # result = (result.multiply(1 / result.sum(1))).log1p()\n",
        "        result = result.log1p()\n",
        "        result = result.multiply(idf)\n",
        "  \n",
        "    if scale == 'std':\n",
        "        result = result.tocsc()\n",
        "        if scalers is None:\n",
        "            rstd = 1. / result.A.std(axis=0)\n",
        "            result = result.multiply(rstd)\n",
        "            return result.tocsr(), None, rstd\n",
        "        else:\n",
        "            result = result.multiply(scalers[1])\n",
        "    elif scale == 'minmax':\n",
        "        result = result.tocsc()\n",
        "        if scalers is None:\n",
        "            rmin = result.min()\n",
        "            result -= rmin\n",
        "            rmax = 1. / (result.max() + 1e-6)\n",
        "            result = result.multiply(rmax)\n",
        "            return result.tocsr(), rmin, rmax\n",
        "        else:\n",
        "          result -= scalers[0]\n",
        "          result = result.multiply(scalers[1])\n",
        "    elif scale == 'rownorm':\n",
        "        result = result.tocsr()\n",
        "        rown = np.expand_dims(1. / scipy.sparse.linalg.norm(result, axis=1), axis=1)\n",
        "        result = result.multiply(rown)\n",
        "        \n",
        "    return result.tocsr()\n",
        "\n",
        "\n",
        "\n",
        "# PAD_TOKEN = '__PAD__'\n",
        "# NUMERIC_TOKEN = '__NUMBER__'\n",
        "# NUMERIC_RE = re.compile(r'^([0-9.,e+\\-]+|[mcxvi]+)$', re.I)\n",
        "\n",
        "\n",
        "# def replace_number_nokens(tokenized_texts):\n",
        "#     return [[token if not NUMERIC_RE.match(token) else NUMERIC_TOKEN for token in text]\n",
        "#             for text in tokenized_texts]"
      ],
      "execution_count": 279,
      "outputs": []
    },
    {
      "cell_type": "markdown",
      "metadata": {
        "id": "mL2yxvOkqhVP"
      },
      "source": [
        "## Загрузка данных и подготовка корпуса"
      ]
    },
    {
      "cell_type": "code",
      "metadata": {
        "ExecuteTime": {
          "end_time": "2019-10-29T19:19:31.270503Z",
          "start_time": "2019-10-29T19:19:30.787789Z"
        },
        "id": "1cp3q3zAqhVQ",
        "colab": {
          "base_uri": "https://localhost:8080/"
        },
        "outputId": "2d11f7b5-89ef-4191-fe01-a5f918fdd709"
      },
      "source": [
        "# Если Вы запускаете ноутбук на colab или kaggle, добавьте в начало пути ./stepik-dl-nlp\n",
        "full_dataset = list(pd.read_csv('./stepik-dl-nlp/datasets/nyt-ingredients-snapshot-2015.csv')['input'].dropna())\n",
        "random.shuffle(full_dataset)\n",
        "\n",
        "TRAIN_VAL_SPLIT = int(len(full_dataset) * 0.7)\n",
        "train_source = full_dataset[:TRAIN_VAL_SPLIT]\n",
        "test_source = full_dataset[TRAIN_VAL_SPLIT:]\n",
        "print(\"Обучающая выборка\", len(train_source))\n",
        "print(\"Тестовая выборка\", len(test_source))\n",
        "print()\n",
        "print('\\n'.join(train_source[:10]))"
      ],
      "execution_count": 280,
      "outputs": [
        {
          "output_type": "stream",
          "text": [
            "Обучающая выборка 125344\n",
            "Тестовая выборка 53719\n",
            "\n",
            "110 grams (2 large) eggs\n",
            "1/2 teaspoon crushed fennel seeds\n",
            "2 ounces rendered chicken fat\n",
            "3 grams kosher salt (1 teaspoon)\n",
            "2 tablespoons soy sauce\n",
            "2 bay leaves\n",
            "5 tablespoons freshly squeezed lemon juice\n",
            "2 tablespoons salmon caviar\n",
            "1/4 cup chopped fresh Italian parsley\n",
            "1 cup arborio rice\n"
          ],
          "name": "stdout"
        }
      ]
    },
    {
      "cell_type": "code",
      "metadata": {
        "id": "C5D-cj_shqEs"
      },
      "source": [
        "# for i in range(len(train_source)):\n",
        "#     if 'bacon' in train_source[i]:\n",
        "#       print(train_source[i])"
      ],
      "execution_count": 194,
      "outputs": []
    },
    {
      "cell_type": "code",
      "metadata": {
        "ExecuteTime": {
          "end_time": "2019-10-29T19:19:32.137838Z",
          "start_time": "2019-10-29T19:19:31.272363Z"
        },
        "id": "PCFQ7jeRqhVQ",
        "colab": {
          "base_uri": "https://localhost:8080/"
        },
        "outputId": "91ce00a8-80e3-4624-aaa3-aba476aa6fca"
      },
      "source": [
        "# токенизируем\n",
        "train_tokenized = tokenize_corpus(train_source, tokenizer=tokenize_text_lemmatized)\n",
        "test_tokenized = tokenize_corpus(test_source, tokenizer=tokenize_text_lemmatized)\n",
        "print('\\n'.join(' '.join(sent) for sent in train_tokenized[:10]))"
      ],
      "execution_count": 281,
      "outputs": [
        {
          "output_type": "stream",
          "text": [
            "110 gram large egg\n",
            "teaspoon crushed fennel seed\n",
            "ounce rendered chicken fat\n",
            "gram kosher salt teaspoon\n",
            "tablespoon soy sauce\n",
            "bay leaf\n",
            "tablespoon freshly squeezed lemon juice\n",
            "tablespoon salmon caviar\n",
            "cup chopped fresh italian parsley\n",
            "cup arborio rice\n"
          ],
          "name": "stdout"
        }
      ]
    },
    {
      "cell_type": "code",
      "metadata": {
        "ExecuteTime": {
          "end_time": "2019-10-29T19:19:32.325205Z",
          "start_time": "2019-10-29T19:19:32.140837Z"
        },
        "id": "tqvBXk0_qhVR",
        "colab": {
          "base_uri": "https://localhost:8080/"
        },
        "outputId": "0add04de-fac9-48d4-d210-c0b34206c393"
      },
      "source": [
        "# строим словарь\n",
        "vocabulary, word_doc_freq = build_vocabulary(train_tokenized, max_doc_freq=0.9, min_count=5, pad_word='<PAD>')\n",
        "print(\"Размер словаря\", len(vocabulary))\n",
        "print(list(vocabulary.items())[:10])"
      ],
      "execution_count": 282,
      "outputs": [
        {
          "output_type": "stream",
          "text": [
            "Размер словаря 2135\n",
            "[('<PAD>', 0), ('cup', 1), ('tablespoon', 2), ('teaspoon', 3), ('chopped', 4), ('salt', 5), ('pepper', 6), ('pound', 7), ('ground', 8), ('oil', 9)]\n"
          ],
          "name": "stdout"
        }
      ]
    },
    {
      "cell_type": "code",
      "metadata": {
        "ExecuteTime": {
          "end_time": "2019-10-29T19:19:32.686258Z",
          "start_time": "2019-10-29T19:19:32.327711Z"
        },
        "id": "SMmkf6ddqhVS",
        "colab": {
          "base_uri": "https://localhost:8080/"
        },
        "outputId": "779ffdb6-2b9b-4632-cfcc-dd33a0bf0f45"
      },
      "source": [
        "# отображаем в номера токенов\n",
        "train_token_ids = texts_to_token_ids(train_tokenized, vocabulary)\n",
        "test_token_ids = texts_to_token_ids(test_tokenized, vocabulary)\n",
        "\n",
        "print('\\n'.join(' '.join(str(t) for t in sent)\n",
        "                for sent in train_token_ids[:10]))"
      ],
      "execution_count": 283,
      "outputs": [
        {
          "output_type": "stream",
          "text": [
            "1152 58 18 33\n",
            "3 101 197 61\n",
            "13 870 46 159\n",
            "58 56 5 3\n",
            "2 122 55\n",
            "82 25\n",
            "2 12 221 32 28\n",
            "2 257 610\n",
            "1 4 10 142 39\n",
            "1 388 72\n"
          ],
          "name": "stdout"
        }
      ]
    },
    {
      "cell_type": "code",
      "metadata": {
        "ExecuteTime": {
          "end_time": "2019-10-29T19:19:32.967989Z",
          "start_time": "2019-10-29T19:19:32.688319Z"
        },
        "id": "sxR-yPnqqhVT",
        "colab": {
          "base_uri": "https://localhost:8080/",
          "height": 281
        },
        "outputId": "0a05d94b-4c1a-48b5-c3b3-fd4a7eee101c"
      },
      "source": [
        "plt.hist([len(s) for s in train_token_ids], bins=20);\n",
        "plt.title('Гистограмма длин предложений');"
      ],
      "execution_count": 284,
      "outputs": [
        {
          "output_type": "display_data",
          "data": {
            "image/png": "[encoded data removed]",
            "text/plain": [
              "<Figure size 432x288 with 1 Axes>"
            ]
          },
          "metadata": {
            "tags": [],
            "needs_background": "light"
          }
        }
      ]
    },
    {
      "cell_type": "code",
      "metadata": {
        "ExecuteTime": {
          "end_time": "2019-10-29T19:19:33.001487Z",
          "start_time": "2019-10-29T19:19:32.970153Z"
        },
        "id": "i_RhdjNCqhVT",
        "colab": {
          "base_uri": "https://localhost:8080/"
        },
        "outputId": "ee9fed57-8d0e-48d8-fe88-8a2ffaf3094e"
      },
      "source": [
        "MAX_SENTENCE_LEN = 20\n",
        "train_dataset = PaddedSequenceDataset(train_token_ids,\n",
        "                                      np.zeros(len(train_token_ids)),\n",
        "                                      out_len=MAX_SENTENCE_LEN)\n",
        "test_dataset = PaddedSequenceDataset(test_token_ids,\n",
        "                                     np.zeros(len(test_token_ids)),\n",
        "                                     out_len=MAX_SENTENCE_LEN)\n",
        "print(train_dataset[0])"
      ],
      "execution_count": 285,
      "outputs": [
        {
          "output_type": "stream",
          "text": [
            "(tensor([1152,   58,   18,   33,    0,    0,    0,    0,    0,    0,    0,    0,\n",
            "           0,    0,    0,    0,    0,    0,    0,    0]), tensor(0))\n"
          ],
          "name": "stdout"
        }
      ]
    },
    {
      "cell_type": "markdown",
      "metadata": {
        "id": "f1FCqeDAqhVU"
      },
      "source": [
        "## Алгоритм обучения - Skip Gram Negative Sampling\n",
        "\n",
        "**Skip Gram** - предсказываем соседние слова по центральному слову\n",
        "\n",
        "**Negative Sampling** - аппроксимация softmax\n",
        "\n",
        "$$ W, D \\in \\mathbb{R}^{Vocab \\times EmbSize} $$\n",
        "\n",
        "$$ \\sum_{CenterW_i} P(CtxW_{-2}, CtxW_{-1}, CtxW_{+1}, CtxW_{+2} | CenterW_i; W, D) \\rightarrow \\max_{W,D} $$\n",
        "\n",
        "$$ P(CtxW_{-2}, CtxW_{-1}, CtxW_{+1}, CtxW_{+2} | CenterW_i; W, D) = \\prod_j P(CtxW_j | CenterW_i; W, D) $$\n",
        "    \n",
        "$$ P(CtxW_j | CenterW_i; W, D) = \\frac{e^{w_i \\cdot d_j}} { \\sum_{j=1}^{|V|} e^{w_i \\cdot d_j}} = softmax \\simeq \\frac{e^{w_i \\cdot d_j^+}} { \\sum_{j=1}^{k} e^{w_i \\cdot d_j^-}}, \\quad k \\ll |V| $$"
      ]
    },
    {
      "cell_type": "code",
      "metadata": {
        "ExecuteTime": {
          "end_time": "2019-10-29T19:19:33.065376Z",
          "start_time": "2019-10-29T19:19:33.003081Z"
        },
        "id": "dpMkisZbqhVW"
      },
      "source": [
        "def make_diag_mask(size, radius):\n",
        "    \"\"\"Квадратная матрица размера Size x Size с двумя полосами ширины radius вдоль главной диагонали\"\"\"\n",
        "    idxs = torch.arange(size)\n",
        "    abs_idx_diff = (idxs.unsqueeze(0) - idxs.unsqueeze(1)).abs()\n",
        "    mask = ((abs_idx_diff <= radius) & (abs_idx_diff > 0)).float()\n",
        "    return mask\n",
        "\n",
        "make_diag_mask(10, 3)"
      ],
      "execution_count": null,
      "outputs": []
    },
    {
      "cell_type": "markdown",
      "metadata": {
        "id": "ETIIXu2pqhVW"
      },
      "source": [
        "**Negative Sampling** работает следующим образом - мы **максимизируем сумму вероятностей двух событий**: \n",
        "\n",
        "* \"этот пример центрального слова вместе с контекстными словами взят **из тренировочной выборки**\": $$ P(y=1 | CenterW_i; CtxW_j) = sigmoid(w_i \\cdot d_j) = \\frac{1}{1+e^{-w_i \\cdot d_j}} $$\n",
        "\n",
        "$$ \\\\ $$\n",
        "\n",
        "* \"этот пример центрального слова вместе со случайми контекстными словами **выдуман** \": $$ P(y=0 | CenterW_i; CtxW_{noise}) = 1 - P(y=1 | CenterW_i;  CtxW_{noise}) = \\frac{1}{1+e^{w_i \\cdot d_{noise}}} $$\n",
        "\n",
        "$$ \\\\ $$\n",
        "\n",
        "$$ NEG(CtxW_j, CenterW_i) = log(\\frac{1}{1+e^{-w_i \\cdot d_j}}) + \\sum_{l=1}^{k}log(\\frac{1}{1+e^{w_i \\cdot d_{noise_l}}})  \\rightarrow \\max_{W,D} $$"
      ]
    },
    {
      "cell_type": "markdown",
      "metadata": {
        "id": "UMeW-bUzPdWx"
      },
      "source": [
        "* Помним, что совместная_встречаемость ~= W * D. То есть каждый раз, считая w_i*d_j, мы берем аппроксимацию совместной встречаемости двух слов. Как бы сравниваем их контексты."
      ]
    },
    {
      "cell_type": "markdown",
      "metadata": {
        "id": "pQj5JQLogHdM"
      },
      "source": [
        "### Model from the task"
      ]
    },
    {
      "cell_type": "code",
      "metadata": {
        "ExecuteTime": {
          "end_time": "2019-10-29T19:19:33.101379Z",
          "start_time": "2019-10-29T19:19:33.068154Z"
        },
        "id": "E1I0-KP-qhVW"
      },
      "source": [
        "class SkipGramNegativeSamplingTrainer(nn.Module):\n",
        "    def __init__(self, vocab_size, emb_size, sentence_len, radius=5, negative_samples_n=5):\n",
        "        super().__init__()\n",
        "        self.vocab_size = vocab_size\n",
        "        self.negative_samples_n = negative_samples_n\n",
        "\n",
        "        # nn.Embedding is a simple lookup table that stores embeddings of a fixed dictionary and size\n",
        "        # Variables:\n",
        "        # Embedding.weight (Tensor) – the learnable weights of the module of shape (num_embeddings, embedding_dim) \n",
        "        # initialized from N(0,1) distribution (not good for word2vec!)\n",
        "        \n",
        "        # center_embedding, or w, dim(w) = (voc_size, emb_size)\n",
        "        self.center_emb = nn.Embedding(self.vocab_size, emb_size, padding_idx=0)\n",
        "        self.center_emb.weight.data.uniform_(-1.0 / emb_size, 1.0 / emb_size)\n",
        "        self.center_emb.weight.data[0] = 0  # padding, тк у нас в словаре нулевой вектор -- это ничто. Вот поэтому нулевому вектору тут нули сообщаем. Он не будет обучаться.\n",
        "\n",
        "        # context_embedding, or d, dim(d) = (emb_size, voc_size)\n",
        "        self.context_emb = nn.Embedding(self.vocab_size, emb_size, padding_idx=0)        \n",
        "        self.context_emb.weight.data.uniform_(-1.0 / emb_size, 1.0 / emb_size)\n",
        "        self.context_emb.weight.data[0] = 0\n",
        "\n",
        "        self.positive_sim_mask = make_diag_mask(sentence_len, radius)\n",
        "    \n",
        "    def forward(self, sentences):\n",
        "        \"\"\"sentences - Batch x MaxSentLength - идентификаторы токенов\"\"\"\n",
        "        batch_size = sentences.shape[0]\n",
        "        center_embeddings = self.center_emb(sentences)  # Batch x MaxSentLength x EmbSize\n",
        "\n",
        "        # оценить сходство с настоящими соседними словами\n",
        "        positive_context_embs = self.context_emb(sentences).permute(0, 2, 1)  # Batch x EmbSize x MaxSentLength\n",
        "        # batch matrix multiplication\n",
        "        # Получаем набор матриц, содержащих оценку близости между парами токенов в одном предложении. Как бы по матрице на предложение. \n",
        "        positive_sims = torch.bmm(center_embeddings, positive_context_embs)  # Batch x MaxSentLength x MaxSentLength\n",
        "        # И преобразуем эти оценки в вероятности (сигмоида в 0,1 преобразует):\n",
        "        positive_probs = torch.sigmoid(positive_sims)\n",
        "\n",
        "        # увеличить оценку вероятности встретить эти пары слов вместе (парам вне маски зануляем вероятность)\n",
        "        positive_mask = self.positive_sim_mask.to(positive_sims.device)\n",
        "        positive_loss = F.binary_cross_entropy(positive_probs * positive_mask,\n",
        "                                               positive_mask.expand_as(positive_probs))  # маска размножится на все матрицы в батче\n",
        "\n",
        "        # выбрать случайные \"отрицательные\" слова\n",
        "        negative_words = torch.randint(1, self.vocab_size,\n",
        "                                       size=(batch_size, self.negative_samples_n),\n",
        "                                       device=sentences.device)  # Batch x NegSamplesN\n",
        "        negative_context_embs = self.context_emb(negative_words).permute(0, 2, 1)  # Batch x EmbSize x NegSamplesN\n",
        "        negative_sims = torch.bmm(center_embeddings, negative_context_embs)  # Batch x MaxSentLength x NegSamplesN\n",
        "        \n",
        "        # уменьшить оценку вероятность встретить эти пары слов вместе\n",
        "        # тут уже без сигмоиды в начале\n",
        "        # сравниваем с НУЛЯМИ => отрицательные примеры\n",
        "        negative_loss = F.binary_cross_entropy_with_logits(negative_sims,\n",
        "                                                           negative_sims.new_zeros(negative_sims.shape))\n",
        "\n",
        "        return positive_loss + negative_loss\n",
        "\n",
        "\n",
        "def no_loss(pred, target):\n",
        "    \"\"\"Фиктивная функция потерь - когда модель сама считает функцию потерь\"\"\"\n",
        "    return pred"
      ],
      "execution_count": 236,
      "outputs": []
    },
    {
      "cell_type": "markdown",
      "metadata": {
        "id": "HTuR77NKgB49"
      },
      "source": [
        "### Modified model"
      ]
    },
    {
      "cell_type": "code",
      "metadata": {
        "id": "C-CiGH6Zf9oQ"
      },
      "source": [
        "class SkipGramNegativeSamplingTrainer(nn.Module):\n",
        "    def __init__(self, vocab_size, emb_size, emb_size2, sentence_len, radius=5, negative_samples_n=5):\n",
        "        super().__init__()\n",
        "        self.vocab_size = vocab_size\n",
        "        self.negative_samples_n = negative_samples_n\n",
        "\n",
        "        # nn.Embedding is a simple lookup table that stores embeddings of a fixed dictionary and size\n",
        "        # Variables:\n",
        "        # Embedding.weight (Tensor) – the learnable weights of the module of shape (num_embeddings, embedding_dim) \n",
        "        # initialized from N(0,1) distribution (not good for word2vec!)\n",
        "        \n",
        "        # center_embedding, or w, dim(w) = (voc_size, emb_size)\n",
        "        self.center_emb = nn.Embedding(self.vocab_size, emb_size, padding_idx=0)\n",
        "        self.center_emb.weight.data.uniform_(-1.0 / emb_size, 1.0 / emb_size)\n",
        "        self.center_emb.weight.data[0] = 0  # padding, тк у нас в словаре нулевой вектор -- это ничто. Вот поэтому нулевому вектору тут нули сообщаем. Он не будет обучаться.\n",
        "\n",
        "        self.m_center1 = nn.Sequential(nn.Linear(emb_size, emb_size2))\n",
        "                                        # nn.ReLU(),\n",
        "                                        # nn.Linear(emb_size2, emb_size2))\n",
        "        self.m_center1[0].weight.data.uniform_(-1.0 / emb_size, 1.0 / emb_size2)\n",
        "        # self.m_center1[2].weight.data.uniform_(-1.0 / emb_size2, 1.0 / emb_size2)\n",
        "        \n",
        "        # context_embedding, or d, dim(d) = (emb_size, voc_size)\n",
        "        self.context_emb = nn.Embedding(self.vocab_size, emb_size, padding_idx=0)        \n",
        "        self.context_emb.weight.data.uniform_(-1.0 / emb_size, 1.0 / emb_size)\n",
        "        self.context_emb.weight.data[0] = 0\n",
        "        self.m_context1 = nn.Sequential(nn.Linear(emb_size, emb_size2))\n",
        "                                        # nn.ReLU(),\n",
        "                                        # nn.Linear(emb_size2, emb_size2))\n",
        "        self.m_context1[0].weight.data.uniform_(-1.0 / emb_size, 1.0 / emb_size2)\n",
        "        # self.m_context1[2].weight.data.uniform_(-1.0 / emb_size2, 1.0 / emb_size2)\n",
        "\n",
        "        self.positive_sim_mask = make_diag_mask(sentence_len, radius)\n",
        "    \n",
        "    def forward(self, sentences):\n",
        "        \"\"\"sentences - Batch x MaxSentLength - идентификаторы токенов\"\"\"\n",
        "        batch_size = sentences.shape[0]\n",
        "        center_embeddings = self.m_center1(self.center_emb(sentences))  # Batch x MaxSentLength x EmbSize\n",
        "\n",
        "        # оценить сходство с настоящими соседними словами\n",
        "        positive_context_embs = self.m_context1(self.context_emb(sentences)).permute(0, 2, 1)  # Batch x EmbSize x MaxSentLength\n",
        "        # batch matrix multiplication\n",
        "        # Получаем набор матриц, содержащих оценку близости между парами токенов в одном предложении. Как бы по матрице на предложение. \n",
        "        positive_sims = torch.bmm(center_embeddings, positive_context_embs)  # Batch x MaxSentLength x MaxSentLength\n",
        "        # И преобразуем эти оценки в вероятности (сигмоида в 0,1 преобразует):\n",
        "        positive_probs = torch.sigmoid(positive_sims)\n",
        "\n",
        "        # увеличить оценку вероятности встретить эти пары слов вместе (парам вне маски зануляем вероятность)\n",
        "        positive_mask = self.positive_sim_mask.to(positive_sims.device)\n",
        "        positive_loss = F.binary_cross_entropy(positive_probs * positive_mask,\n",
        "                                               positive_mask.expand_as(positive_probs))  # маска размножится на все матрицы в батче\n",
        "\n",
        "        # выбрать случайные \"отрицательные\" слова\n",
        "        negative_words = torch.randint(1, self.vocab_size,\n",
        "                                       size=(batch_size, self.negative_samples_n),\n",
        "                                       device=sentences.device)  # Batch x NegSamplesN\n",
        "        negative_context_embs = self.m_context1(self.context_emb(negative_words)).permute(0, 2, 1)  # Batch x EmbSize x NegSamplesN\n",
        "        negative_sims = torch.bmm(center_embeddings, negative_context_embs)  # Batch x MaxSentLength x NegSamplesN\n",
        "        \n",
        "        # уменьшить оценку вероятность встретить эти пары слов вместе\n",
        "        # тут уже без сигмоиды в начале\n",
        "        # сравниваем с НУЛЯМИ => отрицательные примеры\n",
        "        negative_loss = F.binary_cross_entropy_with_logits(negative_sims,\n",
        "                                                           negative_sims.new_zeros(negative_sims.shape))\n",
        "\n",
        "        return positive_loss + negative_loss\n",
        "\n",
        "\n",
        "def no_loss(pred, target):\n",
        "    \"\"\"Фиктивная функция потерь - когда модель сама считает функцию потерь\"\"\"\n",
        "    return pred"
      ],
      "execution_count": 263,
      "outputs": []
    },
    {
      "cell_type": "markdown",
      "metadata": {
        "id": "hVUxfpcfqhVX"
      },
      "source": [
        "## Обучение"
      ]
    },
    {
      "cell_type": "code",
      "metadata": {
        "ExecuteTime": {
          "end_time": "2019-10-29T19:19:33.130307Z",
          "start_time": "2019-10-29T19:19:33.103036Z"
        },
        "id": "McB_19JSqhVX"
      },
      "source": [
        "trainer = SkipGramNegativeSamplingTrainer(len(vocabulary), 100, 25, MAX_SENTENCE_LEN,\n",
        "                                          radius=4, negative_samples_n=150)"
      ],
      "execution_count": 332,
      "outputs": []
    },
    {
      "cell_type": "code",
      "metadata": {
        "ExecuteTime": {
          "end_time": "2019-10-29T19:20:12.830221Z",
          "start_time": "2019-10-29T19:19:33.132062Z"
        },
        "scrolled": false,
        "id": "eGw0wPf1qhVX",
        "colab": {
          "base_uri": "https://localhost:8080/"
        },
        "outputId": "9141f474-00da-4283-edab-f32b2f459e7d"
      },
      "source": [
        "best_val_loss, best_model = train_eval_loop(trainer,\n",
        "                                            train_dataset,\n",
        "                                            test_dataset,\n",
        "                                            no_loss,\n",
        "                                            lr=1e-2,\n",
        "                                            epoch_n=5,\n",
        "                                            batch_size=100,\n",
        "                                            device='cpu',\n",
        "                                            early_stopping_patience=10,\n",
        "                                            max_batches_per_epoch_train=2000,\n",
        "                                            max_batches_per_epoch_val=len(test_dataset),\n",
        "                                            lr_scheduler_ctor=lambda optim: torch.optim.lr_scheduler.ReduceLROnPlateau(optim, patience=1, verbose=True))"
      ],
      "execution_count": 345,
      "outputs": [
        {
          "output_type": "stream",
          "text": [
            "Эпоха 0\n",
            "Эпоха: 1254 итераций, 60.89 сек\n",
            "Среднее значение функции потерь на обучении 0.10014250699246519\n",
            "Среднее значение функции потерь на валидации 0.09895034414130958\n",
            "Новая лучшая модель!\n",
            "\n",
            "Эпоха 1\n",
            "Эпоха: 1254 итераций, 61.45 сек\n",
            "Среднее значение функции потерь на обучении 0.0984719876716867\n",
            "Среднее значение функции потерь на валидации 0.10020770409514913\n",
            "\n",
            "Эпоха 2\n",
            "Эпоха: 1254 итераций, 62.38 сек\n",
            "Среднее значение функции потерь на обучении 0.09797019799621672\n",
            "Среднее значение функции потерь на валидации 0.09801960513549667\n",
            "Новая лучшая модель!\n",
            "\n",
            "Эпоха 3\n",
            "Эпоха: 1254 итераций, 62.90 сек\n",
            "Среднее значение функции потерь на обучении 0.09773958565301873\n",
            "Среднее значение функции потерь на валидации 0.09959662524242384\n",
            "\n",
            "Эпоха 4\n",
            "Эпоха: 1254 итераций, 64.17 сек\n",
            "Среднее значение функции потерь на обучении 0.09757022569149115\n",
            "Среднее значение функции потерь на валидации 0.09914317725704062\n",
            "Epoch     5: reducing learning rate of group 0 to 1.0000e-03.\n",
            "\n"
          ],
          "name": "stdout"
        }
      ]
    },
    {
      "cell_type": "code",
      "metadata": {
        "ExecuteTime": {
          "end_time": "2019-10-29T19:20:12.862018Z",
          "start_time": "2019-10-29T19:20:12.832046Z"
        },
        "id": "ZyrMCatCqhVY"
      },
      "source": [
        "# Если Вы запускаете ноутбук на colab или kaggle, добавьте в начало пути ./stepik-dl-nlp\n",
        "torch.save(trainer.state_dict(), './stepik-dl-nlp/models/sgns.pth')"
      ],
      "execution_count": 268,
      "outputs": []
    },
    {
      "cell_type": "code",
      "metadata": {
        "ExecuteTime": {
          "end_time": "2019-10-29T19:20:12.888270Z",
          "start_time": "2019-10-29T19:20:12.864706Z"
        },
        "id": "mfG2VRLLqhVZ",
        "colab": {
          "base_uri": "https://localhost:8080/"
        },
        "outputId": "950486ea-f900-4f23-e602-1fcf37484e1b"
      },
      "source": [
        "# Если Вы запускаете ноутбук на colab или kaggle, добавьте в начало пути ./stepik-dl-nlp\n",
        "trainer.load_state_dict(torch.load('./stepik-dl-nlp/models/sgns.pth'))"
      ],
      "execution_count": 269,
      "outputs": [
        {
          "output_type": "execute_result",
          "data": {
            "text/plain": [
              "<All keys matched successfully>"
            ]
          },
          "metadata": {
            "tags": []
          },
          "execution_count": 269
        }
      ]
    },
    {
      "cell_type": "markdown",
      "metadata": {
        "id": "jX-KtNt7qhVZ"
      },
      "source": [
        "## Исследуем характеристики полученных векторов"
      ]
    },
    {
      "cell_type": "code",
      "metadata": {
        "ExecuteTime": {
          "end_time": "2019-10-29T19:20:12.919904Z",
          "start_time": "2019-10-29T19:20:12.890671Z"
        },
        "id": "imz9KjomqhVZ"
      },
      "source": [
        "embeddings = Embeddings(trainer.center_emb.weight.detach().cpu().numpy(), vocabulary)"
      ],
      "execution_count": 346,
      "outputs": []
    },
    {
      "cell_type": "code",
      "metadata": {
        "ExecuteTime": {
          "end_time": "2019-10-29T19:20:12.942708Z",
          "start_time": "2019-10-29T19:20:12.921619Z"
        },
        "id": "W49DZuCPqhVZ",
        "colab": {
          "base_uri": "https://localhost:8080/"
        },
        "outputId": "8a341b4a-2374-4168-dd20-36120f8b3b97"
      },
      "source": [
        "embeddings.most_similar('chicken')"
      ],
      "execution_count": 347,
      "outputs": [
        {
          "output_type": "execute_result",
          "data": {
            "text/plain": [
              "[('chicken', 0.9999292),\n",
              " ('breast', 0.6067734),\n",
              " ('thigh', 0.57988137),\n",
              " ('stock', 0.57520866),\n",
              " ('veal', 0.5749309),\n",
              " ('turkey', 0.56982243),\n",
              " ('broth', 0.55802584),\n",
              " ('low', 0.5220782),\n",
              " ('beef', 0.5125303),\n",
              " ('boneless', 0.50200784)]"
            ]
          },
          "metadata": {
            "tags": []
          },
          "execution_count": 347
        }
      ]
    },
    {
      "cell_type": "code",
      "metadata": {
        "id": "nL9zMin7lJRl",
        "outputId": "270fe1c1-34c7-4e55-90d0-782613a732e2",
        "colab": {
          "base_uri": "https://localhost:8080/"
        }
      },
      "source": [
        "embeddings.most_similar('tuna')"
      ],
      "execution_count": 348,
      "outputs": [
        {
          "output_type": "execute_result",
          "data": {
            "text/plain": [
              "[('tuna', 0.9999422),\n",
              " ('albacore', 0.5383381),\n",
              " ('yellowfin', 0.42809072),\n",
              " ('salmon', 0.42722157),\n",
              " ('steak', 0.41932508),\n",
              " ('dark', 0.4119804),\n",
              " ('filleted', 0.4077516),\n",
              " ('beef', 0.40425098),\n",
              " ('codfish', 0.37810814),\n",
              " ('fillet', 0.37209883)]"
            ]
          },
          "metadata": {
            "tags": []
          },
          "execution_count": 348
        }
      ]
    },
    {
      "cell_type": "code",
      "metadata": {
        "id": "5mgqjTzllhDK",
        "outputId": "5556194d-0e60-4269-dbb2-c1ba9b2a946f",
        "colab": {
          "base_uri": "https://localhost:8080/"
        }
      },
      "source": [
        "embeddings.most_similar('bacon')"
      ],
      "execution_count": 349,
      "outputs": [
        {
          "output_type": "execute_result",
          "data": {
            "text/plain": [
              "[('bacon', 0.99993837),\n",
              " ('pancetta', 0.61807024),\n",
              " ('slab', 0.614483),\n",
              " ('ham', 0.6047892),\n",
              " ('prosciutto', 0.5721566),\n",
              " ('smoked', 0.5295126),\n",
              " ('pork', 0.5073473),\n",
              " ('smithfield', 0.4552974),\n",
              " ('unsmoked', 0.45243314),\n",
              " ('hock', 0.45130658)]"
            ]
          },
          "metadata": {
            "tags": []
          },
          "execution_count": 349
        }
      ]
    },
    {
      "cell_type": "code",
      "metadata": {
        "id": "jY2HZLJtjGQ4",
        "outputId": "8ae74e2e-c4d7-4543-865e-365d4fd143ec",
        "colab": {
          "base_uri": "https://localhost:8080/"
        }
      },
      "source": [
        "embeddings.most_similar('oil')"
      ],
      "execution_count": 350,
      "outputs": [
        {
          "output_type": "execute_result",
          "data": {
            "text/plain": [
              "[('oil', 0.99992055),\n",
              " ('olive', 0.718619),\n",
              " ('canola', 0.6817753),\n",
              " ('virgin', 0.66168463),\n",
              " ('grapeseed', 0.6565249),\n",
              " ('neutral', 0.5947835),\n",
              " ('safflower', 0.56877834),\n",
              " ('sesame', 0.56015867),\n",
              " ('peanut', 0.52263623),\n",
              " ('frying', 0.49860206)]"
            ]
          },
          "metadata": {
            "tags": []
          },
          "execution_count": 350
        }
      ]
    },
    {
      "cell_type": "code",
      "metadata": {
        "id": "9g9-mjJGhPsy",
        "outputId": "10948ba1-1bb8-4a1d-9f4d-9d4c8dfa1a29",
        "colab": {
          "base_uri": "https://localhost:8080/"
        }
      },
      "source": [
        "embeddings.most_similar('sodium')"
      ],
      "execution_count": 351,
      "outputs": [
        {
          "output_type": "execute_result",
          "data": {
            "text/plain": [
              "[('sodium', 0.9999566),\n",
              " ('low', 0.684923),\n",
              " ('soy', 0.5956183),\n",
              " ('reduced', 0.5458027),\n",
              " ('tamari', 0.4993348),\n",
              " ('broth', 0.49894872),\n",
              " ('stock', 0.48982346),\n",
              " ('sauce', 0.4640439),\n",
              " ('homemade', 0.44424206),\n",
              " ('lowfat', 0.4421827)]"
            ]
          },
          "metadata": {
            "tags": []
          },
          "execution_count": 351
        }
      ]
    },
    {
      "cell_type": "code",
      "metadata": {
        "id": "mrHGojVIhgzQ",
        "outputId": "cf2a6a5f-f1c5-4558-cc88-64a1028c8857",
        "colab": {
          "base_uri": "https://localhost:8080/"
        }
      },
      "source": [
        "embeddings.most_similar('tomato')"
      ],
      "execution_count": 352,
      "outputs": [
        {
          "output_type": "execute_result",
          "data": {
            "text/plain": [
              "[('tomato', 0.9999264),\n",
              " ('plum', 0.6574494),\n",
              " ('canned', 0.6014982),\n",
              " ('ripe', 0.5895911),\n",
              " ('seeded', 0.5348601),\n",
              " ('mango', 0.513061),\n",
              " ('stewed', 0.49023747),\n",
              " ('marzano', 0.46967405),\n",
              " ('avocado', 0.4644082),\n",
              " ('rom', 0.4436243)]"
            ]
          },
          "metadata": {
            "tags": []
          },
          "execution_count": 352
        }
      ]
    },
    {
      "cell_type": "code",
      "metadata": {
        "ExecuteTime": {
          "end_time": "2019-10-29T19:20:12.965936Z",
          "start_time": "2019-10-29T19:20:12.944423Z"
        },
        "id": "4uZoamcpqhVZ",
        "colab": {
          "base_uri": "https://localhost:8080/"
        },
        "outputId": "0f1b7ccf-39f1-490a-c56b-7daf09ae9923"
      },
      "source": [
        "embeddings.analogy('cake', 'cacao', 'cheese')"
      ],
      "execution_count": 353,
      "outputs": [
        {
          "output_type": "execute_result",
          "data": {
            "text/plain": [
              "[('cacao', 1.1905001),\n",
              " ('cheese', 1.0087551),\n",
              " ('gruyere', 0.7649254),\n",
              " ('fontina', 0.7374735),\n",
              " ('reduced', 0.6934726),\n",
              " ('percent', 0.6849265),\n",
              " ('swiss', 0.6712853),\n",
              " ('monterey', 0.6643499),\n",
              " ('jack', 0.65129864),\n",
              " ('mozzarella', 0.64763993)]"
            ]
          },
          "metadata": {
            "tags": []
          },
          "execution_count": 353
        }
      ]
    },
    {
      "cell_type": "code",
      "metadata": {
        "ExecuteTime": {
          "end_time": "2019-10-29T19:20:12.991060Z",
          "start_time": "2019-10-29T19:20:12.967532Z"
        },
        "id": "qotnZhwVqhVa",
        "colab": {
          "base_uri": "https://localhost:8080/"
        },
        "outputId": "d11fa402-5f50-4e8b-a383-65a014b22987"
      },
      "source": [
        "test_words = ['salad', 'fish', 'salmon', 'sauvignon', 'beef', 'pork', 'steak', 'beer', 'cake', 'cookie', 'matcha', 'coffee', 'sausage', 'wine', \n",
        "              'merlot', 'zinfandel', 'trout', 'chardonnay', 'champagne', 'cacao', 'bacon', 'salt', 'chorizo', 'chicken', 'veal', 'tea', 'herring', \n",
        "              'fat', 'butter', 'dough', 'yeast', 'potato', 'gouda', 'pasta', 'egg', 'cheese', 'oil']\n",
        "test_vectors = embeddings.get_vectors(*test_words)\n",
        "print(test_vectors.shape)"
      ],
      "execution_count": 354,
      "outputs": [
        {
          "output_type": "stream",
          "text": [
            "(37, 100)\n"
          ],
          "name": "stdout"
        }
      ]
    },
    {
      "cell_type": "code",
      "metadata": {
        "ExecuteTime": {
          "end_time": "2019-10-29T19:20:13.318676Z",
          "start_time": "2019-10-29T19:20:12.996595Z"
        },
        "id": "m5ZlkHhdqhVa",
        "colab": {
          "base_uri": "https://localhost:8080/",
          "height": 592
        },
        "outputId": "ccd79e8d-41df-4bd8-a939-ee0716065a96"
      },
      "source": [
        "fig, ax = plt.subplots()\n",
        "fig.set_size_inches((10, 10))\n",
        "plot_vectors(test_vectors, test_words, how='svd', ax=ax)"
      ],
      "execution_count": 355,
      "outputs": [
        {
          "output_type": "display_data",
          "data": {
            "image/png": "[encoded data removed]",
            "text/plain": [
              "<Figure size 720x720 with 1 Axes>"
            ]
          },
          "metadata": {
            "tags": [],
            "needs_background": "light"
          }
        }
      ]
    },
    {
      "cell_type": "markdown",
      "metadata": {
        "id": "GYWOZKu2kB2U"
      },
      "source": [
        "Добавление слоев сильно уменьшает функцию потерь, но в плане смысла особо ничего не привносит. Попробовала еще лемматизацию для большей логичности.\n",
        "В целом, корпус показался мне очень ограниченным, некоторые слова имели маленькое расстояние со своими частными описаниями, которые не равным им по смыслу. Это не удивительно, ведь в исходнике это просто таблица с описанием ингридиентов с комментариями. И скорее всего контекст для некоторых слов сдвинут вправо, тк в таблице описываемое слово (ингридиент) может быть левее остальных. Некоторые вещи прямо очевидно обучались в зависимости от очень ограниченного контекста. Так, виды мяса и некоторая рыба скорее всего рядом из-за глаголов или описаний подготовки, количества и специй. Растительное масло иногда классифицировалось рядом с напитками. Обычное масло иногда было с растительным, а иногда с картошкой (потому что их жарят друг на друге и режут похожими кусочками). В общем, странное ощущение осталось. Gensim давал не более осмысленные результаты в графиках, но похожие слова были более адекватными.\n",
        "Редкие слова типа селедки совсем в случайных местах появлялись. Еще я во вроде бы нормальной модели получила для \"bacon\" максимально похожее \"vegan\"...\n"
      ]
    },
    {
      "cell_type": "markdown",
      "metadata": {
        "id": "Oxoh6qMeqhVb"
      },
      "source": [
        "## Обучение Word2Vec с помощью Gensim"
      ]
    },
    {
      "cell_type": "code",
      "metadata": {
        "ExecuteTime": {
          "end_time": "2019-10-29T19:20:13.613797Z",
          "start_time": "2019-10-29T19:20:13.321353Z"
        },
        "id": "wUGv1ckjqhVb"
      },
      "source": [
        "import gensim"
      ],
      "execution_count": 299,
      "outputs": []
    },
    {
      "cell_type": "code",
      "metadata": {
        "ExecuteTime": {
          "end_time": "2019-10-29T19:20:17.075005Z",
          "start_time": "2019-10-29T19:20:13.615729Z"
        },
        "id": "Y52A2qibqhVb"
      },
      "source": [
        "word2vec = gensim.models.Word2Vec(sentences=train_tokenized, size=100,\n",
        "                                  window=5, min_count=5, workers=4,\n",
        "                                  sg=1, iter=10)"
      ],
      "execution_count": 300,
      "outputs": []
    },
    {
      "cell_type": "code",
      "metadata": {
        "ExecuteTime": {
          "end_time": "2019-10-29T19:20:17.109583Z",
          "start_time": "2019-10-29T19:20:17.076599Z"
        },
        "id": "W__aRSBuqhVb",
        "colab": {
          "base_uri": "https://localhost:8080/"
        },
        "outputId": "27fa8050-7e85-49ac-d7dc-a49d064a596e"
      },
      "source": [
        "word2vec.wv.most_similar('chicken')"
      ],
      "execution_count": 301,
      "outputs": [
        {
          "output_type": "execute_result",
          "data": {
            "text/plain": [
              "[('pheasant', 0.7331377863883972),\n",
              " ('duck', 0.7282923460006714),\n",
              " ('simmering', 0.713661789894104),\n",
              " ('capon', 0.7025219202041626),\n",
              " ('neck', 0.6982988715171814),\n",
              " ('thigh', 0.6884560585021973),\n",
              " ('gizzard', 0.6864532828330994),\n",
              " ('turkey', 0.6811442375183105),\n",
              " ('breast', 0.6788679361343384),\n",
              " ('drumstick', 0.6776902675628662)]"
            ]
          },
          "metadata": {
            "tags": []
          },
          "execution_count": 301
        }
      ]
    },
    {
      "cell_type": "code",
      "metadata": {
        "id": "ubTi67IelN4l",
        "outputId": "60fe3eb5-84be-40fe-9426-857e7c9e24ae",
        "colab": {
          "base_uri": "https://localhost:8080/"
        }
      },
      "source": [
        "word2vec.wv.most_similar('sodium')"
      ],
      "execution_count": 305,
      "outputs": [
        {
          "output_type": "execute_result",
          "data": {
            "text/plain": [
              "[('low', 0.8853210210800171),\n",
              " ('reduced', 0.842971920967102),\n",
              " ('tamari', 0.7666234374046326),\n",
              " ('rich', 0.7603530883789062),\n",
              " ('defatted', 0.7431867122650146),\n",
              " ('manis', 0.7080501317977905),\n",
              " ('simmering', 0.7078827023506165),\n",
              " ('worcestershire', 0.695085883140564),\n",
              " ('hoisin', 0.6901553869247437),\n",
              " ('homemade', 0.6866335272789001)]"
            ]
          },
          "metadata": {
            "tags": []
          },
          "execution_count": 305
        }
      ]
    },
    {
      "cell_type": "code",
      "metadata": {
        "id": "BtUWGwLBlP7Y",
        "outputId": "bc1ed04c-abce-4381-b35b-4963f858c359",
        "colab": {
          "base_uri": "https://localhost:8080/"
        }
      },
      "source": [
        "word2vec.wv.most_similar('oil')"
      ],
      "execution_count": 306,
      "outputs": [
        {
          "output_type": "execute_result",
          "data": {
            "text/plain": [
              "[('grapeseed', 0.7725487351417542),\n",
              " ('canola', 0.7514982223510742),\n",
              " ('oiling', 0.7232344150543213),\n",
              " ('neutral', 0.7227904796600342),\n",
              " ('safflower', 0.7167354226112366),\n",
              " ('drizzle', 0.7137271165847778),\n",
              " ('olive', 0.6959928274154663),\n",
              " ('virgin', 0.691914975643158),\n",
              " ('frying', 0.6702783107757568),\n",
              " ('grilling', 0.6701228618621826)]"
            ]
          },
          "metadata": {
            "tags": []
          },
          "execution_count": 306
        }
      ]
    },
    {
      "cell_type": "code",
      "metadata": {
        "id": "HwN7lDSZlQ_o",
        "outputId": "9f45134b-6490-4aa5-ebd3-20ec935fe919",
        "colab": {
          "base_uri": "https://localhost:8080/"
        }
      },
      "source": [
        "word2vec.wv.most_similar('bacon')"
      ],
      "execution_count": 307,
      "outputs": [
        {
          "output_type": "execute_result",
          "data": {
            "text/plain": [
              "[('slab', 0.806563675403595),\n",
              " ('pancetta', 0.7539657354354858),\n",
              " ('prosciutto', 0.7504619359970093),\n",
              " ('ham', 0.725888192653656),\n",
              " ('unsmoked', 0.7017194628715515),\n",
              " ('canadian', 0.6934816241264343),\n",
              " ('lardons', 0.6862063407897949),\n",
              " ('chorizo', 0.68161940574646),\n",
              " ('belly', 0.6406422853469849),\n",
              " ('virginia', 0.6391003131866455)]"
            ]
          },
          "metadata": {
            "tags": []
          },
          "execution_count": 307
        }
      ]
    },
    {
      "cell_type": "code",
      "metadata": {
        "id": "KBgMpZ7FlRES",
        "outputId": "1b59d2b7-a3c9-438f-abd3-3dd077c893a0",
        "colab": {
          "base_uri": "https://localhost:8080/"
        }
      },
      "source": [
        "word2vec.wv.most_similar('herring')"
      ],
      "execution_count": 308,
      "outputs": [
        {
          "output_type": "execute_result",
          "data": {
            "text/plain": [
              "[('atlantic', 0.8508036732673645),\n",
              " ('whitefish', 0.8391577005386353),\n",
              " ('haddock', 0.8389685153961182),\n",
              " ('bluefish', 0.8310828804969788),\n",
              " ('pike', 0.8306839466094971),\n",
              " ('sturgeon', 0.8265160322189331),\n",
              " ('pompano', 0.8184292316436768),\n",
              " ('alaskan', 0.8154593706130981),\n",
              " ('mahi', 0.8147493004798889),\n",
              " ('blackfish', 0.813718318939209)]"
            ]
          },
          "metadata": {
            "tags": []
          },
          "execution_count": 308
        }
      ]
    },
    {
      "cell_type": "code",
      "metadata": {
        "ExecuteTime": {
          "end_time": "2019-10-29T19:20:17.176357Z",
          "start_time": "2019-10-29T19:20:17.112948Z"
        },
        "id": "r27ivOpSqhVc"
      },
      "source": [
        "gensim_words = [w for w in test_words if w in word2vec.wv.vocab]\n",
        "gensim_vectors = np.stack([word2vec.wv[w] for w in gensim_words])"
      ],
      "execution_count": 302,
      "outputs": []
    },
    {
      "cell_type": "code",
      "metadata": {
        "ExecuteTime": {
          "end_time": "2019-10-29T19:20:17.428874Z",
          "start_time": "2019-10-29T19:20:17.179311Z"
        },
        "id": "gpxgKnVrqhVd",
        "colab": {
          "base_uri": "https://localhost:8080/",
          "height": 592
        },
        "outputId": "0dc663a9-e2f9-454b-f7ad-90335cadaa01"
      },
      "source": [
        "fig, ax = plt.subplots()\n",
        "fig.set_size_inches((10, 10))\n",
        "plot_vectors(gensim_vectors, test_words, how='svd', ax=ax)"
      ],
      "execution_count": 303,
      "outputs": [
        {
          "output_type": "display_data",
          "data": {
            "image/png": "[encoded data removed]",
            "text/plain": [
              "<Figure size 720x720 with 1 Axes>"
            ]
          },
          "metadata": {
            "tags": [],
            "needs_background": "light"
          }
        }
      ]
    },
    {
      "cell_type": "markdown",
      "metadata": {
        "id": "9TI0DvCwqhVd"
      },
      "source": [
        "## Загрузка предобученного Word2Vec\n",
        "\n",
        "Источники готовых векторов:\n",
        "\n",
        "https://rusvectores.org/ru/ - для русского языка\n",
        "\n",
        "https://wikipedia2vec.github.io/wikipedia2vec/pretrained/ - много разных языков"
      ]
    },
    {
      "cell_type": "code",
      "metadata": {
        "ExecuteTime": {
          "end_time": "2019-10-29T19:20:17.460133Z",
          "start_time": "2019-10-29T19:20:17.430563Z"
        },
        "id": "Mi48BvB5qhVd"
      },
      "source": [
        "import gensim.downloader as api"
      ],
      "execution_count": 325,
      "outputs": []
    },
    {
      "cell_type": "code",
      "metadata": {
        "ExecuteTime": {
          "end_time": "2019-10-29T19:20:17.980509Z",
          "start_time": "2019-10-29T19:20:17.462239Z"
        },
        "id": "XUOlESxuqhVd",
        "colab": {
          "base_uri": "https://localhost:8080/"
        },
        "outputId": "0c233db3-402e-41fa-e3a1-1d53c9098f40"
      },
      "source": [
        "available_models = api.info()['models'].keys()\n",
        "print('\\n'.join(available_models))"
      ],
      "execution_count": 326,
      "outputs": [
        {
          "output_type": "stream",
          "text": [
            "fasttext-wiki-news-subwords-300\n",
            "conceptnet-numberbatch-17-06-300\n",
            "word2vec-ruscorpora-300\n",
            "word2vec-google-news-300\n",
            "glove-wiki-gigaword-50\n",
            "glove-wiki-gigaword-100\n",
            "glove-wiki-gigaword-200\n",
            "glove-wiki-gigaword-300\n",
            "glove-twitter-25\n",
            "glove-twitter-50\n",
            "glove-twitter-100\n",
            "glove-twitter-200\n",
            "__testing_word2vec-matrix-synopsis\n"
          ],
          "name": "stdout"
        }
      ]
    },
    {
      "cell_type": "code",
      "metadata": {
        "ExecuteTime": {
          "end_time": "2019-10-29T19:22:12.649035Z",
          "start_time": "2019-10-29T19:20:17.984118Z"
        },
        "scrolled": false,
        "id": "hbAzf9cjqhVd",
        "colab": {
          "base_uri": "https://localhost:8080/"
        },
        "outputId": "23016522-4118-435c-fd97-fe2130a2cbfb"
      },
      "source": [
        "pretrained = api.load('word2vec-google-news-300')  # > 1.5 GB!"
      ],
      "execution_count": 327,
      "outputs": [
        {
          "output_type": "stream",
          "text": [
            "[==================================================] 100.0% 1662.8/1662.8MB downloaded\n"
          ],
          "name": "stdout"
        }
      ]
    },
    {
      "cell_type": "code",
      "metadata": {
        "ExecuteTime": {
          "end_time": "2019-10-29T19:22:12.651388Z",
          "start_time": "2019-10-29T19:19:29.817Z"
        },
        "id": "n_Hy6RXWqhVd",
        "colab": {
          "base_uri": "https://localhost:8080/"
        },
        "outputId": "a828121d-6fa8-4e6c-b43b-7856387506d7"
      },
      "source": [
        "pretrained.most_similar('cheese')"
      ],
      "execution_count": 328,
      "outputs": [
        {
          "output_type": "execute_result",
          "data": {
            "text/plain": [
              "[('cheeses', 0.7789000272750854),\n",
              " ('cheddar', 0.7627596855163574),\n",
              " ('goat_cheese', 0.7297402620315552),\n",
              " ('Cheese', 0.7286962866783142),\n",
              " ('cheddar_cheese', 0.7255136966705322),\n",
              " ('Cheddar_cheese', 0.6943708658218384),\n",
              " ('mozzarella', 0.6805709600448608),\n",
              " ('cheddar_cheeses', 0.6694672703742981),\n",
              " ('Camembert', 0.6623163223266602),\n",
              " ('gruyere', 0.6615148186683655)]"
            ]
          },
          "metadata": {
            "tags": []
          },
          "execution_count": 328
        }
      ]
    },
    {
      "cell_type": "code",
      "metadata": {
        "ExecuteTime": {
          "end_time": "2019-10-29T19:22:12.652649Z",
          "start_time": "2019-10-29T19:19:29.820Z"
        },
        "id": "x7FcWhecqhVe",
        "colab": {
          "base_uri": "https://localhost:8080/"
        },
        "outputId": "4e6d7809-b609-49ea-8571-2589a825697b"
      },
      "source": [
        "pretrained.most_similar(positive=['man', 'queen'], negative=['king'])"
      ],
      "execution_count": null,
      "outputs": [
        {
          "output_type": "execute_result",
          "data": {
            "text/plain": [
              "[('woman', 0.7609435319900513),\n",
              " ('girl', 0.6139994263648987),\n",
              " ('teenage_girl', 0.6040961742401123),\n",
              " ('teenager', 0.5825759172439575),\n",
              " ('lady', 0.5752554535865784),\n",
              " ('boy', 0.5077576637268066),\n",
              " ('policewoman', 0.5066847801208496),\n",
              " ('schoolgirl', 0.5052095651626587),\n",
              " ('blonde', 0.48696184158325195),\n",
              " ('person', 0.48637545108795166)]"
            ]
          },
          "metadata": {
            "tags": []
          },
          "execution_count": 25
        }
      ]
    },
    {
      "cell_type": "code",
      "metadata": {
        "ExecuteTime": {
          "end_time": "2019-10-29T19:22:12.653584Z",
          "start_time": "2019-10-29T19:19:29.823Z"
        },
        "id": "_-2YIdbHqhVe"
      },
      "source": [
        "pretrained_words = [w for w in test_words if w in pretrained.vocab]\n",
        "pretrained_vectors = np.stack([pretrained[w] for w in pretrained_words])"
      ],
      "execution_count": 330,
      "outputs": []
    },
    {
      "cell_type": "code",
      "metadata": {
        "ExecuteTime": {
          "end_time": "2019-10-29T19:22:12.654594Z",
          "start_time": "2019-10-29T19:19:29.828Z"
        },
        "id": "cA8ZTYzyqhVe",
        "colab": {
          "base_uri": "https://localhost:8080/",
          "height": 592
        },
        "outputId": "debf1045-c08f-4a49-b86f-14e79571b5a8"
      },
      "source": [
        "fig, ax = plt.subplots()\n",
        "fig.set_size_inches((10, 10))\n",
        "plot_vectors(pretrained_vectors, test_words, how='svd', ax=ax)"
      ],
      "execution_count": 331,
      "outputs": [
        {
          "output_type": "display_data",
          "data": {
            "image/png": "[encoded data removed]",
            "text/plain": [
              "<Figure size 720x720 with 1 Axes>"
            ]
          },
          "metadata": {
            "tags": [],
            "needs_background": "light"
          }
        }
      ]
    },
    {
      "cell_type": "markdown",
      "metadata": {
        "id": "YpveHd_GqhVe"
      },
      "source": [
        "## Заключение\n",
        "\n",
        "* Реализовали Skip Gram Negative Sampling на PyTorch\n",
        "* Обучили на корпусе рецептов\n",
        "    * Сходство слов модель выучила неплохо\n",
        "    * Для аналогий мало данных\n",
        "* Обучили SGNS с помощью библиотеки Gensim\n",
        "* Загрузили веса Word2Vec, полученные с помощью большого корпуса (GoogleNews)\n",
        "    * Списки похожих слов отличаются!\n",
        "    * Аналогии работают"
      ]
    },
    {
      "cell_type": "code",
      "metadata": {
        "id": "eVkFcey0qhVf"
      },
      "source": [
        ""
      ],
      "execution_count": null,
      "outputs": []
    }
  ]
}